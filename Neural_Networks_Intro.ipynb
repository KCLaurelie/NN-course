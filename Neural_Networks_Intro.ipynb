{
  "nbformat": 4,
  "nbformat_minor": 0,
  "metadata": {
    "colab": {
      "name": "Neural Networks Intro.ipynb",
      "version": "0.3.2",
      "provenance": [],
      "collapsed_sections": [],
      "include_colab_link": true
    },
    "kernelspec": {
      "name": "python3",
      "display_name": "Python 3"
    }
  },
  "cells": [
    {
      "cell_type": "markdown",
      "metadata": {
        "id": "view-in-github",
        "colab_type": "text"
      },
      "source": [
        "<a href=\"https://colab.research.google.com/github/KCLaurelie/NN-course/blob/master/Neural_Networks_Intro.ipynb\" target=\"_parent\"><img src=\"https://colab.research.google.com/assets/colab-badge.svg\" alt=\"Open In Colab\"/></a>"
      ]
    },
    {
      "cell_type": "code",
      "metadata": {
        "id": "IQDLSEDWIGOi",
        "colab_type": "code",
        "colab": {}
      },
      "source": [
        "import matplotlib.pyplot as plt\n",
        "import numpy as np\n",
        "import torch\n",
        "from torch import nn\n",
        "import torch.nn.functional as F\n",
        "import sklearn.metrics"
      ],
      "execution_count": 0,
      "outputs": []
    },
    {
      "cell_type": "markdown",
      "metadata": {
        "id": "ujmQVjC-IbRT",
        "colab_type": "text"
      },
      "source": [
        "**Neurons are the basic building blocks of Neural Networks**\n",
        "\n",
        "Usually a neural network has thousands or millions of neurons, but let's for now work with a network that has only one.\n",
        "\n",
        "<img src=\"https://drive.google.com/uc?export=view&id=1ZTKIeLniLfuTuaCIlP9vvP_glTnURoP1\" height='250px' />\n",
        "\n",
        "$\n",
        "x_1 - \\text{Input} \\\\\n",
        "ŷ_1 - \\text{Output} \\\\\n",
        "$\n",
        "\n",
        "$\n",
        "z_1 = w_1 \\cdot x_1 + b_1 \\\\\n",
        "w_1 - \\text{Weight for the first input} \\\\\n",
        "b_1 - \\text{Bias term for this neuron} \\\\\n",
        "z_1 - \\text{The linear combination of the inputs and the weights + a bias} \\\\\n",
        "$\n",
        "\n",
        "$\n",
        "\\theta = \\{w, b\\} \\\\\n",
        "\\theta - \\text{Parameters of the model/network} \\\\\n",
        "$\n",
        "\n",
        "$\n",
        "ŷ_1 = f(z_1) \\\\\n",
        "f - \\text{The activation function} \\\\\n",
        "$\n",
        "\n"
      ]
    },
    {
      "cell_type": "markdown",
      "metadata": {
        "id": "KBFKRgUEninT",
        "colab_type": "text"
      },
      "source": [
        "**Activation functions**\n",
        "\n",
        "Linear:\n",
        "\n",
        "$f(z) = z$\n",
        "\n",
        "---\n",
        "Step:\n",
        "\n",
        "$f(z) = \\begin{cases}\n",
        "    1,& \\text{if } x > 0\\\\\n",
        "    0,              & x \\le 0\n",
        "\\end{cases}$\n",
        "\n",
        "---\n",
        "Sigmoid:\n",
        "\n",
        "$f(z) = \\frac{1}{1 + e^{-z}}$\n",
        "\n",
        "---\n",
        "tanh:\n",
        "\n",
        "$f(z) = tanh(z) = \\frac{1 - e^{-x}}{1 + e^{-x}}$\n",
        "\n",
        "---\n",
        "ReLU:\n",
        "\n",
        "$f(z) = max(0, z)$\n",
        "\n"
      ]
    },
    {
      "cell_type": "code",
      "metadata": {
        "id": "IJ3C53nLnXng",
        "colab_type": "code",
        "colab": {}
      },
      "source": [
        "def step(z):\n",
        "  # Show an example for indexing (how to access number > X)\n",
        "  return np.array(z > 0, dtype=np.int32)\n",
        "\n",
        "def sigmoid(z):\n",
        "  return 1 / (1 + np.exp(-z))\n",
        "\n",
        "def tanh(z):\n",
        "  return np.tanh(z)\n",
        "\n",
        "def relu(z):\n",
        "  return np.maximum(0, z)"
      ],
      "execution_count": 0,
      "outputs": []
    },
    {
      "cell_type": "code",
      "metadata": {
        "id": "DFZtd4J3qygv",
        "colab_type": "code",
        "colab": {}
      },
      "source": [
        "def plot(z, yh):\n",
        "  plt.grid(True)\n",
        "  plt.xlabel('z')\n",
        "  plt.ylabel('ŷ')\n",
        "  plt.plot(z, yh, label='Linear', color='b')\n",
        "  plt.axhline(0, color='orange')\n",
        "  plt.axvline(0, color='orange')\n",
        "  plt.legend()\n",
        "  plt.show()"
      ],
      "execution_count": 0,
      "outputs": []
    },
    {
      "cell_type": "code",
      "metadata": {
        "id": "7hwUZfB5lm-s",
        "colab_type": "code",
        "outputId": "a52a9c90-cba5-47f6-b74b-1f4511a258f5",
        "colab": {
          "base_uri": "https://localhost:8080/",
          "height": 334
        }
      },
      "source": [
        "z = np.linspace(-10, 10, 100)\n",
        "\n",
        "yh = step(z)\n",
        "print(z[0:3], z[-3:])\n",
        "print()\n",
        "print(yh[0:3], yh[-3:])\n",
        "plot(z, yh)"
      ],
      "execution_count": 0,
      "outputs": [
        {
          "output_type": "stream",
          "text": [
            "[-10.         -9.7979798  -9.5959596] [ 9.5959596  9.7979798 10.       ]\n",
            "\n",
            "[0 0 0] [1 1 1]\n"
          ],
          "name": "stdout"
        },
        {
          "output_type": "display_data",
          "data": {
            "image/png": "[encoded data removed]",
            "text/plain": [
              "<Figure size 432x288 with 1 Axes>"
            ]
          },
          "metadata": {
            "tags": []
          }
        }
      ]
    },
    {
      "cell_type": "code",
      "metadata": {
        "id": "uyQk5swil_Es",
        "colab_type": "code",
        "outputId": "a4d95fbc-aaeb-4e29-8f51-af00a0332aa5",
        "colab": {
          "base_uri": "https://localhost:8080/",
          "height": 334
        }
      },
      "source": [
        "yh = relu(z)\n",
        "print(z[0:3], z[-3:])\n",
        "print()\n",
        "print(yh[0:3], yh[-3:])\n",
        "plot(z, yh)"
      ],
      "execution_count": 0,
      "outputs": [
        {
          "output_type": "stream",
          "text": [
            "[-10.         -9.7979798  -9.5959596] [ 9.5959596  9.7979798 10.       ]\n",
            "\n",
            "[0. 0. 0.] [ 9.5959596  9.7979798 10.       ]\n"
          ],
          "name": "stdout"
        },
        {
          "output_type": "display_data",
          "data": {
            "image/png": "[encoded data removed]",
            "text/plain": [
              "<Figure size 432x288 with 1 Axes>"
            ]
          },
          "metadata": {
            "tags": []
          }
        }
      ]
    },
    {
      "cell_type": "code",
      "metadata": {
        "id": "7MAyNnZ8q-XR",
        "colab_type": "code",
        "outputId": "944de27c-2e1b-4a09-d2fd-d68e606199a4",
        "colab": {
          "base_uri": "https://localhost:8080/",
          "height": 334
        }
      },
      "source": [
        "yh = sigmoid(z)\n",
        "print(z[0:3], z[-3:])\n",
        "print()\n",
        "print(yh[0:3], yh[-3:])\n",
        "plot(z, yh)"
      ],
      "execution_count": 0,
      "outputs": [
        {
          "output_type": "stream",
          "text": [
            "[-10.         -9.7979798  -9.5959596] [ 9.5959596  9.7979798 10.       ]\n",
            "\n",
            "[4.53978687e-05 5.55606489e-05 6.79983174e-05] [0.999932   0.99994444 0.9999546 ]\n"
          ],
          "name": "stdout"
        },
        {
          "output_type": "display_data",
          "data": {
            "image/png": "[encoded data removed]",
            "text/plain": [
              "<Figure size 432x288 with 1 Axes>"
            ]
          },
          "metadata": {
            "tags": []
          }
        }
      ]
    },
    {
      "cell_type": "markdown",
      "metadata": {
        "id": "Vrpiv-ggrkth",
        "colab_type": "text"
      },
      "source": [
        "**An example of an oversimplified problem that can be solved using NN**\n",
        "\n",
        "Our input is outside temperature which is a value between -30 and 40. We want our NN to predict is it hot or cold outside. This is an example of supervised ML using NN.\n",
        "\n",
        "Let's encode the output values as:\n",
        "\n",
        "$\n",
        "hot   -  1 \\\\\n",
        "cold - 0\n",
        "$\n",
        "\n",
        "---\n",
        "\n",
        "$\n",
        "D = \\{\\\\\n",
        "(-4, 0), \\\\\n",
        "(1, 0),\\\\\n",
        "(25, 1),\\\\\n",
        "...\\}\n",
        "$\n",
        "\n",
        "---"
      ]
    },
    {
      "cell_type": "code",
      "metadata": {
        "id": "4r9g8JofO0DA",
        "colab_type": "code",
        "outputId": "013cb6c7-6b71-4419-9057-66bdcdc3d258",
        "colab": {
          "base_uri": "https://localhost:8080/",
          "height": 187
        }
      },
      "source": [
        "# Let's generate a dataset\n",
        "x = np.random.randint(-30, 40, 100)\n",
        "y = np.array([1 if v > 20 else 0 for v in x])\n",
        "for i in range(10):\n",
        "  print(\"If the temperature is {:4} it is  {}\".format(x[i], \"hot\" if y[i] == 1 else \"cold\"))"
      ],
      "execution_count": 0,
      "outputs": [
        {
          "output_type": "stream",
          "text": [
            "If the temperature is   34 it is  hot\n",
            "If the temperature is   15 it is  cold\n",
            "If the temperature is   21 it is  hot\n",
            "If the temperature is   -3 it is  cold\n",
            "If the temperature is   28 it is  hot\n",
            "If the temperature is   11 it is  cold\n",
            "If the temperature is  -10 it is  cold\n",
            "If the temperature is   25 it is  hot\n",
            "If the temperature is   39 it is  hot\n",
            "If the temperature is  -23 it is  cold\n"
          ],
          "name": "stdout"
        }
      ]
    },
    {
      "cell_type": "markdown",
      "metadata": {
        "id": "hXl8QgTxPChm",
        "colab_type": "text"
      },
      "source": [
        "<img src=\"https://drive.google.com/uc?export=view&id=1ZTKIeLniLfuTuaCIlP9vvP_glTnURoP1\" height='250px' />\n",
        "\n",
        "The first thing we need to do is initialize the parameters of our NN. In our case we only have two parameters $w_1$ and $b_1$. Usually a random valaue between -1 and 1 is assigned to both. "
      ]
    },
    {
      "cell_type": "code",
      "metadata": {
        "id": "M0amrdVbQZsQ",
        "colab_type": "code",
        "outputId": "d5aa6097-f4e4-484a-e15d-945ee89ba079",
        "colab": {
          "base_uri": "https://localhost:8080/",
          "height": 34
        }
      },
      "source": [
        "# Initialize the parameters\n",
        "w1 = np.random.uniform(-1, 1)\n",
        "b1 = np.random.uniform(-1, 1)\n",
        "print(w1, b1)"
      ],
      "execution_count": 0,
      "outputs": [
        {
          "output_type": "stream",
          "text": [
            "-0.8818675331990031 -0.8219881535090334\n"
          ],
          "name": "stdout"
        }
      ]
    },
    {
      "cell_type": "markdown",
      "metadata": {
        "id": "On58e1i3Quzr",
        "colab_type": "text"
      },
      "source": [
        "$\n",
        "z_1 = w_1 \\cdot x_1 + b_1 \\\\\n",
        "ŷ_1 = f(z_1) \\\\\n",
        "$\n",
        "\n",
        "Let's choose the sigmoid activation function."
      ]
    },
    {
      "cell_type": "code",
      "metadata": {
        "id": "fA1uNfMWRYXM",
        "colab_type": "code",
        "outputId": "e655140c-d897-4235-917e-8e7da0ede659",
        "colab": {
          "base_uri": "https://localhost:8080/",
          "height": 119
        }
      },
      "source": [
        "# Forward pass - get the predictions\n",
        "z1 = w1*x + b1\n",
        "yh = sigmoid(z1)\n",
        "print(z1[0:10])\n",
        "print()\n",
        "print(yh[0:10])"
      ],
      "execution_count": 0,
      "outputs": [
        {
          "output_type": "stream",
          "text": [
            "[-30.80548428 -14.05000115 -19.34120635   1.82361445 -25.51427908\n",
            " -10.52253102   7.99668718 -22.86867648 -35.21482195  19.46096511]\n",
            "\n",
            "[4.18165466e-14 7.90973048e-07 3.98309630e-09 8.60999267e-01\n",
            " 8.30403908e-12 2.69222375e-05 9.99663537e-01 1.17019973e-10\n",
            " 5.08624349e-16 9.99999996e-01]\n"
          ],
          "name": "stdout"
        }
      ]
    },
    {
      "cell_type": "code",
      "metadata": {
        "id": "h_eDCmmJRinZ",
        "colab_type": "code",
        "colab": {}
      },
      "source": [
        "# Encode the outputs hot/cold\n",
        "yh_temp = []\n",
        "for val in yh:\n",
        "  if val > 0.5:\n",
        "    yh_temp.append(\"hot\")\n",
        "  else:\n",
        "    yh_temp.append(\"cold\")"
      ],
      "execution_count": 0,
      "outputs": []
    },
    {
      "cell_type": "code",
      "metadata": {
        "id": "waDET7DcSF0R",
        "colab_type": "code",
        "outputId": "c3e5e353-adab-4c7b-ddee-92669b5d2d71",
        "colab": {
          "base_uri": "https://localhost:8080/",
          "height": 187
        }
      },
      "source": [
        "# Print the first 10 g.t. and predictions\n",
        "for i in range(10):\n",
        "  print(\"If the temperature is {:4} it is  {:4}  vs predicted  {}\".format(x[i], \"hot\" if y[i] == 1 else \"cold\", yh_temp[i]))"
      ],
      "execution_count": 0,
      "outputs": [
        {
          "output_type": "stream",
          "text": [
            "If the temperature is   34 it is  hot   vs predicted  cold\n",
            "If the temperature is   15 it is  cold  vs predicted  cold\n",
            "If the temperature is   21 it is  hot   vs predicted  cold\n",
            "If the temperature is   -3 it is  cold  vs predicted  hot\n",
            "If the temperature is   28 it is  hot   vs predicted  cold\n",
            "If the temperature is   11 it is  cold  vs predicted  cold\n",
            "If the temperature is  -10 it is  cold  vs predicted  hot\n",
            "If the temperature is   25 it is  hot   vs predicted  cold\n",
            "If the temperature is   39 it is  hot   vs predicted  cold\n",
            "If the temperature is  -23 it is  cold  vs predicted  hot\n"
          ],
          "name": "stdout"
        }
      ]
    },
    {
      "cell_type": "markdown",
      "metadata": {
        "id": "8hLJVhXuSOhH",
        "colab_type": "text"
      },
      "source": [
        "**Cost function / Loss function / Error function**\n",
        "\n",
        "Cross entropy loss is defined as:\n",
        "\n",
        "$\n",
        "L = -\\frac{1}{N}\\sum_i y_i log(\\hat{y}_i) + (1-y_i)log(1-\\hat{y}_i) \\\\\n",
        "N - \\text{Number of examples in our training set} \\\\\n",
        "y_i - \\text{The ground truth} \\\\\n",
        "\\hat{y}_i - \\text{The predicted value}\\\\\n",
        "$\n",
        "\n",
        "---\n",
        "$\n",
        "y = 1 = hot \\\\\n",
        "yh = 0.3 = cold \\\\\n",
        "L = -1 \\cdot log(0.3) + (1 - 1)log(1-0.3) = -log(0.3) = 1.2 \\\\\n",
        "$\n",
        "\n",
        "$\n",
        "y = 1 = hot \\\\\n",
        "yh = 0.9 = hot \\\\\n",
        "L = -1 \\cdot log(0.9) + (1 - 1)log(1-0.9) = -log(0.9) = 0.1 \\\\\n",
        "$\n",
        "\n",
        "$\n",
        "y = 1 = hot \\\\\n",
        "yh = 0.01 = cold \\\\\n",
        "L = -1 \\cdot log(0.01) + (1 - 1)log(1-0.01) = -log(0.01) = 4.6\n",
        "$"
      ]
    },
    {
      "cell_type": "code",
      "metadata": {
        "id": "7NSuYWnkVmg0",
        "colab_type": "code",
        "outputId": "2bb9967a-4c3b-480f-8449-2e5cdba84060",
        "colab": {
          "base_uri": "https://localhost:8080/",
          "height": 34
        }
      },
      "source": [
        "# Calculate the loss\n",
        "loss = sklearn.metrics.log_loss(y, yh)\n",
        "print(loss)"
      ],
      "execution_count": 0,
      "outputs": [
        {
          "output_type": "stream",
          "text": [
            "12.38615153356781\n"
          ],
          "name": "stdout"
        }
      ]
    },
    {
      "cell_type": "markdown",
      "metadata": {
        "id": "hDHuyxQHYZrX",
        "colab_type": "text"
      },
      "source": [
        "**The training procedure**\n",
        "\n",
        "Once we have a loss function and we know how wrong we are, we can update the parameters of our model, so that next time it predicts correctly. \n",
        "\n",
        "1. Prepare the dataset - Split the dataset into train/test\n",
        "\n",
        "2. Build the Network\n",
        "\n",
        "3. Initialize the parameters\n",
        "\n",
        "4. Forward pass - have the network predict the outputs for the train set\n",
        "\n",
        "5. Error calculation - the difference between predicted and real outputs\n",
        "\n",
        "6. Backward pass - Update network parameters so that it does not make the same mistakes again \n",
        "\n",
        "7. Repeat the steps 4,5,6 until you are happy\n",
        "\n",
        "8. Once training is done run the network on a test set - this is your accuracy\n",
        "\n",
        "\n",
        "\n",
        "\n",
        "This time we will not cover derivations, gradients, GD, convex functions... This will be next session. "
      ]
    },
    {
      "cell_type": "markdown",
      "metadata": {
        "id": "AhuGAeDSlaQx",
        "colab_type": "text"
      },
      "source": [
        "# **How to do this in pytorch**"
      ]
    },
    {
      "cell_type": "code",
      "metadata": {
        "id": "v6XuMnffc_fm",
        "colab_type": "code",
        "colab": {}
      },
      "source": [
        "import torch.optim as optim\n",
        "class Net(nn.Module):\n",
        "    def __init__(self):\n",
        "      super(Net, self).__init__()\n",
        "      self.fc1 = nn.Linear(1, 1)\n",
        "      \n",
        "    def forward(self, x):\n",
        "      x = torch.sigmoid(self.fc1(x))\n",
        "      return x\n",
        "\n",
        "net = Net()\n",
        "criterion = nn.BCELoss()\n",
        "optimizer = optim.SGD(net.parameters(), lr=0.001, momentum=0.9)"
      ],
      "execution_count": 0,
      "outputs": []
    },
    {
      "cell_type": "code",
      "metadata": {
        "id": "3XLMa0rxdk0m",
        "colab_type": "code",
        "outputId": "a8021abe-b7c2-4fc2-f8e9-d41cf1ad9b71",
        "colab": {
          "base_uri": "https://localhost:8080/",
          "height": 204
        }
      },
      "source": [
        "inputs = torch.tensor(x.reshape(-1, 1), dtype=torch.float32)\n",
        "labels = torch.tensor(y.reshape(-1, 1), dtype=torch.float)\n",
        "net.train()\n",
        "for epoch in range(200):  # do 200 epoch \n",
        "  # zero the gradients\n",
        "  optimizer.zero_grad()\n",
        "\n",
        "  # Forward \n",
        "  outputs = net(inputs)\n",
        "  # Calculate error\n",
        "  loss = criterion(outputs, labels)\n",
        "  # Backward\n",
        "  loss.backward()\n",
        "  # Optimize/Update parameters\n",
        "  optimizer.step()\n",
        "\n",
        "  # print statistics\n",
        "  if epoch % 20 == 19:    # print every 2000 mini-batches\n",
        "      print(loss.item())\n",
        "\n",
        "print('Finished Training')"
      ],
      "execution_count": 0,
      "outputs": [
        {
          "output_type": "stream",
          "text": [
            "0.6022794246673584\n",
            "0.5591546893119812\n",
            "0.5392382740974426\n",
            "0.5212439894676208\n",
            "0.504747211933136\n",
            "0.4894274175167084\n",
            "0.4751621186733246\n",
            "0.46186569333076477\n",
            "0.4494578242301941\n",
            "0.4378659725189209\n",
            "Finished Training\n"
          ],
          "name": "stdout"
        }
      ]
    },
    {
      "cell_type": "code",
      "metadata": {
        "id": "frhk3-GDeHPO",
        "colab_type": "code",
        "colab": {}
      },
      "source": [
        ""
      ],
      "execution_count": 0,
      "outputs": []
    }
  ]
}