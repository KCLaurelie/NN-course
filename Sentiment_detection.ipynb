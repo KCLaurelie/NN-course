{
  "nbformat": 4,
  "nbformat_minor": 0,
  "metadata": {
    "colab": {
      "name": "Sentiment detection.ipynb",
      "version": "0.3.2",
      "provenance": [],
      "include_colab_link": true
    },
    "kernelspec": {
      "name": "python3",
      "display_name": "Python 3"
    },
    "accelerator": "GPU"
  },
  "cells": [
    {
      "cell_type": "markdown",
      "metadata": {
        "id": "view-in-github",
        "colab_type": "text"
      },
      "source": [
        "<a href=\"https://colab.research.google.com/github/KCLaurelie/NN-course/blob/master/Sentiment_detection.ipynb\" target=\"_parent\"><img src=\"https://colab.research.google.com/assets/colab-badge.svg\" alt=\"Open In Colab\"/></a>"
      ]
    },
    {
      "cell_type": "code",
      "metadata": {
        "id": "u_QSfQu7arNX",
        "colab_type": "code",
        "colab": {}
      },
      "source": [
        "import pandas as pd\n",
        "import numpy as np\n",
        "from gensim.models import Word2Vec\n",
        "import spacy\n",
        "from spacy.attrs import LOWER\n",
        "\n",
        "# Basic configuration for logging - needed for gensim to print some output\n",
        "import logging\n",
        "logging.basicConfig(format='%(asctime)s : %(levelname)s : %(message)s', level=logging.INFO)\n",
        "\n",
        "# Load the english model for spacy\n",
        "nlp = spacy.load('en', disable=['ner', 'parser'])"
      ],
      "execution_count": 0,
      "outputs": []
    },
    {
      "cell_type": "markdown",
      "metadata": {
        "id": "9s4lXNDq6njd",
        "colab_type": "text"
      },
      "source": [
        "# Get the data from github "
      ]
    },
    {
      "cell_type": "code",
      "metadata": {
        "id": "X0g6YMvNcFUA",
        "colab_type": "code",
        "colab": {}
      },
      "source": [
        "df = pd.read_csv(\"https://raw.githubusercontent.com/w-is-h/tmp/master/dataset.csv\", encoding='cp1252')"
      ],
      "execution_count": 0,
      "outputs": []
    },
    {
      "cell_type": "code",
      "metadata": {
        "id": "6YALrViGcIQ7",
        "colab_type": "code",
        "outputId": "7afbc780-10e5-43d3-e5c7-c33d77d7048b",
        "colab": {
          "base_uri": "https://localhost:8080/",
          "height": 198
        }
      },
      "source": [
        "df.head()"
      ],
      "execution_count": 0,
      "outputs": [
        {
          "output_type": "execute_result",
          "data": {
            "text/html": [
              "<div>\n",
              "<style scoped>\n",
              "    .dataframe tbody tr th:only-of-type {\n",
              "        vertical-align: middle;\n",
              "    }\n",
              "\n",
              "    .dataframe tbody tr th {\n",
              "        vertical-align: top;\n",
              "    }\n",
              "\n",
              "    .dataframe thead th {\n",
              "        text-align: right;\n",
              "    }\n",
              "</style>\n",
              "<table border=\"1\" class=\"dataframe\">\n",
              "  <thead>\n",
              "    <tr style=\"text-align: right;\">\n",
              "      <th></th>\n",
              "      <th>SentimentText</th>\n",
              "      <th>Sentiment</th>\n",
              "    </tr>\n",
              "  </thead>\n",
              "  <tbody>\n",
              "    <tr>\n",
              "      <th>0</th>\n",
              "      <td>first think another Disney movie, might good, ...</td>\n",
              "      <td>1</td>\n",
              "    </tr>\n",
              "    <tr>\n",
              "      <th>1</th>\n",
              "      <td>Put aside Dr. House repeat missed, Desperate H...</td>\n",
              "      <td>0</td>\n",
              "    </tr>\n",
              "    <tr>\n",
              "      <th>2</th>\n",
              "      <td>big fan Stephen King's work, film made even gr...</td>\n",
              "      <td>1</td>\n",
              "    </tr>\n",
              "    <tr>\n",
              "      <th>3</th>\n",
              "      <td>watched horrid thing TV. Needless say one movi...</td>\n",
              "      <td>0</td>\n",
              "    </tr>\n",
              "    <tr>\n",
              "      <th>4</th>\n",
              "      <td>truly enjoyed film. acting terrific plot. Jeff...</td>\n",
              "      <td>1</td>\n",
              "    </tr>\n",
              "  </tbody>\n",
              "</table>\n",
              "</div>"
            ],
            "text/plain": [
              "                                       SentimentText  Sentiment\n",
              "0  first think another Disney movie, might good, ...          1\n",
              "1  Put aside Dr. House repeat missed, Desperate H...          0\n",
              "2  big fan Stephen King's work, film made even gr...          1\n",
              "3  watched horrid thing TV. Needless say one movi...          0\n",
              "4  truly enjoyed film. acting terrific plot. Jeff...          1"
            ]
          },
          "metadata": {
            "tags": []
          },
          "execution_count": 77
        }
      ]
    },
    {
      "cell_type": "markdown",
      "metadata": {
        "id": "cO8wGAHN6uMq",
        "colab_type": "text"
      },
      "source": [
        "# Print some statistics"
      ]
    },
    {
      "cell_type": "code",
      "metadata": {
        "id": "mqoppNTg6xzu",
        "colab_type": "code",
        "outputId": "989c012f-ca29-4a22-e993-2a378c0f8e0c",
        "colab": {
          "base_uri": "https://localhost:8080/",
          "height": 321
        }
      },
      "source": [
        "print(\"The shape of the dataset is: \" + str(df.shape))\n",
        "print(\"The columns are: \" + str(list(df.columns)))\n",
        "print(\"Number of positive values: \" + str(np.sum(df['Sentiment'])))\n",
        "_ = plt.hist(df['Sentiment'])"
      ],
      "execution_count": 0,
      "outputs": [
        {
          "output_type": "stream",
          "text": [
            "The shape of the dataset is: (25000, 2)\n",
            "The columns are: ['SentimentText', 'Sentiment']\n",
            "Number of positive values: 12500\n"
          ],
          "name": "stdout"
        },
        {
          "output_type": "display_data",
          "data": {
            "image/png": "[encoded data removed]",
            "text/plain": [
              "<Figure size 432x288 with 1 Axes>"
            ]
          },
          "metadata": {
            "tags": []
          }
        }
      ]
    },
    {
      "cell_type": "markdown",
      "metadata": {
        "id": "HaVcTC417YI8",
        "colab_type": "text"
      },
      "source": [
        "**We'll take only 10,000 examples, to speed thigns up a bit**"
      ]
    },
    {
      "cell_type": "code",
      "metadata": {
        "id": "Aa66fNKWd2lT",
        "colab_type": "code",
        "colab": {}
      },
      "source": [
        "x = df['SentimentText'].values[0:10000]\n",
        "y = df['Sentiment'].values[0:10000]"
      ],
      "execution_count": 0,
      "outputs": []
    },
    {
      "cell_type": "markdown",
      "metadata": {
        "id": "Z75yCgk-7wLa",
        "colab_type": "text"
      },
      "source": [
        "# Spacy"
      ]
    },
    {
      "cell_type": "code",
      "metadata": {
        "id": "iccllc0l7zHG",
        "colab_type": "code",
        "colab": {}
      },
      "source": [
        "doc = nlp(\"I was running yesterday.\")"
      ],
      "execution_count": 0,
      "outputs": []
    },
    {
      "cell_type": "code",
      "metadata": {
        "id": "LqtDby8_73Qo",
        "colab_type": "code",
        "outputId": "37159ae6-6356-4b77-aa09-ed997af505b4",
        "colab": {
          "base_uri": "https://localhost:8080/",
          "height": 35
        }
      },
      "source": [
        "print(doc)"
      ],
      "execution_count": 0,
      "outputs": [
        {
          "output_type": "stream",
          "text": [
            "I was running yesterday.\n"
          ],
          "name": "stdout"
        }
      ]
    },
    {
      "cell_type": "code",
      "metadata": {
        "id": "2shYPjFX75Gq",
        "colab_type": "code",
        "outputId": "5345246f-6a6a-44cd-ec11-753030e36d61",
        "colab": {
          "base_uri": "https://localhost:8080/",
          "height": 104
        }
      },
      "source": [
        "# To access tokens we can loop over the document\n",
        "for token in doc:\n",
        "  print(token)"
      ],
      "execution_count": 0,
      "outputs": [
        {
          "output_type": "stream",
          "text": [
            "I\n",
            "was\n",
            "running\n",
            "yesterday\n",
            ".\n"
          ],
          "name": "stdout"
        }
      ]
    },
    {
      "cell_type": "code",
      "metadata": {
        "id": "lzY4iHv18CVt",
        "colab_type": "code",
        "outputId": "62072779-7fac-44e2-9aa4-1e3a104397ee",
        "colab": {
          "base_uri": "https://localhost:8080/",
          "height": 104
        }
      },
      "source": [
        "# Each token has multiple properties, e.g. lower_\n",
        "for token in doc:\n",
        "  print(token.lower_)"
      ],
      "execution_count": 0,
      "outputs": [
        {
          "output_type": "stream",
          "text": [
            "i\n",
            "was\n",
            "running\n",
            "yesterday\n",
            ".\n"
          ],
          "name": "stdout"
        }
      ]
    },
    {
      "cell_type": "markdown",
      "metadata": {
        "id": "2ykAaAne8KVb",
        "colab_type": "text"
      },
      "source": [
        "# Split sentences into tokens and lowercase"
      ]
    },
    {
      "cell_type": "code",
      "metadata": {
        "id": "81ry5hpe8XGp",
        "colab_type": "code",
        "outputId": "7f467718-aaf5-41ca-f41c-d71938f4b01d",
        "colab": {
          "base_uri": "https://localhost:8080/",
          "height": 55
        }
      },
      "source": [
        "# Print the first sentence\n",
        "print(x[0])"
      ],
      "execution_count": 0,
      "outputs": [
        {
          "output_type": "stream",
          "text": [
            "first think another Disney movie, might good, it's kids movie. watch it, can't help enjoy it. ages love movie. first saw movie 10 8 years later still love it! Danny Glover superb could play part better. Christopher Lloyd hilarious perfect part. Tony Danza believable Mel Clark. can't help, enjoy movie! give 10/10!\n"
          ],
          "name": "stdout"
        }
      ]
    },
    {
      "cell_type": "code",
      "metadata": {
        "id": "joYR6ueKeWz6",
        "colab_type": "code",
        "colab": {}
      },
      "source": [
        "# Lowercase and tokenize\n",
        "x = [[tkn.lower_ for tkn in nlp(snt)] for snt in x]"
      ],
      "execution_count": 0,
      "outputs": []
    },
    {
      "cell_type": "code",
      "metadata": {
        "id": "Z6LfSzmOgzZt",
        "colab_type": "code",
        "outputId": "60066a5c-9db6-43ce-d1f2-3a13b2792431",
        "colab": {
          "base_uri": "https://localhost:8080/",
          "height": 55
        }
      },
      "source": [
        "# Print the first sentence\n",
        "print(x[0])"
      ],
      "execution_count": 0,
      "outputs": [
        {
          "output_type": "stream",
          "text": [
            "['first', 'think', 'another', 'disney', 'movie', ',', 'might', 'good', ',', 'it', \"'s\", 'kids', 'movie', '.', 'watch', 'it', ',', 'ca', \"n't\", 'help', 'enjoy', 'it', '.', 'ages', 'love', 'movie', '.', 'first', 'saw', 'movie', '10', '8', 'years', 'later', 'still', 'love', 'it', '!', 'danny', 'glover', 'superb', 'could', 'play', 'part', 'better', '.', 'christopher', 'lloyd', 'hilarious', 'perfect', 'part', '.', 'tony', 'danza', 'believable', 'mel', 'clark', '.', 'ca', \"n't\", 'help', ',', 'enjoy', 'movie', '!', 'give', '10/10', '!']\n"
          ],
          "name": "stdout"
        }
      ]
    },
    {
      "cell_type": "code",
      "metadata": {
        "id": "UQc1FRv48n9J",
        "colab_type": "code",
        "colab": {}
      },
      "source": [
        "# Train word2vec"
      ],
      "execution_count": 0,
      "outputs": []
    },
    {
      "cell_type": "code",
      "metadata": {
        "id": "bVSxGpV4cOx8",
        "colab_type": "code",
        "outputId": "951e234b-e58b-46d7-e638-c7d1a0571691",
        "colab": {
          "base_uri": "https://localhost:8080/",
          "height": 829
        }
      },
      "source": [
        "w2v = Word2Vec(x, size=100, window=6, min_count=5, workers=4)"
      ],
      "execution_count": 0,
      "outputs": [
        {
          "output_type": "stream",
          "text": [
            "2019-05-28 01:05:06,427 : INFO : collecting all words and their counts\n",
            "2019-05-28 01:05:06,431 : INFO : PROGRESS: at sentence #0, processed 0 words, keeping 0 word types\n",
            "2019-05-28 01:05:06,832 : INFO : collected 65700 word types from a corpus of 1721139 raw words and 10000 sentences\n",
            "2019-05-28 01:05:06,833 : INFO : Loading a fresh vocabulary\n",
            "2019-05-28 01:05:07,124 : INFO : effective_min_count=5 retains 19684 unique words (29% of original 65700, drops 46016)\n",
            "2019-05-28 01:05:07,125 : INFO : effective_min_count=5 leaves 1648471 word corpus (95% of original 1721139, drops 72668)\n",
            "2019-05-28 01:05:07,189 : INFO : deleting the raw counts dictionary of 65700 items\n",
            "2019-05-28 01:05:07,193 : INFO : sample=0.001 downsamples 25 most-common words\n",
            "2019-05-28 01:05:07,194 : INFO : downsampling leaves estimated 1343731 word corpus (81.5% of prior 1648471)\n",
            "2019-05-28 01:05:07,248 : INFO : estimated required memory for 19684 words and 100 dimensions: 25589200 bytes\n",
            "2019-05-28 01:05:07,249 : INFO : resetting layer weights\n",
            "2019-05-28 01:05:07,420 : INFO : training model with 4 workers on 19684 vocabulary and 100 features, using sg=0 hs=0 sample=0.001 negative=5 window=6\n",
            "2019-05-28 01:05:08,428 : INFO : EPOCH 1 - PROGRESS: at 47.70% examples, 643975 words/s, in_qsize 7, out_qsize 0\n",
            "2019-05-28 01:05:09,437 : INFO : EPOCH 1 - PROGRESS: at 97.42% examples, 651198 words/s, in_qsize 5, out_qsize 0\n",
            "2019-05-28 01:05:09,456 : INFO : worker thread finished; awaiting finish of 3 more threads\n",
            "2019-05-28 01:05:09,468 : INFO : worker thread finished; awaiting finish of 2 more threads\n",
            "2019-05-28 01:05:09,469 : INFO : worker thread finished; awaiting finish of 1 more threads\n",
            "2019-05-28 01:05:09,471 : INFO : worker thread finished; awaiting finish of 0 more threads\n",
            "2019-05-28 01:05:09,472 : INFO : EPOCH - 1 : training on 1721139 raw words (1343803 effective words) took 2.0s, 656570 effective words/s\n",
            "2019-05-28 01:05:10,496 : INFO : EPOCH 2 - PROGRESS: at 48.85% examples, 651470 words/s, in_qsize 7, out_qsize 0\n",
            "2019-05-28 01:05:11,493 : INFO : worker thread finished; awaiting finish of 3 more threads\n",
            "2019-05-28 01:05:11,495 : INFO : worker thread finished; awaiting finish of 2 more threads\n",
            "2019-05-28 01:05:11,506 : INFO : EPOCH 2 - PROGRESS: at 99.44% examples, 659645 words/s, in_qsize 1, out_qsize 1\n",
            "2019-05-28 01:05:11,507 : INFO : worker thread finished; awaiting finish of 1 more threads\n",
            "2019-05-28 01:05:11,508 : INFO : worker thread finished; awaiting finish of 0 more threads\n",
            "2019-05-28 01:05:11,510 : INFO : EPOCH - 2 : training on 1721139 raw words (1343507 effective words) took 2.0s, 662227 effective words/s\n",
            "2019-05-28 01:05:12,526 : INFO : EPOCH 3 - PROGRESS: at 48.27% examples, 648280 words/s, in_qsize 6, out_qsize 1\n",
            "2019-05-28 01:05:13,514 : INFO : worker thread finished; awaiting finish of 3 more threads\n",
            "2019-05-28 01:05:13,525 : INFO : worker thread finished; awaiting finish of 2 more threads\n",
            "2019-05-28 01:05:13,533 : INFO : EPOCH 3 - PROGRESS: at 99.44% examples, 663017 words/s, in_qsize 1, out_qsize 1\n",
            "2019-05-28 01:05:13,534 : INFO : worker thread finished; awaiting finish of 1 more threads\n",
            "2019-05-28 01:05:13,538 : INFO : worker thread finished; awaiting finish of 0 more threads\n",
            "2019-05-28 01:05:13,540 : INFO : EPOCH - 3 : training on 1721139 raw words (1344260 effective words) took 2.0s, 664472 effective words/s\n",
            "2019-05-28 01:05:14,563 : INFO : EPOCH 4 - PROGRESS: at 48.85% examples, 649516 words/s, in_qsize 7, out_qsize 0\n",
            "2019-05-28 01:05:15,565 : INFO : EPOCH 4 - PROGRESS: at 98.55% examples, 655808 words/s, in_qsize 3, out_qsize 1\n",
            "2019-05-28 01:05:15,567 : INFO : worker thread finished; awaiting finish of 3 more threads\n",
            "2019-05-28 01:05:15,577 : INFO : worker thread finished; awaiting finish of 2 more threads\n",
            "2019-05-28 01:05:15,579 : INFO : worker thread finished; awaiting finish of 1 more threads\n",
            "2019-05-28 01:05:15,584 : INFO : worker thread finished; awaiting finish of 0 more threads\n",
            "2019-05-28 01:05:15,586 : INFO : EPOCH - 4 : training on 1721139 raw words (1343583 effective words) took 2.0s, 658378 effective words/s\n",
            "2019-05-28 01:05:16,595 : INFO : EPOCH 5 - PROGRESS: at 48.85% examples, 660506 words/s, in_qsize 7, out_qsize 0\n",
            "2019-05-28 01:05:17,560 : INFO : worker thread finished; awaiting finish of 3 more threads\n",
            "2019-05-28 01:05:17,575 : INFO : worker thread finished; awaiting finish of 2 more threads\n",
            "2019-05-28 01:05:17,584 : INFO : worker thread finished; awaiting finish of 1 more threads\n",
            "2019-05-28 01:05:17,590 : INFO : worker thread finished; awaiting finish of 0 more threads\n",
            "2019-05-28 01:05:17,591 : INFO : EPOCH - 5 : training on 1721139 raw words (1344484 effective words) took 2.0s, 672900 effective words/s\n",
            "2019-05-28 01:05:17,592 : INFO : training on a 8605695 raw words (6719637 effective words) took 10.2s, 660666 effective words/s\n"
          ],
          "name": "stderr"
        }
      ]
    },
    {
      "cell_type": "code",
      "metadata": {
        "id": "0KyOvtimcsdh",
        "colab_type": "code",
        "outputId": "7c423f60-4e67-401c-bbfe-5250e2c61a1f",
        "colab": {
          "base_uri": "https://localhost:8080/",
          "height": 262
        }
      },
      "source": [
        "w2v.wv.most_similar(\"good\")"
      ],
      "execution_count": 0,
      "outputs": [
        {
          "output_type": "stream",
          "text": [
            "2019-05-28 01:05:20,814 : INFO : precomputing L2-norms of word weight vectors\n",
            "/usr/local/lib/python3.6/dist-packages/gensim/matutils.py:737: FutureWarning: Conversion of the second argument of issubdtype from `int` to `np.signedinteger` is deprecated. In future, it will be treated as `np.int64 == np.dtype(int).type`.\n",
            "  if np.issubdtype(vec.dtype, np.int):\n"
          ],
          "name": "stderr"
        },
        {
          "output_type": "execute_result",
          "data": {
            "text/plain": [
              "[('bad', 0.7925644516944885),\n",
              " ('decent', 0.7340531349182129),\n",
              " ('nice', 0.7207351922988892),\n",
              " ('great', 0.704482913017273),\n",
              " ('cool', 0.7012462019920349),\n",
              " ('ok', 0.691887378692627),\n",
              " ('funny', 0.6696985363960266),\n",
              " ('liked', 0.6629442572593689),\n",
              " ('scary', 0.6501544713973999),\n",
              " ('terrible', 0.646700918674469)]"
            ]
          },
          "metadata": {
            "tags": []
          },
          "execution_count": 89
        }
      ]
    },
    {
      "cell_type": "code",
      "metadata": {
        "id": "FU_X_Wb48tGW",
        "colab_type": "code",
        "outputId": "c5058168-0341-499b-bdb2-7b14cd378ae0",
        "colab": {
          "base_uri": "https://localhost:8080/",
          "height": 380
        }
      },
      "source": [
        "w2v.wv.get_vector(\"the\")"
      ],
      "execution_count": 0,
      "outputs": [
        {
          "output_type": "execute_result",
          "data": {
            "text/plain": [
              "array([ 1.1754472 ,  0.7916219 , -2.0651374 ,  2.9568279 ,  1.3927826 ,\n",
              "        1.6311587 ,  0.6273241 ,  0.63842946,  1.9979316 ,  2.4576125 ,\n",
              "       -1.6634429 , -0.01246866, -2.082713  , -0.70434576, -0.40960348,\n",
              "       -1.4926958 ,  1.2895299 , -0.7032262 ,  1.0759975 ,  1.9340314 ,\n",
              "        0.30817696,  1.4204202 ,  1.0983495 , -0.48264396, -2.6802473 ,\n",
              "        0.4916686 , -1.3389573 ,  0.4920835 , -2.1878762 , -0.12529388,\n",
              "        0.35615695,  0.9147299 ,  0.6138088 ,  0.8886433 ,  0.7766482 ,\n",
              "        0.47593868,  1.1263003 , -0.52386624, -2.881109  ,  0.24126737,\n",
              "       -0.64896846,  2.2955117 ,  0.09528604, -0.9031744 , -1.5419331 ,\n",
              "       -0.09945309, -1.2456081 ,  0.94670457, -0.9949699 ,  0.29277313,\n",
              "       -1.7357165 , -0.6435717 , -1.3266677 , -0.39406815,  1.0058509 ,\n",
              "       -1.4181635 ,  0.19897349,  0.23112163, -0.5720692 ,  0.7837    ,\n",
              "       -0.2615177 , -1.3698279 , -1.7192904 ,  0.21208386, -1.1627442 ,\n",
              "       -0.035412  , -0.5080189 ,  0.14744543,  1.7261655 , -0.43653402,\n",
              "        0.7645248 , -2.518241  , -0.9522396 ,  1.2522305 ,  0.10489302,\n",
              "       -0.15684266, -0.787417  , -1.3443118 ,  0.35632956,  0.87417173,\n",
              "       -1.0941675 , -0.563018  , -2.246165  , -1.4682974 , -1.430685  ,\n",
              "        1.0106535 ,  0.7039181 , -0.45995015, -1.5040146 , -0.448882  ,\n",
              "       -0.40105778, -1.269177  , -0.700103  ,  0.71345836, -1.3433475 ,\n",
              "       -2.620889  , -0.01532841, -1.185173  ,  0.8124774 , -1.1695173 ],\n",
              "      dtype=float32)"
            ]
          },
          "metadata": {
            "tags": []
          },
          "execution_count": 90
        }
      ]
    },
    {
      "cell_type": "markdown",
      "metadata": {
        "id": "DfZsis4V88i-",
        "colab_type": "text"
      },
      "source": [
        "# Convert each sentence into the average sum of its tokens"
      ]
    },
    {
      "cell_type": "code",
      "metadata": {
        "id": "ZTQktTzBdaYS",
        "colab_type": "code",
        "colab": {}
      },
      "source": [
        "# x_emb - embedded sentences\n",
        "x_emb = np.zeros((len(x), 100))\n",
        "# Loop over sentences\n",
        "for i_snt, snt in enumerate(x):\n",
        "  cnt = 0\n",
        "  # Loop over the words of a sentence\n",
        "  for i_word, word in enumerate(snt):\n",
        "    if word in w2v.wv:\n",
        "      x_emb[i_snt] += w2v.wv.get_vector(word)\n",
        "      cnt += 1\n",
        "  if cnt > 0:\n",
        "    x_emb[i_snt] = x_emb[i_snt] / cnt\n",
        "    "
      ],
      "execution_count": 0,
      "outputs": []
    },
    {
      "cell_type": "code",
      "metadata": {
        "id": "VXQJQFjdkUo6",
        "colab_type": "code",
        "colab": {}
      },
      "source": [
        "# Get torch stuff\n",
        "from torch import nn\n",
        "import torch.nn.functional as F\n",
        "import torch.optim as optim\n",
        "import torch\n",
        "import sklearn.metrics"
      ],
      "execution_count": 0,
      "outputs": []
    },
    {
      "cell_type": "markdown",
      "metadata": {
        "id": "1vdN0Q2F9SC6",
        "colab_type": "text"
      },
      "source": [
        "# Build and initialize the network"
      ]
    },
    {
      "cell_type": "code",
      "metadata": {
        "id": "iDz0vUlgkf8l",
        "colab_type": "code",
        "colab": {}
      },
      "source": [
        "device = torch.device('cuda')\n",
        "class Net(nn.Module):\n",
        "    def __init__(self):\n",
        "      super(Net, self).__init__()\n",
        "      self.fc1 = nn.Linear(100, 300)\n",
        "      self.fc2 = nn.Linear(300, 30)\n",
        "      self.fc3 = nn.Linear(30, 1)\n",
        "      \n",
        "    def forward(self, x):\n",
        "      x = torch.relu(self.fc1(x))\n",
        "      x = torch.relu(self.fc2(x))\n",
        "      x = torch.sigmoid(self.fc3(x))\n",
        "      return x"
      ],
      "execution_count": 0,
      "outputs": []
    },
    {
      "cell_type": "code",
      "metadata": {
        "id": "SKxMs6XkkmA7",
        "colab_type": "code",
        "colab": {}
      },
      "source": [
        "net = Net()\n",
        "criterion = nn.BCELoss()\n",
        "optimizer = optim.SGD(net.parameters(), lr=0.001, momentum=0.99)"
      ],
      "execution_count": 0,
      "outputs": []
    },
    {
      "cell_type": "markdown",
      "metadata": {
        "id": "lATUWE2b9VKd",
        "colab_type": "text"
      },
      "source": [
        "# Split the dataset into train/test/dev"
      ]
    },
    {
      "cell_type": "code",
      "metadata": {
        "id": "5kpy4rEGnghM",
        "colab_type": "code",
        "colab": {}
      },
      "source": [
        "inds = np.random.permutation(len(x))\n",
        "inds_train = inds[0:int(0.8*len(x))]\n",
        "inds_test = inds[int(0.8*len(x)):int(0.9*len(x))]\n",
        "inds_dev = inds[int(0.9*len(x)):]\n",
        "\n",
        "# 80% of the dataset\n",
        "x_train = x_emb[inds_train]\n",
        "y_train = y[inds_train]\n",
        "\n",
        "# 10% of the dataset\n",
        "x_test = x_emb[inds_test]\n",
        "y_test = y[inds_test]\n",
        "\n",
        "# 10% of the dataset\n",
        "x_dev = x_emb[inds_dev]\n",
        "y_dev = y[inds_dev]\n",
        "\n",
        "x_train = torch.tensor(x_train, dtype=torch.float32)\n",
        "y_train = torch.tensor(y_train.reshape(-1, 1), dtype=torch.float32)\n",
        "\n",
        "x_dev = torch.tensor(x_dev, dtype=torch.float32)\n",
        "y_dev = torch.tensor(y_dev.reshape(-1, 1), dtype=torch.float32)\n",
        "\n",
        "x_test = torch.tensor(x_test, dtype=torch.float32)\n",
        "y_test = torch.tensor(y_test.reshape(-1, 1), dtype=torch.float32)"
      ],
      "execution_count": 0,
      "outputs": []
    },
    {
      "cell_type": "markdown",
      "metadata": {
        "id": "3E7VRuEb9bj1",
        "colab_type": "text"
      },
      "source": [
        "# Train"
      ]
    },
    {
      "cell_type": "code",
      "metadata": {
        "id": "F4SJB9PCky3S",
        "colab_type": "code",
        "outputId": "97940576-11e5-4831-9d58-269e5970782c",
        "colab": {
          "base_uri": "https://localhost:8080/",
          "height": 380
        }
      },
      "source": [
        "net.to(device)\n",
        "x_train = x_train.to(device)\n",
        "y_train = y_train.to(device)\n",
        "\n",
        "x_dev = x_dev.to(device)\n",
        "y_dev = y_dev.to(device)\n",
        "\n",
        "\n",
        "net.to(device)\n",
        "x_train = x_train.to(device)\n",
        "y_train = y_train.to(device)\n",
        "\n",
        "net.train()\n",
        "losses = []\n",
        "accs = []\n",
        "ws = []\n",
        "bs = []\n",
        "for epoch in range(10000):  # do 10,000 epochs \n",
        "  # zero the gradients\n",
        "  optimizer.zero_grad()\n",
        "\n",
        "  # Forward \n",
        "  outputs = net(x_train)\n",
        "  # Calculate error\n",
        "  loss = criterion(outputs, y_train)\n",
        "  # Backward\n",
        "  loss.backward()\n",
        "  # Optimize/Update parameters\n",
        "  optimizer.step()\n",
        "  \n",
        "  # Track the changes - This is normally done using tensorboard or similar\n",
        "  losses.append(loss.item())\n",
        "  accs.append(sklearn.metrics.accuracy_score([1 if x > 0.5 else 0 for x in outputs.cpu().detach().numpy()], y_train.cpu().numpy()))\n",
        "  ws.append(net.fc1.weight.cpu().detach().numpy()[0][0])\n",
        "  bs.append(net.fc1.bias.cpu().detach().numpy()[0])\n",
        "\n",
        "  # print statistics\n",
        "  if epoch % 500 == 0:\n",
        "      acc = sklearn.metrics.accuracy_score([1 if x > 0.5 else 0 for x in outputs.cpu().detach().numpy()], y_train.cpu().numpy())\n",
        "      \n",
        "      outputs_dev = net(x_dev)\n",
        "      acc_dev = sklearn.metrics.accuracy_score([1 if x > 0.5 else 0 for x in outputs_dev.cpu().detach().numpy()], y_dev.cpu().numpy())\n",
        "      \n",
        "      print(\"Epoch: {:4} Loss: {:.5f} Acc: {:.3f} Acc Dev: {:.3f}\".format(epoch, loss.item(), acc, acc_dev))\n",
        "\n",
        "print('Finished Training')"
      ],
      "execution_count": 0,
      "outputs": [
        {
          "output_type": "stream",
          "text": [
            "Epoch:    0 Loss: 0.69965 Acc: 0.497 Acc Dev: 0.515\n",
            "Epoch:  500 Loss: 0.62699 Acc: 0.677 Acc Dev: 0.689\n",
            "Epoch: 1000 Loss: 0.47180 Acc: 0.778 Acc Dev: 0.769\n",
            "Epoch: 1500 Loss: 0.45906 Acc: 0.783 Acc Dev: 0.780\n",
            "Epoch: 2000 Loss: 0.45225 Acc: 0.788 Acc Dev: 0.772\n",
            "Epoch: 2500 Loss: 0.44684 Acc: 0.793 Acc Dev: 0.773\n",
            "Epoch: 3000 Loss: 0.44221 Acc: 0.795 Acc Dev: 0.775\n",
            "Epoch: 3500 Loss: 0.43784 Acc: 0.796 Acc Dev: 0.775\n",
            "Epoch: 4000 Loss: 0.43320 Acc: 0.800 Acc Dev: 0.771\n",
            "Epoch: 4500 Loss: 0.42781 Acc: 0.803 Acc Dev: 0.773\n",
            "Epoch: 5000 Loss: 0.42177 Acc: 0.806 Acc Dev: 0.775\n",
            "Epoch: 5500 Loss: 0.41558 Acc: 0.810 Acc Dev: 0.767\n",
            "Epoch: 6000 Loss: 0.40935 Acc: 0.813 Acc Dev: 0.768\n",
            "Epoch: 6500 Loss: 0.40295 Acc: 0.817 Acc Dev: 0.766\n",
            "Epoch: 7000 Loss: 0.39590 Acc: 0.819 Acc Dev: 0.769\n",
            "Epoch: 7500 Loss: 0.38854 Acc: 0.824 Acc Dev: 0.772\n",
            "Epoch: 8000 Loss: 0.38079 Acc: 0.828 Acc Dev: 0.770\n",
            "Epoch: 8500 Loss: 0.37300 Acc: 0.832 Acc Dev: 0.763\n",
            "Epoch: 9000 Loss: 0.36475 Acc: 0.836 Acc Dev: 0.758\n",
            "Epoch: 9500 Loss: 0.35614 Acc: 0.841 Acc Dev: 0.756\n",
            "Finished Training\n"
          ],
          "name": "stdout"
        }
      ]
    },
    {
      "cell_type": "code",
      "metadata": {
        "id": "1mXYUTXUoS-t",
        "colab_type": "code",
        "colab": {}
      },
      "source": [
        "import matplotlib.pyplot as plt\n",
        "import seaborn as sns"
      ],
      "execution_count": 0,
      "outputs": []
    },
    {
      "cell_type": "code",
      "metadata": {
        "id": "gu0X4cAglIXQ",
        "colab_type": "code",
        "outputId": "7d34bedf-3116-4b0a-cae7-fa97f31f874c",
        "colab": {
          "base_uri": "https://localhost:8080/",
          "height": 607
        }
      },
      "source": [
        "fig = plt.figure()\n",
        "fig.subplots_adjust(hspace=0.6, wspace=0.6)\n",
        "fig.set_size_inches(10, 10)\n",
        "plt.subplot(2, 2, 1)\n",
        "sns.lineplot(np.arange(0, len(bs)), bs).set_title(\"Bias\")\n",
        "\n",
        "plt.subplot(2, 2, 2)\n",
        "sns.lineplot(np.arange(0, len(ws)), ws).set_title(\"Weight\")\n",
        "\n",
        "# TODO: Add two plots for the Loss and Accuracy, place them in the right positions\n",
        "plt.subplot(2, 2, 3)\n",
        "sns.lineplot(np.arange(0, len(losses)), losses).set_title(\"Loss\")\n",
        "\n",
        "plt.subplot(2, 2, 4)\n",
        "sns.lineplot(np.arange(0, len(accs)), accs).set_title(\"Acc\")\n",
        "fig.show()"
      ],
      "execution_count": 0,
      "outputs": [
        {
          "output_type": "display_data",
          "data": {
            "image/png": "[encoded data removed]",
            "text/plain": [
              "<Figure size 720x720 with 4 Axes>"
            ]
          },
          "metadata": {
            "tags": []
          }
        }
      ]
    },
    {
      "cell_type": "code",
      "metadata": {
        "id": "dhPQXS_uopWq",
        "colab_type": "code",
        "outputId": "13d20b22-a6a8-4880-b02d-297d29ae75cc",
        "colab": {
          "base_uri": "https://localhost:8080/",
          "height": 104
        }
      },
      "source": [
        "net.eval()\n",
        "net.to(\"cpu\")"
      ],
      "execution_count": 0,
      "outputs": [
        {
          "output_type": "execute_result",
          "data": {
            "text/plain": [
              "Net(\n",
              "  (fc1): Linear(in_features=100, out_features=100, bias=True)\n",
              "  (fc2): Linear(in_features=100, out_features=30, bias=True)\n",
              "  (fc3): Linear(in_features=30, out_features=1, bias=True)\n",
              ")"
            ]
          },
          "metadata": {
            "tags": []
          },
          "execution_count": 99
        }
      ]
    },
    {
      "cell_type": "code",
      "metadata": {
        "id": "7EMa9dmjqLvI",
        "colab_type": "code",
        "outputId": "0b097c20-8c24-4cba-a3f3-0720e9678d1f",
        "colab": {
          "base_uri": "https://localhost:8080/",
          "height": 35
        }
      },
      "source": [
        "net(torch.tensor(x_emb[3], dtype=torch.float32))"
      ],
      "execution_count": 0,
      "outputs": [
        {
          "output_type": "execute_result",
          "data": {
            "text/plain": [
              "tensor([0.0018], grad_fn=<SigmoidBackward>)"
            ]
          },
          "metadata": {
            "tags": []
          },
          "execution_count": 118
        }
      ]
    },
    {
      "cell_type": "code",
      "metadata": {
        "id": "IktHr-H4qQbm",
        "colab_type": "code",
        "outputId": "0e890365-4383-492d-b41c-7b9bb178a581",
        "colab": {
          "base_uri": "https://localhost:8080/",
          "height": 72
        }
      },
      "source": [
        "print(y[3])\n",
        "print(df['SentimentText'].iloc[3])"
      ],
      "execution_count": 0,
      "outputs": [
        {
          "output_type": "stream",
          "text": [
            "0\n",
            "watched horrid thing TV. Needless say one movies watch see much worse get. Frankly, don't know much lower bar go. <br /><br />The characters composed one lame stereo-type another, obvious attempt creating another \"Bad News Bears\" embarrassing say least.<br /><br />I seen prized turkeys time, reason list since \"Numero Uno\".<br /><br />Let put way, watched Vanilla Ice movie, bad funny. This...this...is even good.\n"
          ],
          "name": "stdout"
        }
      ]
    },
    {
      "cell_type": "code",
      "metadata": {
        "id": "WqtEJK9Vqm7q",
        "colab_type": "code",
        "colab": {}
      },
      "source": [
        ""
      ],
      "execution_count": 0,
      "outputs": []
    }
  ]
}