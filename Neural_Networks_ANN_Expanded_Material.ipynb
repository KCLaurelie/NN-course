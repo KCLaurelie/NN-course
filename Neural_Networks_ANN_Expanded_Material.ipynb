{
  "nbformat": 4,
  "nbformat_minor": 0,
  "metadata": {
    "colab": {
      "name": "Neural Networks - ANN Expanded Material",
      "version": "0.3.2",
      "provenance": [],
      "collapsed_sections": [],
      "include_colab_link": true
    },
    "kernelspec": {
      "name": "python3",
      "display_name": "Python 3"
    },
    "accelerator": "GPU"
  },
  "cells": [
    {
      "cell_type": "markdown",
      "metadata": {
        "id": "view-in-github",
        "colab_type": "text"
      },
      "source": [
        "<a href=\"https://colab.research.google.com/github/KCLaurelie/NN-course/blob/master/Neural_Networks_ANN_Expanded_Material.ipynb\" target=\"_parent\"><img src=\"https://colab.research.google.com/assets/colab-badge.svg\" alt=\"Open In Colab\"/></a>"
      ]
    },
    {
      "cell_type": "code",
      "metadata": {
        "id": "JTecoiwkWzAb",
        "colab_type": "code",
        "colab": {}
      },
      "source": [
        "# SWICH RUNTIME TO GPU\n",
        "\n",
        "\n",
        "import numpy as np\n",
        "import sklearn.metrics\n",
        "\n",
        "# For ploting \n",
        "import matplotlib.pyplot as plt\n",
        "import seaborn as sns\n",
        "\n",
        "# Get torch stuff\n",
        "import torch\n",
        "from torch import nn\n",
        "import torch.nn.functional as F\n",
        "import torch.optim as optim\n",
        "\n",
        "np.random.seed(42)"
      ],
      "execution_count": 0,
      "outputs": []
    },
    {
      "cell_type": "markdown",
      "metadata": {
        "id": "KBFKRgUEninT",
        "colab_type": "text"
      },
      "source": [
        "# **Activation functions**\n",
        "\n",
        "Linear:\n",
        "\n",
        "$f(z) = z$\n",
        "\n",
        "---\n",
        "Step:\n",
        "\n",
        "$f(z) = \\begin{cases}\n",
        "    1,& \\text{if } z > 0\\\\\n",
        "    0,              & z \\le 0\n",
        "\\end{cases}$\n",
        "\n",
        "---\n",
        "Sigmoid:\n",
        "\n",
        "$f(z) = \\frac{1}{1 + e^{-z}}$\n",
        "\n",
        "---\n",
        "tanh:\n",
        "\n",
        "$f(z) = tanh(z) = \\frac{1 - e^{-z}}{1 + e^{-z}}$\n",
        "\n",
        "---\n",
        "ReLU:\n",
        "\n",
        "$f(z) = max(0, z)$\n",
        "\n"
      ]
    },
    {
      "cell_type": "code",
      "metadata": {
        "id": "rVogyKsBZ4oW",
        "colab_type": "code",
        "colab": {}
      },
      "source": [
        "def step(z):\n",
        "  return np.array(z > 0, dtype=np.int32)\n",
        "\n",
        "def tanh(z):\n",
        "  return np.tanh(z)\n",
        "\n",
        "def sigmoid(z):\n",
        "  return 1 / (1 + np.exp(-z))\n",
        "  \n",
        "def relu(z):\n",
        "  return np.maximum(0, z)"
      ],
      "execution_count": 0,
      "outputs": []
    },
    {
      "cell_type": "code",
      "metadata": {
        "id": "l-GliqPAaTEw",
        "colab_type": "code",
        "outputId": "bdedf569-ca14-4549-f349-3f456f03d050",
        "colab": {
          "base_uri": "https://localhost:8080/",
          "height": 187
        }
      },
      "source": [
        "# Same dataset as last time\n",
        "np.random.seed(10)\n",
        "x = np.random.randint(-30, 40, 1000)\n",
        "y = np.array([1 if v > 20 else 0 for v in x])\n",
        "for i in range(10):\n",
        "  print(\"If the temperature is {:4} it is  {}\".format(x[i], \"hot\" if y[i] == 1 else \"cold\"))"
      ],
      "execution_count": 0,
      "outputs": [
        {
          "output_type": "stream",
          "text": [
            "If the temperature is  -21 it is  cold\n",
            "If the temperature is  -15 it is  cold\n",
            "If the temperature is   34 it is  hot\n",
            "If the temperature is   -2 it is  cold\n",
            "If the temperature is   -1 it is  cold\n",
            "If the temperature is  -22 it is  cold\n",
            "If the temperature is  -30 it is  cold\n",
            "If the temperature is   10 it is  cold\n",
            "If the temperature is    6 it is  cold\n",
            "If the temperature is  -14 it is  cold\n"
          ],
          "name": "stdout"
        }
      ]
    },
    {
      "cell_type": "code",
      "metadata": {
        "id": "yOHdKNrS8ViW",
        "colab_type": "code",
        "outputId": "2fe37b12-ed49-4ab0-c8b3-94c21eb1bd63",
        "colab": {
          "base_uri": "https://localhost:8080/",
          "height": 51
        }
      },
      "source": [
        "_, counts = np.unique(y, return_counts=True)\n",
        "print(f\"Samples Counts by Class:\\n'Cold':{counts[0]}, 'Hot':{counts[1]}\")"
      ],
      "execution_count": 0,
      "outputs": [
        {
          "output_type": "stream",
          "text": [
            "Samples Counts by Class:\n",
            "'Cold':762, 'Hot':238\n"
          ],
          "name": "stdout"
        }
      ]
    },
    {
      "cell_type": "markdown",
      "metadata": {
        "id": "hXl8QgTxPChm",
        "colab_type": "text"
      },
      "source": [
        "# Initialize the parameters\n",
        "\n",
        "<img src=\"https://drive.google.com/uc?export=view&id=1NEd7WQrLTUzAPz44t6bUEma02LH4GOT3\" height='250px' />\n",
        "\n",
        "The first thing we need to do is initialize the parameters of our NN. In our case we only have two parameters $w_1$ and $b_1$. Usually a random valaue between -1 and 1 is assigned to both. "
      ]
    },
    {
      "cell_type": "code",
      "metadata": {
        "id": "fA1uNfMWRYXM",
        "colab_type": "code",
        "colab": {}
      },
      "source": [
        "# TODO: The forward pass \n",
        "def forward(x, w, b):\n",
        "  # complete function\n",
        "  pass"
      ],
      "execution_count": 0,
      "outputs": []
    },
    {
      "cell_type": "code",
      "metadata": {
        "id": "stDyKPltNGK9",
        "colab_type": "code",
        "cellView": "form",
        "colab": {}
      },
      "source": [
        "#@title\n",
        "#Answers\n",
        "def forward(x, w, b):\n",
        "  z = w*x + b\n",
        "  yh = sigmoid(z)\n",
        "  return yh"
      ],
      "execution_count": 0,
      "outputs": []
    },
    {
      "cell_type": "markdown",
      "metadata": {
        "id": "8hLJVhXuSOhH",
        "colab_type": "text"
      },
      "source": [
        "# Cost function / Loss function / Error function\n",
        "\n",
        "Cross entropy loss is defined as:\n",
        "\n",
        "$\n",
        "L = -\\frac{1}{N}\\sum_i y_i log(\\hat{y}_i) + (1-y_i)log(1-\\hat{y}_i) \\\\\n",
        "$\n",
        "\n",
        "\n",
        "\n",
        "$\n",
        "N - \\text{Number of examples in our training set} \\\\\n",
        "y_i - \\text{The ground truth} \\\\\n",
        "\\hat{y}_i - \\text{The predicted value}\\\\\n",
        "$\n",
        "\n",
        "---\n",
        "$\n",
        "y = 1 = hot \\\\\n",
        "yh = 0.3 = cold \\\\\n",
        "L = -1 \\cdot log(0.3) + (1 - 1)log(1-0.3) = -log(0.3) = 1.2 \\\\\n",
        "$\n",
        "\n",
        "$\n",
        "y = 1 = hot \\\\\n",
        "yh = 0.9 = hot \\\\\n",
        "L = -1 \\cdot log(0.9) + (1 - 1)log(1-0.9) = -log(0.9) = 0.1 \\\\\n",
        "$\n",
        "\n",
        "$\n",
        "y = 1 = hot \\\\\n",
        "yh = 0.01 = cold \\\\\n",
        "L = -1 \\cdot log(0.01) + (1 - 1)log(1-0.01) = -log(0.01) = 4.6\n",
        "$"
      ]
    },
    {
      "cell_type": "markdown",
      "metadata": {
        "id": "_klcZ88rOc6A",
        "colab_type": "text"
      },
      "source": [
        "# Backward Pass\n",
        "* Neurons need to figure out how much a change in the final score is affected by their own parameters.\n",
        "* Aim to adjust the weights of each neuron to improve the score. \n",
        "* Take partial derivs of score with respect to all params of the model. \n",
        "* This is a general purpose algorithm for updating parameters of the model to reduce the error of a given upstream output.\n",
        "* Params in this case is only the weight (w1) and bias (b).\n",
        "\n",
        "General derivative of sigmoid:\n",
        "\n",
        "$\\sigma  = sigmoid $\n",
        "\n",
        "$\\sigma = \\frac{1}{1 + e^{-x}} $\n",
        "\n",
        "$\\frac{d \\sigma}{d x} = \\sigma ( x) (1 - \\sigma(x)) $\n",
        "\n",
        "\n",
        "Partial derivatives w.r.t all params:\n",
        "\n",
        "$ \\frac{\\partial y}{\\partial w} = \\frac{\\partial y}{ \\partial h} \\frac{\\partial h}{\\partial z} \\frac{\\partial z}{\\partial w}  $ \n",
        "\n",
        "$ \\frac{\\partial y}{\\partial b} = \\frac{\\partial y}{\\partial h} \\frac{\\partial h}{\\partial z} \\frac{\\partial z}{\\partial b} $\n",
        "\n",
        "$ \\frac{\\partial y}{\\partial x} = \\frac{\\partial y}{\\partial h} \\frac{\\partial h}{\\partial z}  \\frac{\\partial z}{\\partial x}$\n",
        "\n"
      ]
    },
    {
      "cell_type": "code",
      "metadata": {
        "id": "SbJzc1V1qJOy",
        "colab_type": "code",
        "colab": {}
      },
      "source": [
        "# TOOD: Implement backward pass using the above formulae, \n",
        "# to return dy_dw, dy_db, dy_dx\n",
        "\n",
        "def d_sigmoid():\n",
        "  pass\n",
        "\n",
        "def backward():\n",
        "  pass"
      ],
      "execution_count": 0,
      "outputs": []
    },
    {
      "cell_type": "code",
      "metadata": {
        "id": "lP83Da5bqbmq",
        "colab_type": "code",
        "cellView": "form",
        "colab": {}
      },
      "source": [
        "#@title\n",
        "# Answers\n",
        "def d_sigmoid(x):\n",
        "  return sigmoid(x) * (1 - sigmoid(x))\n",
        "\n",
        "def backward(yh, x, w, b) -> (np.array, np.array, np.array):\n",
        "  # as we only have one neuron, change in output at the end is equal to the change in output from this neuron\n",
        "  dy_dh = 1\n",
        "  z = w * x + b\n",
        "  dh_dz = d_sigmoid(z) * 1 # chain rule \n",
        "  dz_dw = x\n",
        "\n",
        "  dy_dw = dy_dh * dh_dz * dz_dw\n",
        "\n",
        "  dz_db = 1 # deriv of a variable with respect to itself is just 1\n",
        "  dy_db = dy_dh * dh_dz * dz_db\n",
        "\n",
        "  dz_dx = w1\n",
        "  dy_dx = 1 * dh_dz * dz_dx\n",
        "  return dy_dw, dy_db, dy_dx\n"
      ],
      "execution_count": 0,
      "outputs": []
    },
    {
      "cell_type": "markdown",
      "metadata": {
        "id": "DtX91nyZ3NUB",
        "colab_type": "text"
      },
      "source": [
        "## Adjust Parameters Iteratively\n",
        "\n",
        "Update each param using the learning rate and partial deriv of the loss w.r.t to the param.\n",
        "\n",
        "$\n",
        "w_{new} = w_{old} - \\alpha  \\frac{\\partial y}{\\partial w}\n",
        "$\n",
        "\n",
        "$\n",
        "b_{new} = b_{old} - \\alpha \\frac{\\partial y}{\\partial b}\n",
        "$\n",
        "\n",
        "Generally - this can be written as:\n",
        "\n",
        "$\n",
        "\\theta_{new} = \\theta_{old} - \\alpha \\nabla J(\\theta)\n",
        "$\n"
      ]
    },
    {
      "cell_type": "code",
      "metadata": {
        "id": "Z7QJ0-9079Rj",
        "colab_type": "code",
        "colab": {}
      },
      "source": [
        "# TODO: Implement the above parameter updates for our single neuron model\n",
        "def update_params(w1, dy_dw, b1, dy_db, alpha) -> (np.array, np.array):\n",
        "  pass"
      ],
      "execution_count": 0,
      "outputs": []
    },
    {
      "cell_type": "code",
      "metadata": {
        "id": "jLzF0bAxHcW1",
        "colab_type": "code",
        "cellView": "form",
        "colab": {}
      },
      "source": [
        "#@title\n",
        "# Answers\n",
        "# average the gradients across all items\n",
        "def update_params(w1, dy_dw, b1, dy_db, alpha) -> (float, float):\n",
        "  w1 = w1 - (alpha * dy_dw)\n",
        "  b1 = b1 - (alpha * dy_db)\n",
        "  return w1, b1\n",
        "# x is not a param of our model so we leave it out here."
      ],
      "execution_count": 0,
      "outputs": []
    },
    {
      "cell_type": "code",
      "metadata": {
        "id": "MGEthf_hbArZ",
        "colab_type": "code",
        "colab": {}
      },
      "source": [
        "#TODO: Initialise params\n",
        "def init() -> (float, float):\n",
        "  #Set seed, so that we always have the same result\n",
        "  np.random.seed(13)\n",
        "  pass"
      ],
      "execution_count": 0,
      "outputs": []
    },
    {
      "cell_type": "code",
      "metadata": {
        "id": "oSp3o2ZUa_cn",
        "colab_type": "code",
        "cellView": "form",
        "colab": {}
      },
      "source": [
        "#@title\n",
        "# Answers\n",
        "def init() -> (float, float):  \n",
        "  np.random.seed(13)\n",
        "  w1 = np.random.uniform(-1, 1)\n",
        "  b1 = np.random.uniform(-1, 1)\n",
        "  return w1, b1"
      ],
      "execution_count": 0,
      "outputs": []
    },
    {
      "cell_type": "code",
      "metadata": {
        "id": "MRvxctX5pwNQ",
        "colab_type": "code",
        "colab": {}
      },
      "source": [
        "def loss_accu(y, yh):\n",
        "  loss = sklearn.metrics.log_loss(y, yh)\n",
        "#   print(f'Loss:{loss}')\n",
        "  yh_temp = ['hot' if val > 0.5 else 'cold' for val in yh]\n",
        "  acc = sklearn.metrics.accuracy_score(y, [1 if x == 'hot' else 0 for x in yh_temp])\n",
        "#   print(f'Accu:{acc}')\n",
        "  return loss, acc"
      ],
      "execution_count": 0,
      "outputs": []
    },
    {
      "cell_type": "markdown",
      "metadata": {
        "id": "pYdyVmxzsG6S",
        "colab_type": "text"
      },
      "source": [
        "## Let's put the pieces together and train the neuron\n",
        "\n",
        "* Init params, w1, b1\n",
        "* Pick an alpha, and a number of epochs.\n",
        "* Loop over the dataset epoch times. In each loop:\n",
        " * Compute forward(x, y )\n",
        " * Compute backward(yh, x, w1, b1)\n",
        " * average gradients\n",
        " * update_params\n",
        "  \n",
        "### Experiment with different values for alpha / and epochs. \n",
        "\n",
        "Possible values to try:\n",
        "alpha = { 0.1 , 0.01, 0.001, 0.0001}, \n",
        "epochs = {1000, 10000, 100000}\n",
        "or any other value you can think of.\n",
        "\n",
        "Try and find the best one that balances speed to convergence and performance."
      ]
    },
    {
      "cell_type": "code",
      "metadata": {
        "id": "m-RyU7cbR0rJ",
        "colab_type": "code",
        "cellView": "form",
        "outputId": "1a7fd36f-9084-4bef-d768-cba8a49df907",
        "colab": {
          "base_uri": "https://localhost:8080/",
          "height": 34
        }
      },
      "source": [
        "#@title\n",
        "#Answers\n",
        "w1, b1 = init()\n",
        "epochs = 50000\n",
        "alpha = 0.0001\n",
        "\n",
        "# record things...\n",
        "bs, ls, ws, acs = [], [], [], []\n",
        "for _ in range(epochs):\n",
        "  # run forward\n",
        "  yh = forward(x, w1, b1)\n",
        "    \n",
        "  # only print every 100 epochs\n",
        "  if _ == 0 or _ % 100 == 0:\n",
        "    loss, acc = loss_accu(y, yh)\n",
        "    ws.append(w1)\n",
        "    bs.append(w1)\n",
        "    ls.append(loss) \n",
        "    acs.append(acc)\n",
        "  dy_dw, dy_db, dy_dx = backward(yh, x, w1, b1)\n",
        "  \n",
        "  dy_dw_avg = np.mean(dy_dw)\n",
        "  dy_db_avg = np.mean(dy_db)\n",
        "  dy_dx_avg = np.mean(dy_dx)\n",
        "  \n",
        "  w1, b1 = update_params(w1, dy_dw_avg, b1, dy_db_avg, alpha)\n",
        "print(w1, b1)"
      ],
      "execution_count": 0,
      "outputs": [
        {
          "output_type": "stream",
          "text": [
            "0.21176273661196324 -0.7141329392163922\n"
          ],
          "name": "stdout"
        }
      ]
    },
    {
      "cell_type": "code",
      "metadata": {
        "id": "-mZ1-jwvryiQ",
        "colab_type": "code",
        "cellView": "both",
        "colab": {}
      },
      "source": [
        "#@title\n",
        "def plots(ws, bs, losses, accs):\n",
        "  fig = plt.figure()\n",
        "  fig.subplots_adjust(hspace=0.6, wspace=0.6)\n",
        "  fig.set_size_inches(10, 10)\n",
        "\n",
        "  plt.subplot(2, 2, 1)\n",
        "  sns.lineplot(np.arange(0, len(bs)), bs).set_title(\"Bias\")\n",
        "\n",
        "  plt.subplot(2, 2, 2)\n",
        "  sns.lineplot(np.arange(0, len(ws)), ws).set_title(\"Weight\")\n",
        "\n",
        "  plt.subplot(2, 2, 3)\n",
        "  sns.lineplot(np.arange(0, len(accs)), accs).set_title(\"accs\")\n",
        "\n",
        "  plt.subplot(2, 2, 4)\n",
        "  sns.lineplot(np.arange(0, len(losses)), losses).set_title(\"losses\")\n",
        "  fig.show()"
      ],
      "execution_count": 0,
      "outputs": []
    },
    {
      "cell_type": "code",
      "metadata": {
        "id": "BHcL2qFtvoJH",
        "colab_type": "code",
        "outputId": "6b01b7cd-28c8-47ab-f826-17e8d9c6579f",
        "colab": {
          "base_uri": "https://localhost:8080/",
          "height": 607
        }
      },
      "source": [
        "plots(ws, bs, ls, acs)"
      ],
      "execution_count": 0,
      "outputs": [
        {
          "output_type": "display_data",
          "data": {
            "image/png": "[encoded data removed]",
            "text/plain": [
              "<Figure size 720x720 with 4 Axes>"
            ]
          },
          "metadata": {
            "tags": []
          }
        }
      ]
    },
    {
      "cell_type": "markdown",
      "metadata": {
        "id": "B3mxhr70xLlT",
        "colab_type": "text"
      },
      "source": [
        "# Why can't we get any better, loss is decreasing but accuracy is the same!\n",
        "\n",
        "# Possible Issues:\n",
        "* Out Dataset is too unbalanced\n",
        "* The Model is not flexible enough (too high bias, not enough variance)\n",
        "* We didn't try the correct combination of learning rate / epochs\n",
        "* We inited the params in a bad place"
      ]
    },
    {
      "cell_type": "markdown",
      "metadata": {
        "id": "eSsiWL-5W9xg",
        "colab_type": "text"
      },
      "source": [
        "# Multi Layer Perceptron (MLP)\n",
        "\n",
        "<img src=\"https://drive.google.com/uc?export=view&id=1I4YkeCwhoQtB7_vgs-V5lg50HTUp28tO\" height='250px' />\n",
        "\n",
        "Notation:\n",
        "\n",
        "$\n",
        "x_1 - \\text{Input} \\\\\n",
        "ŷ_1 - \\text{Output} \\\\\n",
        "$\n",
        "\n",
        "$\n",
        "w^1_1 - \\text{Weights for the first layer} \\\\\n",
        "w^1_2 - \\text{Weights for the second layer} \\\\\n",
        "b^1_1 - \\text{bias term of layer 1, neuron 1} \\\\\n",
        "b^1_2 - \\text{bias term of layer 1, neuron 2} \\\\\n",
        "b^2_1 - \\text{bias term of layer 2, neuron 1} \\\\\n",
        "z^1_1 = w1_1 \\cdot x_1 + b_1 \\\\\n",
        "z^1_2 = w1_2 \\cdot x_2 + b_2 \\\\\n",
        "z^2_1 = w2_1 \\cdot x_2 +  b_2\\\\\n",
        "$\n",
        "\n",
        "Actions on weights, bias terms with fully connected layers can be represented using matrix operations, at each layer:\n",
        "\n",
        "$\n",
        "W = \\text{Weights of all inputs to all outputs per layer} \\\\\n",
        "x = \\text{Input vector} \\\\\n",
        "z = \\text{linear combination of the inputs & weights + bias} \\\\\n",
        "h = \\text{output of the neuron with z and non-linearity} \\\\\n",
        "$\n",
        "\n",
        "Generally each neuron computes: \n",
        "\n",
        "$\n",
        "z = W \\cdot x  + b\\\\\n",
        "h = f(z) \\\\\n",
        "$\n",
        "\n"
      ]
    },
    {
      "cell_type": "code",
      "metadata": {
        "id": "rTi1y5hLpRSj",
        "colab_type": "code",
        "colab": {}
      },
      "source": [
        "#Set seed, so that we always have the same result\n",
        "np.random.seed(13)\n",
        "\n",
        "rnd = lambda: np.random.uniform(-1, 1)\n",
        "# TODO: Initialize the parameters of the Neural Network\n",
        "\n",
        "w1 = np.array([rnd(), rnd()])\n",
        "b1 = np.array([rnd(), rnd()])\n",
        "w2 = np.array([rnd(), rnd()]).T\n",
        "b2 = np.array([rnd()])"
      ],
      "execution_count": 0,
      "outputs": []
    },
    {
      "cell_type": "code",
      "metadata": {
        "id": "f2M9BSh1pR1Y",
        "colab_type": "code",
        "colab": {}
      },
      "source": [
        "# TODO: Implement the fwd pass, output vector should be called yh\n",
        "# Note: dimensions of w1 and w2, that are column and row vectors respectively.\n",
        "# yh should be a list of probabilities, one for each input training sample"
      ],
      "execution_count": 0,
      "outputs": []
    },
    {
      "cell_type": "code",
      "metadata": {
        "id": "ROcJx3z-eYY6",
        "colab_type": "code",
        "cellView": "form",
        "colab": {}
      },
      "source": [
        "#@title\n",
        "# Answers\n",
        "yh = []\n",
        "for training_item in x:\n",
        "  z1 = w1 * training_item + b1\n",
        "  h1 = sigmoid(z1)\n",
        "  z2 = np.matmul(w2.T, h1) + b2\n",
        "  h2 = sigmoid(z2)\n",
        "  yh.append(h2)"
      ],
      "execution_count": 0,
      "outputs": []
    },
    {
      "cell_type": "markdown",
      "metadata": {
        "id": "xtl3C0hqiEjv",
        "colab_type": "text"
      },
      "source": [
        "# Backward Pass\n",
        "Calculate partials respect to all params\n",
        "W1, W2, B1, B2\n",
        "\n",
        "NB: W and B are vectors to reflect the multiple input and multiple outputs of neurons at respective layers.\n",
        "\n"
      ]
    },
    {
      "cell_type": "markdown",
      "metadata": {
        "id": "wr9TgEtiwTG_",
        "colab_type": "text"
      },
      "source": [
        "For any given node within a network we can generalise to:\n",
        "\n",
        "$\n",
        "\\frac{\\partial y}{\\partial w} = \\frac{\\partial y}{\\partial h}  \\frac{\\partial h}{\\partial z} \\frac{\\partial z}{\\partial W}\\\\\n",
        "$\n",
        "\n",
        "$\n",
        "\\frac{\\partial y}{\\partial b} = \\frac{\\partial y}{\\partial h}  \\frac{\\partial h}{\\partial z} \\frac{\\partial z} {\\partial b} \\\\ \n",
        "$\n",
        "\n",
        "Upstream gradient:\n",
        "$\n",
        "\\frac{\\partial y}{\\partial h}\n",
        "$\n",
        "\n",
        "Local gradient:\n",
        "$\n",
        "\\frac{\\partial h}{\\partial x}\n",
        "$\n",
        "\n",
        "Downstream gradient:\n",
        "$\n",
        "\\frac{\\partial y}{\\partial x} = \\frac{\\partial y}{\\partial h}  \\frac{\\partial h}{\\partial x} \n",
        "$\n",
        "\n",
        "\n",
        "<img src=\"https://drive.google.com/uc?export=view&id=1MPpUS1kt8yF-ovjR986S1jGkkNHkKIBJ\" />\n",
        "\n",
        "The gradient of a node is the sum of the local gradient of successor nodes multiplied by their own upstream \n",
        "gradient. \n",
        "\n",
        "Where $ \\{ y_1, y_2, ... y_n \\} = $ successor nodes of $x$\n",
        "\n",
        "$\n",
        "\\frac{\\partial f}{\\partial x} = \\sum \\frac{\\partial f}{\\partial y_i}  \\frac{\\partial y_i}{\\partial x} \n",
        "$"
      ]
    },
    {
      "cell_type": "markdown",
      "metadata": {
        "id": "ZhWQ3sz8HODs",
        "colab_type": "text"
      },
      "source": [
        "# Deep Learning Frameworks\n",
        "\n",
        "Modern deep learning frameworks offer auto differentiation features. So, only the forward pass needs to be implemented.  The framework (generally) keeps track of computation graph state to be used in backprop of errors.\n",
        "\n",
        "NB: Potentially any sequence of operations are differentiable with these framewordks\n",
        "\n"
      ]
    },
    {
      "cell_type": "markdown",
      "metadata": {
        "id": "AhuGAeDSlaQx",
        "colab_type": "text"
      },
      "source": [
        "# **1. Prepare the dataset**"
      ]
    },
    {
      "cell_type": "code",
      "metadata": {
        "id": "6Ql-AinznzkW",
        "colab_type": "code",
        "outputId": "3ecd905f-f154-4d25-c2fd-e28e140e3410",
        "colab": {
          "base_uri": "https://localhost:8080/",
          "height": 85
        }
      },
      "source": [
        "device = torch.device('cuda')\n",
        "\n",
        "# The whole dataset\n",
        "print(x[0:10])\n",
        "print(y[0:10])\n",
        "print()\n",
        "# Print the size\n",
        "print(\"The size of our dataset is: \" + str(x.size))"
      ],
      "execution_count": 0,
      "outputs": [
        {
          "output_type": "stream",
          "text": [
            "[-21 -15  34  -2  -1 -22 -30  10   6 -14]\n",
            "[0 0 1 0 0 0 0 0 0 0]\n",
            "\n",
            "The size of our dataset is: 1000\n"
          ],
          "name": "stdout"
        }
      ]
    },
    {
      "cell_type": "markdown",
      "metadata": {
        "id": "KFUrCsLFotKC",
        "colab_type": "text"
      },
      "source": [
        "\n",
        "\n",
        "---\n",
        "\n",
        "\n",
        "**Generate a train/test/dev dataset**"
      ]
    },
    {
      "cell_type": "code",
      "metadata": {
        "id": "gXLRWcExot62",
        "colab_type": "code",
        "colab": {}
      },
      "source": [
        "def split(x, y):  \n",
        "  inds = np.random.permutation(len(x))\n",
        "  inds_train = inds[0:int(0.8*len(x))]\n",
        "  inds_test = inds[int(0.8*len(x)):int(0.9*len(x))]\n",
        "  inds_dev = inds[int(0.9*len(x)):]\n",
        "\n",
        "  # 80% of the dataset\n",
        "  x_train = x[inds_train]\n",
        "  y_train = y[inds_train]\n",
        "\n",
        "  # 10% of the dataset\n",
        "  x_test = x[inds_test]\n",
        "  y_test = y[inds_test]\n",
        "\n",
        "  # 10% of the dataset\n",
        "  x_dev = x[inds_dev]\n",
        "  y_dev = y[inds_dev]\n",
        "  \n",
        "  return x_train, x_dev, x_test, y_train, y_dev, y_test\n",
        "\n",
        "x_train, x_dev, x_test, y_train, y_dev, y_test = split(x, y)"
      ],
      "execution_count": 0,
      "outputs": []
    },
    {
      "cell_type": "markdown",
      "metadata": {
        "id": "OB1XiSSloStq",
        "colab_type": "text"
      },
      "source": [
        "\n",
        "\n",
        "---\n",
        "\n",
        "\n",
        "**Convert the inputs to PyTorch**"
      ]
    },
    {
      "cell_type": "code",
      "metadata": {
        "id": "uVrQT2IjoTXM",
        "colab_type": "code",
        "colab": {}
      },
      "source": [
        "def np_to_tensor(np_arr):\n",
        "  return torch.tensor(np_arr.reshape(-1, 1), dtype=torch.float32)\n",
        "\n",
        "x_train, y_train, x_dev, y_dev, x_test, y_test = (np_to_tensor(arr) for arr in\n",
        "                                                  (x_train, y_train, x_dev, y_dev, x_test, y_test))\n"
      ],
      "execution_count": 0,
      "outputs": []
    },
    {
      "cell_type": "markdown",
      "metadata": {
        "id": "TBXyAyEV-cJG",
        "colab_type": "text"
      },
      "source": [
        "# Build the Neural Network"
      ]
    },
    {
      "cell_type": "code",
      "metadata": {
        "id": "v6XuMnffc_fm",
        "colab_type": "code",
        "colab": {}
      },
      "source": [
        "class Net(nn.Module):\n",
        "    def __init__(self):\n",
        "      super(Net, self).__init__()\n",
        "      self.fc1 = nn.Linear(1, 1)\n",
        "      \n",
        "    def forward(self, x):\n",
        "      x = torch.sigmoid(self.fc1(x))\n",
        "      return x"
      ],
      "execution_count": 0,
      "outputs": []
    },
    {
      "cell_type": "markdown",
      "metadata": {
        "id": "M_MeocL1-mLy",
        "colab_type": "text"
      },
      "source": [
        "# Initialize the NN\n",
        "\n",
        "We also create the criterion (loss function) and the optimizer"
      ]
    },
    {
      "cell_type": "code",
      "metadata": {
        "id": "dQNhGqNc-k5K",
        "colab_type": "code",
        "colab": {}
      },
      "source": [
        "net = Net()\n",
        "criterion = nn.BCELoss()\n",
        "optimizer = optim.SGD(net.parameters(), lr=0.0001, momentum=0.999)"
      ],
      "execution_count": 0,
      "outputs": []
    },
    {
      "cell_type": "code",
      "metadata": {
        "id": "rglW4qhaCP89",
        "colab_type": "code",
        "outputId": "994910d1-add9-42dc-c9ed-87f3dc5c9166",
        "colab": {
          "base_uri": "https://localhost:8080/",
          "height": 85
        }
      },
      "source": [
        "print(net.fc1.weight)\n",
        "print(net.fc1.bias)"
      ],
      "execution_count": 0,
      "outputs": [
        {
          "output_type": "stream",
          "text": [
            "Parameter containing:\n",
            "tensor([[-0.8798]], requires_grad=True)\n",
            "Parameter containing:\n",
            "tensor([0.4269], requires_grad=True)\n"
          ],
          "name": "stdout"
        }
      ]
    },
    {
      "cell_type": "markdown",
      "metadata": {
        "id": "zuynUnhO-tvs",
        "colab_type": "text"
      },
      "source": [
        "# Train"
      ]
    },
    {
      "cell_type": "code",
      "metadata": {
        "id": "3XLMa0rxdk0m",
        "colab_type": "code",
        "outputId": "2c73a9c2-a1f2-4528-825e-dce929a7295a",
        "colab": {
          "base_uri": "https://localhost:8080/",
          "height": 374
        }
      },
      "source": [
        "net.to(device)\n",
        "x_train = x_train.to(device)\n",
        "y_train = y_train.to(device)\n",
        "\n",
        "x_dev = x_dev.to(device)\n",
        "y_dev = y_dev.to(device)\n",
        "\n",
        "net.train()\n",
        "losses = []\n",
        "accs = []\n",
        "ws = []\n",
        "bs = []\n",
        "for epoch in range(10000):  # do 200 epoch \n",
        "  # zero the gradients\n",
        "  optimizer.zero_grad()\n",
        "\n",
        "  # Forward \n",
        "  outputs = net(x_train)\n",
        "  # Calculate error\n",
        "  loss = criterion(outputs, y_train)\n",
        "  # Backward\n",
        "  loss.backward()\n",
        "  # Optimize/Update parameters\n",
        "  optimizer.step()\n",
        "  \n",
        "  # Track the changes - This is normally done using tensorboard or similar\n",
        "  losses.append(loss.item())\n",
        "  accs.append(sklearn.metrics.accuracy_score([1 if x > 0.5 else 0 for x in outputs.cpu().detach().numpy()], y_train.cpu().numpy()))\n",
        "  ws.append(net.fc1.weight.cpu().detach().numpy()[0][0])\n",
        "  bs.append(net.fc1.bias.cpu().detach().numpy()[0])\n",
        "\n",
        "  # print statistics\n",
        "  if epoch % 500 == 0:\n",
        "      acc = sklearn.metrics.accuracy_score([1 if x > 0.5 else 0 for x in outputs.cpu().detach().numpy()], y_train.cpu().numpy())\n",
        "      \n",
        "      outputs_dev = net(x_dev)\n",
        "      acc_dev = sklearn.metrics.accuracy_score([1 if x > 0.5 else 0 for x in outputs_dev.cpu().detach().numpy()], y_dev.cpu().numpy())\n",
        "      \n",
        "      print(\"Epoch: {:4} Loss: {:.5f} Acc: {:.3f} Acc Dev: {:.3f}\".format(epoch, loss.item(), acc, acc_dev))\n",
        "\n",
        "print('Finished Training')"
      ],
      "execution_count": 0,
      "outputs": [
        {
          "output_type": "stream",
          "text": [
            "Epoch:    0 Loss: 13.05723 Acc: 0.321 Acc Dev: 0.200\n",
            "Epoch:  500 Loss: 8.59571 Acc: 0.679 Acc Dev: 0.800\n",
            "Epoch: 1000 Loss: 8.87854 Acc: 0.679 Acc Dev: 0.800\n",
            "Epoch: 1500 Loss: 8.87725 Acc: 0.679 Acc Dev: 0.800\n",
            "Epoch: 2000 Loss: 8.87689 Acc: 0.679 Acc Dev: 0.800\n",
            "Epoch: 2500 Loss: 8.87676 Acc: 0.679 Acc Dev: 0.800\n",
            "Epoch: 3000 Loss: 8.87670 Acc: 0.679 Acc Dev: 0.800\n",
            "Epoch: 3500 Loss: 8.87666 Acc: 0.679 Acc Dev: 0.800\n",
            "Epoch: 4000 Loss: 8.87665 Acc: 0.679 Acc Dev: 0.800\n",
            "Epoch: 4500 Loss: 8.87664 Acc: 0.679 Acc Dev: 0.800\n",
            "Epoch: 5000 Loss: 8.87663 Acc: 0.679 Acc Dev: 0.800\n",
            "Epoch: 5500 Loss: 8.87663 Acc: 0.679 Acc Dev: 0.800\n",
            "Epoch: 6000 Loss: 8.87662 Acc: 0.679 Acc Dev: 0.800\n",
            "Epoch: 6500 Loss: 8.87662 Acc: 0.679 Acc Dev: 0.800\n",
            "Epoch: 7000 Loss: 8.87662 Acc: 0.679 Acc Dev: 0.800\n",
            "Epoch: 7500 Loss: 8.87662 Acc: 0.679 Acc Dev: 0.800\n",
            "Epoch: 8000 Loss: 8.87661 Acc: 0.679 Acc Dev: 0.800\n",
            "Epoch: 8500 Loss: 8.87661 Acc: 0.679 Acc Dev: 0.800\n",
            "Epoch: 9000 Loss: 8.87661 Acc: 0.679 Acc Dev: 0.800\n",
            "Epoch: 9500 Loss: 8.87661 Acc: 0.679 Acc Dev: 0.800\n",
            "Finished Training\n"
          ],
          "name": "stdout"
        }
      ]
    },
    {
      "cell_type": "markdown",
      "metadata": {
        "id": "HMqfPQMf-x6l",
        "colab_type": "text"
      },
      "source": [
        "# Plot Everything"
      ]
    },
    {
      "cell_type": "code",
      "metadata": {
        "id": "6sqlfJxLSkNN",
        "colab_type": "code",
        "outputId": "ba21f4e7-8007-41e6-ffee-6b0bbe7c92c4",
        "colab": {
          "base_uri": "https://localhost:8080/",
          "height": 607
        }
      },
      "source": [
        "fig = plt.figure()\n",
        "fig.subplots_adjust(hspace=0.6, wspace=0.6)\n",
        "fig.set_size_inches(10, 10)\n",
        "\n",
        "plt.subplot(2, 2, 1)\n",
        "sns.lineplot(np.arange(0, len(bs)), bs).set_title(\"Bias\")\n",
        "\n",
        "plt.subplot(2, 2, 2)\n",
        "sns.lineplot(np.arange(0, len(ws)), ws).set_title(\"Weight\")\n",
        "\n",
        "plt.subplot(2, 2, 3)\n",
        "sns.lineplot(np.arange(0, len(accs)), accs).set_title(\"accs\")\n",
        "\n",
        "plt.subplot(2, 2, 4)\n",
        "sns.lineplot(np.arange(0, len(losses)), losses).set_title(\"losses\")\n",
        "\n",
        "fig.show()"
      ],
      "execution_count": 0,
      "outputs": [
        {
          "output_type": "display_data",
          "data": {
            "image/png": "[encoded data removed]",
            "text/plain": [
              "<Figure size 720x720 with 4 Axes>"
            ]
          },
          "metadata": {
            "tags": []
          }
        }
      ]
    },
    {
      "cell_type": "markdown",
      "metadata": {
        "id": "6GWH2T7m9SBU",
        "colab_type": "text"
      },
      "source": [
        "# Let's do multiple layers"
      ]
    },
    {
      "cell_type": "code",
      "metadata": {
        "id": "umBqidrIG-43",
        "colab_type": "code",
        "colab": {}
      },
      "source": [
        "import torch.optim as optim\n",
        "class Net(nn.Module):\n",
        "    def __init__(self):\n",
        "      super(Net, self).__init__()\n",
        "      self.fc1 = nn.Linear(1, 100)\n",
        "      self.fc2 = nn.Linear(100, 200)\n",
        "      self.fc3 = nn.Linear(200, 1)\n",
        "      \n",
        "    def forward(self, x):\n",
        "      x = torch.sigmoid(self.fc1(x))\n",
        "      x = torch.sigmoid(self.fc2(x))\n",
        "      x = torch.sigmoid(self.fc3(x))\n",
        "      return x"
      ],
      "execution_count": 0,
      "outputs": []
    },
    {
      "cell_type": "code",
      "metadata": {
        "id": "AFw3aq6vvIzc",
        "colab_type": "code",
        "colab": {}
      },
      "source": [
        "net = Net()\n",
        "criterion = nn.BCELoss()\n",
        "optimizer = optim.SGD(net.parameters(), lr=0.0001, momentum=0.999)"
      ],
      "execution_count": 0,
      "outputs": []
    },
    {
      "cell_type": "code",
      "metadata": {
        "id": "Xcp1T7ivwg_m",
        "colab_type": "code",
        "outputId": "d0e88775-9b17-441f-8f53-6a048398d0ef",
        "colab": {
          "base_uri": "https://localhost:8080/",
          "height": 170
        }
      },
      "source": [
        "print(net.fc2.weight)"
      ],
      "execution_count": 0,
      "outputs": [
        {
          "output_type": "stream",
          "text": [
            "Parameter containing:\n",
            "tensor([[ 0.0788, -0.0030, -0.0523,  ...,  0.0225,  0.0198, -0.0927],\n",
            "        [ 0.0737, -0.0854,  0.0742,  ...,  0.0299, -0.0684, -0.0087],\n",
            "        [-0.0890, -0.0038, -0.0829,  ...,  0.0224, -0.0649,  0.0416],\n",
            "        ...,\n",
            "        [ 0.0310,  0.0976, -0.0338,  ..., -0.0232, -0.0897, -0.0588],\n",
            "        [ 0.0775, -0.0171, -0.0438,  ..., -0.0155,  0.0234,  0.0775],\n",
            "        [-0.0882, -0.0389, -0.0501,  ..., -0.0506, -0.0248,  0.0013]],\n",
            "       requires_grad=True)\n"
          ],
          "name": "stdout"
        }
      ]
    },
    {
      "cell_type": "code",
      "metadata": {
        "id": "mgyBXwaGvQ9c",
        "colab_type": "code",
        "outputId": "e88157ce-c948-4086-bb49-a85f6971f169",
        "colab": {
          "base_uri": "https://localhost:8080/",
          "height": 374
        }
      },
      "source": [
        "net.to(device)\n",
        "x_train = x_train.to(device)\n",
        "y_train = y_train.to(device)\n",
        "net.train()\n",
        "losses, accs, ws, bs = [], [], [], []\n",
        "for epoch in range(10000):\n",
        "  # zero the gradients\n",
        "  optimizer.zero_grad()\n",
        "\n",
        "  # Forward \n",
        "  outputs = net(x_train)\n",
        "  # Calculate error\n",
        "  loss = criterion(outputs, y_train)\n",
        "  # Backward\n",
        "  loss.backward()\n",
        "  # Optimize/Update parameters\n",
        "  optimizer.step()\n",
        "  \n",
        "  # Track the changes - This is normally done using tensorboard or similar\n",
        "  losses.append(loss.item())\n",
        "  accs.append(sklearn.metrics.accuracy_score([1 if x > 0.5 else 0 for x in outputs.cpu().detach().numpy()], y_train.cpu().numpy()))\n",
        "  ws.append(net.fc1.weight.cpu().detach().numpy()[0][0])\n",
        "  bs.append(net.fc1.bias.cpu().detach().numpy()[0])\n",
        "\n",
        "  # print statistics\n",
        "  if epoch % 500 == 0:\n",
        "      acc = sklearn.metrics.accuracy_score([1 if x > 0.5 else 0 for x in outputs.cpu().detach().numpy()], y_train.cpu().numpy())\n",
        "      print(\"Epoch: {:4} Loss: {:.5} Acc: {:.3}\".format(epoch, loss.item(), acc))\n",
        "\n",
        "print('Finished Training')"
      ],
      "execution_count": 0,
      "outputs": [
        {
          "output_type": "stream",
          "text": [
            "Epoch:    0 Loss: 0.64965 Acc: 0.777\n",
            "Epoch:  500 Loss: 0.31227 Acc: 0.859\n",
            "Epoch: 1000 Loss: 0.18758 Acc: 0.935\n",
            "Epoch: 1500 Loss: 0.11201 Acc: 0.969\n",
            "Epoch: 2000 Loss: 0.053326 Acc: 0.986\n",
            "Epoch: 2500 Loss: 0.041745 Acc: 0.985\n",
            "Epoch: 3000 Loss: 0.033435 Acc: 0.986\n",
            "Epoch: 3500 Loss: 0.021398 Acc: 1.0\n",
            "Epoch: 4000 Loss: 0.020641 Acc: 0.986\n",
            "Epoch: 4500 Loss: 0.016525 Acc: 1.0\n",
            "Epoch: 5000 Loss: 0.015752 Acc: 1.0\n",
            "Epoch: 5500 Loss: 0.013995 Acc: 1.0\n",
            "Epoch: 6000 Loss: 0.013664 Acc: 1.0\n",
            "Epoch: 6500 Loss: 0.012601 Acc: 1.0\n",
            "Epoch: 7000 Loss: 0.012098 Acc: 1.0\n",
            "Epoch: 7500 Loss: 0.011648 Acc: 1.0\n",
            "Epoch: 8000 Loss: 0.011253 Acc: 1.0\n",
            "Epoch: 8500 Loss: 0.01093 Acc: 1.0\n",
            "Epoch: 9000 Loss: 0.01057 Acc: 1.0\n",
            "Epoch: 9500 Loss: 0.010242 Acc: 1.0\n",
            "Finished Training\n"
          ],
          "name": "stdout"
        }
      ]
    },
    {
      "cell_type": "code",
      "metadata": {
        "id": "TKdNsXlnvUMw",
        "colab_type": "code",
        "outputId": "855a9612-46c5-4345-eec3-71b5f150ff61",
        "colab": {
          "base_uri": "https://localhost:8080/",
          "height": 607
        }
      },
      "source": [
        "fig = plt.figure()\n",
        "fig.subplots_adjust(hspace=0.6, wspace=0.6)\n",
        "fig.set_size_inches(10, 10)\n",
        "\n",
        "plt.subplot(2, 2, 1)\n",
        "sns.lineplot(np.arange(0, len(bs)), bs).set_title(\"Bias\")\n",
        "\n",
        "plt.subplot(2, 2, 2)\n",
        "sns.lineplot(np.arange(0, len(ws)), ws).set_title(\"Weight\")\n",
        "\n",
        "plt.subplot(2, 2, 3)\n",
        "sns.lineplot(np.arange(0, len(accs)), accs).set_title(\"accs\")\n",
        "\n",
        "plt.subplot(2, 2, 4)\n",
        "sns.lineplot(np.arange(0, len(losses)), losses).set_title(\"losses\")\n",
        "\n",
        "fig.show()\n"
      ],
      "execution_count": 0,
      "outputs": [
        {
          "output_type": "display_data",
          "data": {
            "image/png": "[encoded data removed]",
            "text/plain": [
              "<Figure size 720x720 with 4 Axes>"
            ]
          },
          "metadata": {
            "tags": []
          }
        }
      ]
    },
    {
      "cell_type": "markdown",
      "metadata": {
        "id": "nvuoFbX13RZ8",
        "colab_type": "text"
      },
      "source": [
        "# Multiple Classes\n",
        "\n"
      ]
    },
    {
      "cell_type": "code",
      "metadata": {
        "id": "rXegcTKVAA6x",
        "colab_type": "code",
        "colab": {}
      },
      "source": [
        "from torch.nn import CrossEntropyLoss"
      ],
      "execution_count": 0,
      "outputs": []
    },
    {
      "cell_type": "code",
      "metadata": {
        "id": "5fvpB3l07Auz",
        "colab_type": "code",
        "outputId": "9cac2109-dea4-47d0-80b1-6fc1297572cb",
        "colab": {
          "base_uri": "https://localhost:8080/",
          "height": 187
        }
      },
      "source": [
        "# Same dataset as last time\n",
        "np.random.seed(10)\n",
        "# TODO: Generate a vector with 1000 integers with values from -30 to 40\n",
        "x = np.random.randint(-30, 40, 1000)\n",
        "y = np.array([3 if v > 20 else \n",
        "              2 if v > 10 else\n",
        "              1 if v > 0 else 0 for v in x])\n",
        "for i in range(10):\n",
        "  print(\"If the temperature is {:4} it is  {}\".format(x[i], \"hot\" if y[i] == 3 \n",
        "                                                      else \"warm\" if y[i] == 2\n",
        "                                                      else \"cold\" if y[i] == 1\n",
        "                                                      else \"FREEEEEZING\"))\n",
        "# re-split the dataset\n",
        "x_train, x_dev, x_test, y_train, y_dev, y_test = split(x, y)"
      ],
      "execution_count": 0,
      "outputs": [
        {
          "output_type": "stream",
          "text": [
            "If the temperature is  -21 it is  FREEEEEZING\n",
            "If the temperature is  -15 it is  FREEEEEZING\n",
            "If the temperature is   34 it is  hot\n",
            "If the temperature is   -2 it is  FREEEEEZING\n",
            "If the temperature is   -1 it is  FREEEEEZING\n",
            "If the temperature is  -22 it is  FREEEEEZING\n",
            "If the temperature is  -30 it is  FREEEEEZING\n",
            "If the temperature is   10 it is  cold\n",
            "If the temperature is    6 it is  cold\n",
            "If the temperature is  -14 it is  FREEEEEZING\n"
          ],
          "name": "stdout"
        }
      ]
    },
    {
      "cell_type": "code",
      "metadata": {
        "id": "qjZ6LzGC7xm5",
        "colab_type": "code",
        "outputId": "e2f2518c-742a-40bb-878f-9bad2a9c0fc9",
        "colab": {
          "base_uri": "https://localhost:8080/",
          "height": 51
        }
      },
      "source": [
        "_, counts = np.unique(y, return_counts=True)\n",
        "print(f\"Sample Counts by Class:\\n'FREEEEEZING':{counts[0]}, 'cold':{counts[1]}, 'warm':{counts[2]},  'hot':{counts[3]}\")"
      ],
      "execution_count": 0,
      "outputs": [
        {
          "output_type": "stream",
          "text": [
            "Samples Counts by Class:\n",
            "'FREEEEEZING':456, 'cold':165, 'warm':141,  'hot':238\n"
          ],
          "name": "stdout"
        }
      ]
    },
    {
      "cell_type": "code",
      "metadata": {
        "id": "Lvaop5RW7Qi6",
        "colab_type": "code",
        "colab": {}
      },
      "source": [
        "# TODO: Instantiate the train, dev and test sets for the multi class case. "
      ],
      "execution_count": 0,
      "outputs": []
    },
    {
      "cell_type": "code",
      "metadata": {
        "id": "t-UbiYSECO9e",
        "colab_type": "code",
        "cellView": "form",
        "colab": {}
      },
      "source": [
        "#@title\n",
        "## Answer\n",
        "def np_to_tensor(np_arr, dtype=None):\n",
        "  return torch.tensor(np_arr.reshape(-1, 1), dtype=torch.float32 if dtype is None else dtype)\n",
        "\n",
        "x_train, x_dev,  x_test, = (np_to_tensor(arr) for arr in (x_train, x_dev, x_test))\n",
        "# sublte differences in initialisation.\n",
        "y_train, y_dev, y_test = (np_to_tensor(arr, dtype=torch.long).squeeze() for arr in (y_train, y_dev, y_test))"
      ],
      "execution_count": 0,
      "outputs": []
    },
    {
      "cell_type": "code",
      "metadata": {
        "id": "l4tNDqPc9Kwn",
        "colab_type": "code",
        "colab": {}
      },
      "source": [
        "# Implement a similar network as above, note the output neuron difference and the loss criterion"
      ],
      "execution_count": 0,
      "outputs": []
    },
    {
      "cell_type": "code",
      "metadata": {
        "id": "j7cbyYNQ-f9e",
        "colab_type": "code",
        "cellView": "both",
        "colab": {}
      },
      "source": [
        "#@title\n",
        "#TODO - Create a network with 3 Layers for each use sigmoid as activation:"
      ],
      "execution_count": 0,
      "outputs": []
    },
    {
      "cell_type": "code",
      "metadata": {
        "id": "IcZREUPkrDJU",
        "colab_type": "code",
        "cellView": "form",
        "colab": {}
      },
      "source": [
        "#@title\n",
        "# Answers\n",
        "import torch.optim as optim\n",
        "class Net(nn.Module):\n",
        "    def __init__(self):\n",
        "      super(Net, self).__init__()\n",
        "      self.fc1 = nn.Linear(1, 100)\n",
        "      self.fc2 = nn.Linear(100, 200)\n",
        "      self.fc3 = nn.Linear(200, 4)\n",
        "      \n",
        "    def forward(self, x):\n",
        "      x = torch.sigmoid(self.fc1(x))\n",
        "      x = torch.sigmoid(self.fc2(x))\n",
        "      x = torch.sigmoid(self.fc3(x))\n",
        "      # softmax to pick one of the classes.\n",
        "      return x"
      ],
      "execution_count": 0,
      "outputs": []
    },
    {
      "cell_type": "code",
      "metadata": {
        "id": "cK2FDo809YXV",
        "colab_type": "code",
        "colab": {}
      },
      "source": [
        "# Instantiate:\n",
        "# - the neural net,\n",
        "# - the loss criterion\n",
        "# - the optimiser"
      ],
      "execution_count": 0,
      "outputs": []
    },
    {
      "cell_type": "code",
      "metadata": {
        "id": "z_kyer_8-u_8",
        "colab_type": "code",
        "cellView": "form",
        "colab": {}
      },
      "source": [
        "#@title\n",
        "# Answers:\n",
        "net = Net()\n",
        "criterion = nn.CrossEntropyLoss()\n",
        "optimizer = optim.SGD(net.parameters(), lr=0.00001, momentum=0.999)"
      ],
      "execution_count": 0,
      "outputs": []
    },
    {
      "cell_type": "code",
      "metadata": {
        "id": "nWseVBC99pWI",
        "colab_type": "code",
        "colab": {}
      },
      "source": [
        "# Implement the training loop - multi this multi class problem"
      ],
      "execution_count": 0,
      "outputs": []
    },
    {
      "cell_type": "code",
      "metadata": {
        "id": "OFUvxEvg-ySA",
        "colab_type": "code",
        "cellView": "form",
        "outputId": "b8a7b282-ba78-43b2-fedf-ad7c65d10829",
        "colab": {
          "base_uri": "https://localhost:8080/",
          "height": 374
        }
      },
      "source": [
        "#@title\n",
        "# Answers:\n",
        "net.to(device)\n",
        "x_train = x_train.to(device)\n",
        "y_train = y_train.to(device)\n",
        "net.train()\n",
        "losses, accs, ws, bs = [], [], [], []\n",
        "for epoch in range(10000):  # do 200 epoch \n",
        "  # zero the gradients\n",
        "  optimizer.zero_grad()\n",
        "\n",
        "  # Forward \n",
        "  outputs = net(x_train)\n",
        "  # Calculate error\n",
        "  loss = criterion(outputs, y_train)\n",
        "  # Backward\n",
        "  loss.backward()\n",
        "  # Optimize/Update parameters\n",
        "  optimizer.step()\n",
        "  \n",
        "  losses.append(loss.item())\n",
        "  \n",
        "  y_preds = np.argmax(torch.softmax(outputs, 0).cpu().detach().numpy(), axis=1)\n",
        "  accs.append(sklearn.metrics.accuracy_score(y_preds, y_train.cpu().numpy()))\n",
        "  ws.append(net.fc1.weight.cpu().detach().numpy()[0][0])\n",
        "  bs.append(net.fc1.bias.cpu().detach().numpy()[0])\n",
        "\n",
        "  # print statistics\n",
        "  if epoch % 500 == 0:\n",
        "      acc = sklearn.metrics.accuracy_score(y_preds, y_train.cpu().numpy())\n",
        "      print(\"Epoch: {:4} Loss: {:.5} Acc: {:.3}\".format(epoch, loss.item(), acc))\n",
        "\n",
        "print('Finished Training')"
      ],
      "execution_count": 0,
      "outputs": [
        {
          "output_type": "stream",
          "text": [
            "Epoch:    0 Loss: 1.0493 Acc: 0.782\n",
            "Epoch:  500 Loss: 1.0404 Acc: 0.782\n",
            "Epoch: 1000 Loss: 1.0196 Acc: 0.805\n",
            "Epoch: 1500 Loss: 1.0053 Acc: 0.825\n",
            "Epoch: 2000 Loss: 1.0027 Acc: 0.825\n",
            "Epoch: 2500 Loss: 0.99988 Acc: 0.825\n",
            "Epoch: 3000 Loss: 0.99673 Acc: 0.825\n",
            "Epoch: 3500 Loss: 0.99482 Acc: 0.825\n",
            "Epoch: 4000 Loss: 0.99359 Acc: 0.825\n",
            "Epoch: 4500 Loss: 0.99246 Acc: 0.825\n",
            "Epoch: 5000 Loss: 0.9914 Acc: 0.843\n",
            "Epoch: 5500 Loss: 0.99045 Acc: 0.843\n",
            "Epoch: 6000 Loss: 0.98956 Acc: 0.843\n",
            "Epoch: 6500 Loss: 0.98868 Acc: 0.843\n",
            "Epoch: 7000 Loss: 0.98783 Acc: 0.843\n",
            "Epoch: 7500 Loss: 0.98699 Acc: 0.843\n",
            "Epoch: 8000 Loss: 0.98615 Acc: 0.858\n",
            "Epoch: 8500 Loss: 0.9853 Acc: 0.858\n",
            "Epoch: 9000 Loss: 0.98443 Acc: 0.858\n",
            "Epoch: 9500 Loss: 0.98354 Acc: 0.858\n",
            "Finished Training\n"
          ],
          "name": "stdout"
        }
      ]
    },
    {
      "cell_type": "markdown",
      "metadata": {
        "id": "sUG32d-jM8Oi",
        "colab_type": "text"
      },
      "source": [
        "# NLP Use Case:\n",
        "\n",
        "Predicting hospital readmission to ICU from Discharge Summary Text.\n",
        "\n",
        "\n",
        "\n",
        "\n"
      ]
    },
    {
      "cell_type": "code",
      "metadata": {
        "id": "oW1JHtmgT9ez",
        "colab_type": "code",
        "colab": {}
      },
      "source": [
        "# For completeness this is SQL for two queries from mimic3. \n",
        "\"\"\"\n",
        "with _pos_subj as (\n",
        "\tselect distinct(subject_id) from icu_readmission limit 500\n",
        "), _neg_subj as (\n",
        "\tselect distinct(subject_id) from admissions where subject_id not in \n",
        "\t\t(select distinct(subject_id) from icu_readmission limit 500) limit 575\n",
        "), _noteevents as (\n",
        "\tselect \n",
        "\t\tn.subject_id, n.text, n.chartdate,\n",
        "\t\trow_number() over (partition by n.subject_id order by n.chartdate) as row_number \n",
        "\tfrom \n",
        "\t\tnoteevents as n \n",
        "\twhere \n",
        "\t\tn.category = 'Discharge summary'\n",
        ")\n",
        "\n",
        "select \n",
        "\tpos_notes.subject_id as pos_subj, pos_notes.text as pos_text \n",
        "from\n",
        "\t(select \n",
        "\t\tn.subject_id, n.text from _noteevents as n \n",
        "\t where \n",
        "\t\tn.subject_id in (select * from _pos_subj) and\n",
        "\t\tn.row_number = '1'\n",
        "\t) as pos_notes;\n",
        "\n",
        "select \n",
        "\tneg_notes.subject_id as neg_subj, neg_notes.text as neg_text\n",
        "from\n",
        "\t(select n.subject_id, n.text from _noteevents as n \n",
        "\t where\n",
        "\t \tn.subject_id in (select * from _neg_subj) and\n",
        "\t\tn.row_number = '1'\n",
        "\t) as neg_notes;\n",
        "\"\"\""
      ],
      "execution_count": 0,
      "outputs": []
    },
    {
      "cell_type": "code",
      "metadata": {
        "id": "RUDIR6b5Qlg7",
        "colab_type": "code",
        "colab": {}
      },
      "source": [
        "# Download the CSV\n",
        "import requests\n",
        "import pandas as pd\n",
        "from io import StringIO"
      ],
      "execution_count": 0,
      "outputs": []
    },
    {
      "cell_type": "code",
      "metadata": {
        "id": "b9PDJ7RLQxJV",
        "colab_type": "code",
        "colab": {}
      },
      "source": [
        "resp = requests.get('http://deeplearning-nlp-tutorial.s3.amazonaws.com/neg_subj.csv')\n",
        "neg_subj_df = pd.read_csv(StringIO(resp.content.decode('utf-8')))\n",
        "resp = requests.get('http://deeplearning-nlp-tutorial.s3.amazonaws.com/pos_subj.csv')\n",
        "pos_subj_df = pd.read_csv(StringIO(resp.content.decode('utf-8')))"
      ],
      "execution_count": 0,
      "outputs": []
    },
    {
      "cell_type": "code",
      "metadata": {
        "id": "b4HruKODTiK4",
        "colab_type": "code",
        "colab": {}
      },
      "source": [
        "PUNC = r'[\\[\\.,\\\\/#!$%\\^&\\*;:{}=\\-_`~()\\]\\'\\\"\\|<>/\\?\\@\\$\\%\\£\\+]'\n",
        "def clean(df, text_col):\n",
        "    df.loc[:, text_col + '_clean'] = df[text_col].str.lower()\\\n",
        "        .replace(to_replace=['\\[\\*\\*.*?\\*\\*\\]', '\\d'], value=['', 'd'], regex=True) \\\n",
        "        .replace(r'(\\s+)', ' ') \\\n",
        "        .replace(PUNC, ' ')\n",
        "    df.loc[:, 'clean_split'] = df[text_col + '_clean'].str.split()\n",
        "    return df\n",
        "neg_clean = clean(neg_subj_df, 'neg_text')\n",
        "pos_clean = clean(pos_subj_df, 'pos_text')"
      ],
      "execution_count": 0,
      "outputs": []
    },
    {
      "cell_type": "code",
      "metadata": {
        "id": "_XQQ42nFUyzn",
        "colab_type": "code",
        "colab": {}
      },
      "source": [
        "neg_clean['y'] = 0\n",
        "pos_clean['y'] = 1"
      ],
      "execution_count": 0,
      "outputs": []
    },
    {
      "cell_type": "code",
      "metadata": {
        "id": "yhQzxftOYS_P",
        "colab_type": "code",
        "colab": {}
      },
      "source": [
        "# don't care about the rest\n",
        "neg = neg_clean.loc[:, ['clean_split', 'y']]\n",
        "pos = pos_clean.loc[:, ['clean_split', 'y']]"
      ],
      "execution_count": 0,
      "outputs": []
    },
    {
      "cell_type": "code",
      "metadata": {
        "id": "XNJVaan-ZBDn",
        "colab_type": "code",
        "colab": {}
      },
      "source": [
        "data_set = pd.concat([neg, pos])\n",
        "X_raw = data_set.clean_split\n",
        "y = data_set.y"
      ],
      "execution_count": 0,
      "outputs": []
    },
    {
      "cell_type": "code",
      "metadata": {
        "id": "uGG1NXZmZdjB",
        "colab_type": "code",
        "colab": {}
      },
      "source": [
        "# Vectorise text before splitting as input into a new model\n",
        "from sklearn.feature_extraction.text import TfidfVectorizer, TfidfTransformer"
      ],
      "execution_count": 0,
      "outputs": []
    },
    {
      "cell_type": "markdown",
      "metadata": {
        "id": "Eamn0z2pdPJh",
        "colab_type": "text"
      },
      "source": [
        "# Neural Networks require numerical inputs\n",
        "\n",
        "One method of vectorising string input is the Bag-of-Words representation. These genrerally count the number of words a given set of words (the vocab) appears within the document, therefore allowing each document to be represented by one (often long and sparse) vector.\n",
        "\n",
        "TfIDf - is another such representation that attempts to weight rare words more highly. \n",
        "\n",
        "More details here: https://scikit-learn.org/stable/modules/feature_extraction.html#text-feature-extraction"
      ]
    },
    {
      "cell_type": "code",
      "metadata": {
        "id": "PotLNZPiYQIK",
        "colab_type": "code",
        "colab": {}
      },
      "source": [
        "vectoriser = TfidfVectorizer(tokenizer=lambda t: t, lowercase=False, max_features=10000)"
      ],
      "execution_count": 0,
      "outputs": []
    },
    {
      "cell_type": "code",
      "metadata": {
        "id": "QssK7FrPapBZ",
        "colab_type": "code",
        "colab": {}
      },
      "source": [
        "X = vectoriser.fit_transform(X_raw)"
      ],
      "execution_count": 0,
      "outputs": []
    },
    {
      "cell_type": "code",
      "metadata": {
        "id": "lRdBctKZfYUj",
        "colab_type": "code",
        "outputId": "8e401e3a-1c59-494b-a188-7d48c791ff61",
        "colab": {
          "base_uri": "https://localhost:8080/",
          "height": 51
        }
      },
      "source": [
        "def split():\n",
        "  # implement matrix splitting version\n",
        "  pass\n",
        "\n",
        "x_train, x_dev, x_test, y_train, y_dev, y_test = split(x, y)"
      ],
      "execution_count": 0,
      "outputs": [
        {
          "output_type": "execute_result",
          "data": {
            "text/plain": [
              "<986x10000 sparse matrix of type '<class 'numpy.float64'>'\n",
              "\twith 528797 stored elements in Compressed Sparse Row format>"
            ]
          },
          "metadata": {
            "tags": []
          },
          "execution_count": 49
        }
      ]
    },
    {
      "cell_type": "code",
      "metadata": {
        "id": "YiUVcjc4apjI",
        "colab_type": "code",
        "colab": {}
      },
      "source": [
        "# Implement:\n",
        "# Split\n",
        "# Train\n",
        "# Evaluate"
      ],
      "execution_count": 0,
      "outputs": []
    }
  ]
}