{
  "nbformat": 4,
  "nbformat_minor": 0,
  "metadata": {
    "colab": {
      "name": "python101_01.ipynb",
      "version": "0.3.2",
      "provenance": [],
      "collapsed_sections": [
        "_xz2vBm1TAU9",
        "8yhDIzrZRXB7",
        "McwMsXMxhwi3",
        "HcoH45GyfPYP",
        "RpfLwiRdrU-1",
        "f-WgvtdXf7__"
      ],
      "include_colab_link": true
    },
    "kernelspec": {
      "name": "python3",
      "display_name": "Python 3"
    }
  },
  "cells": [
    {
      "cell_type": "markdown",
      "metadata": {
        "id": "view-in-github",
        "colab_type": "text"
      },
      "source": [
        "<a href=\"https://colab.research.google.com/github/KCLaurelie/NN-course/blob/master/python101_01.ipynb\" target=\"_parent\"><img src=\"https://colab.research.google.com/assets/colab-badge.svg\" alt=\"Open In Colab\"/></a>"
      ]
    },
    {
      "cell_type": "markdown",
      "metadata": {
        "id": "_xz2vBm1TAU9",
        "colab_type": "text"
      },
      "source": [
        "## INTRODUCTION\n",
        "\n",
        "what are python packages?\n",
        "\n",
        "conventions to import common packages\n",
        "\n",
        "\n",
        "---\n",
        "\n",
        "\n",
        "\n"
      ]
    },
    {
      "cell_type": "code",
      "metadata": {
        "id": "-F3npVjIbHLv",
        "colab_type": "code",
        "colab": {}
      },
      "source": [
        "import numpy as np  # to do maths\n",
        "import pandas as pd  # to work with dataframes\n",
        "import matplotlib.pyplot as plt  # to plot stuff"
      ],
      "execution_count": 0,
      "outputs": []
    },
    {
      "cell_type": "code",
      "metadata": {
        "id": "lr4SEwmfbXKZ",
        "colab_type": "code",
        "colab": {}
      },
      "source": [
        "# TODO: import numpy and test the ceiling function (to call: ceil(float))"
      ],
      "execution_count": 0,
      "outputs": []
    },
    {
      "cell_type": "code",
      "metadata": {
        "id": "tVhGdDvRTVso",
        "colab_type": "code",
        "cellView": "form",
        "colab": {}
      },
      "source": [
        "#@title double click for solution\n",
        "\n",
        "import numpy as np\n",
        "np.ceil(0.5)"
      ],
      "execution_count": 0,
      "outputs": []
    },
    {
      "cell_type": "markdown",
      "metadata": {
        "id": "8yhDIzrZRXB7",
        "colab_type": "text"
      },
      "source": [
        "## Lesson 1: Chocolate bars and boxes\n",
        "\n",
        "concepts used: function, arguments, keyword arguments, return (default: None), floor, ceil, type\n",
        "\n",
        "\n",
        "\n",
        "---\n",
        "\n",
        "\n"
      ]
    },
    {
      "cell_type": "markdown",
      "metadata": {
        "id": "McwMsXMxhwi3",
        "colab_type": "text"
      },
      "source": [
        "A chocolate factory produces 1000 bars of chocolate on average every day.\n",
        "\n",
        "The bars are packed in boxes, each can contain up to 20 bars.\n",
        "\n",
        "#### **1. Write a function to compute the number of boxes needed to store the chocolate bars produced.**\n"
      ]
    },
    {
      "cell_type": "code",
      "metadata": {
        "id": "2yjxwptWfwFN",
        "colab_type": "code",
        "colab": {}
      },
      "source": [
        "# TODO: create a function computing the number of boxes needed to store n_bars chocolate bars\n",
        "def n_boxes(n_bars,bars_per_box=20):\n",
        "    \n",
        "    return"
      ],
      "execution_count": 0,
      "outputs": []
    },
    {
      "cell_type": "code",
      "metadata": {
        "id": "A2xaYCzaQcu0",
        "colab_type": "code",
        "colab": {}
      },
      "source": [
        "#@title double click for solution { display-mode: \"form\" }\n",
        "\n",
        "def n_boxes(n_bars,bars_per_box=20):\n",
        "    res=n_bars/bars_per_box\n",
        "    return np.ceil(res)"
      ],
      "execution_count": 0,
      "outputs": []
    },
    {
      "cell_type": "code",
      "metadata": {
        "id": "mMOid0aWQlaA",
        "colab_type": "code",
        "outputId": "dd04f286-5a47-42ec-ed0d-a15d6bf77994",
        "colab": {
          "base_uri": "https://localhost:8080/"
        }
      },
      "source": [
        "# test your function\n",
        "# note the different ways you can call it\n",
        "print(\"the factory needs\", n_boxes(1000), \"boxes to store the chocolate bars\")\n",
        "print(n_boxes(1000, 20))\n",
        "print(n_boxes(n_bars=1000))\n",
        "print(n_boxes(n_bars=1000, bars_per_box=20))\n",
        "print(n_boxes(bars_per_box=20, n_bars=1000))"
      ],
      "execution_count": 0,
      "outputs": [
        {
          "output_type": "stream",
          "text": [
            "the factory needs 50.0 boxes to store the chocolate bars\n",
            "50.0\n",
            "50.0\n",
            "50.0\n",
            "50.0\n"
          ],
          "name": "stdout"
        }
      ]
    },
    {
      "cell_type": "markdown",
      "metadata": {
        "id": "HcoH45GyfPYP",
        "colab_type": "text"
      },
      "source": [
        "#### **2. now add a control to force input types to be integers**\n",
        "\n"
      ]
    },
    {
      "cell_type": "code",
      "metadata": {
        "id": "GLpRYf9fjsEn",
        "colab_type": "code",
        "outputId": "d213a7f8-62b6-401d-9b21-3a87f56119d5",
        "colab": {
          "base_uri": "https://localhost:8080/",
          "height": 34
        }
      },
      "source": [
        "# new function to use (test it to see what it does!)\n",
        "# TODO: look online for other datatypes to test\n",
        "res1 = isinstance(12,int)\n",
        "res2 = isinstance(\"hello\",int)\n",
        "res3 = isinstance(\"hello\",str)\n",
        "\n",
        "print(res1, res2, res3)"
      ],
      "execution_count": 0,
      "outputs": [
        {
          "output_type": "stream",
          "text": [
            "True False True\n"
          ],
          "name": "stdout"
        }
      ]
    },
    {
      "cell_type": "code",
      "metadata": {
        "id": "8BfIx5GMjf7G",
        "colab_type": "code",
        "colab": {}
      },
      "source": [
        "# TODO: add control on input types\n",
        "def n_boxes(n_bars,bars_per_box=20):\n",
        "    \n",
        "    return"
      ],
      "execution_count": 0,
      "outputs": []
    },
    {
      "cell_type": "code",
      "metadata": {
        "id": "jLyqEvrlQozd",
        "colab_type": "code",
        "outputId": "b83d4d61-489e-4171-8242-7fdd36efb52e",
        "colab": {
          "base_uri": "https://localhost:8080/",
          "height": 51
        }
      },
      "source": [
        "#@title double click for solution { display-mode: \"form\" }\n",
        "\n",
        "def n_boxes(n_bars,bars_per_box=20):\n",
        "    if isinstance(n_bars,int) and isinstance(bars_per_box,int):\n",
        "        res=n_bars/bars_per_box\n",
        "        return np.ceil(res)\n",
        "    else:\n",
        "        print(\"Please use an integer\")\n",
        "        return 0\n",
        "\n",
        "print(n_boxes(21, 2.5))"
      ],
      "execution_count": 0,
      "outputs": [
        {
          "output_type": "stream",
          "text": [
            "Please use an integer\n",
            "0\n"
          ],
          "name": "stdout"
        }
      ]
    },
    {
      "cell_type": "markdown",
      "metadata": {
        "id": "BAv3bO7ig_9I",
        "colab_type": "text"
      },
      "source": [
        "A truck can carry a maximum of 100 boxes.\n",
        "Write a function that computes the number of trucks the factory need to transport 1000 chocolate bars (and then try with different number of bars).\n",
        "Note: a truck can only depart if it is at full capacity!\n",
        "\n",
        "**3. Write function to compute the number of trucks that will depart if the factory produced 1000 bars**"
      ]
    },
    {
      "cell_type": "code",
      "metadata": {
        "id": "s9yzxlF-luQb",
        "colab_type": "code",
        "colab": {}
      },
      "source": [
        "# TODO: wite function"
      ],
      "execution_count": 0,
      "outputs": []
    },
    {
      "cell_type": "code",
      "metadata": {
        "id": "HUY8t8y_hCQs",
        "colab_type": "code",
        "colab": {}
      },
      "source": [
        "#@title double click for solution { display-mode: \"form\" }\n",
        "def n_trucks(n_bars,bars_per_box=20, boxes_per_truck=100):\n",
        "    if isinstance(boxes_per_truck, int):\n",
        "        res=n_boxes(n_bars=n_bars,bars_per_box=bars_per_box)/boxes_per_truck\n",
        "        return np.floor(res)\n",
        "    else:\n",
        "        return 0"
      ],
      "execution_count": 0,
      "outputs": []
    },
    {
      "cell_type": "markdown",
      "metadata": {
        "id": "6q_Kny6Il121",
        "colab_type": "text"
      },
      "source": [
        "\n",
        "## Lesson 2: Music and colors\n",
        "\n",
        "concepts used: lists (and lists comprehension), if...then..else, loops\n",
        "\n",
        "---\n"
      ]
    },
    {
      "cell_type": "markdown",
      "metadata": {
        "id": "RpfLwiRdrU-1",
        "colab_type": "text"
      },
      "source": [
        "#### **Small recap from last week: variables, function**"
      ]
    },
    {
      "cell_type": "code",
      "metadata": {
        "id": "bNvHsS7irhw2",
        "colab_type": "code",
        "colab": {}
      },
      "source": [
        "# TODO: \n",
        "# 1. create a variable var1, initialized to 1\n",
        "# 2. ass 10 to var1 (do not write var1=11!!)\n",
        "# 3. write a function that takes as an argument var1 and returns var1+10\n",
        "\n",
        "var1=\n",
        "\n",
        "def my_function(var1,increment=10):\n",
        "  return 0"
      ],
      "execution_count": 0,
      "outputs": []
    },
    {
      "cell_type": "code",
      "metadata": {
        "id": "qYaQ73HNzOG2",
        "colab_type": "code",
        "colab": {}
      },
      "source": [
        "#@title double click for solution { display-mode: \"form\" }\n",
        "\n",
        "var1=1\n",
        "print('var1 =',var1)\n",
        "var1+=10\n",
        "print(\"var1 =\",var1)\n",
        "\n",
        "# note the equivalent use of single and double quotes\n",
        "\n",
        "def my_function(var1,increment=10):\n",
        "  return var1+increment\n",
        "\n",
        "print('my_function(2,22) gives:', my_function(2,22))"
      ],
      "execution_count": 0,
      "outputs": []
    },
    {
      "cell_type": "markdown",
      "metadata": {
        "id": "em5ylGEvps6_",
        "colab_type": "text"
      },
      "source": [
        "#### This week we will try to build a function to shuffle from a list of songs"
      ]
    },
    {
      "cell_type": "markdown",
      "metadata": {
        "id": "dg1Mgmd90svt",
        "colab_type": "text"
      },
      "source": [
        "#### **1. Lists and some basic operations on lists**"
      ]
    },
    {
      "cell_type": "markdown",
      "metadata": {
        "id": "qPsfm3zCVbha",
        "colab_type": "text"
      },
      "source": [
        "##### building the list\n",
        "the syntax for a list in python is [element1, element2...]"
      ]
    },
    {
      "cell_type": "code",
      "metadata": {
        "id": "NeSJxtn9tZwD",
        "colab_type": "code",
        "colab": {}
      },
      "source": [
        "# example of list\n",
        "rainbow = ['red', 'orange', 'yellow', 'green', 'blue', 'indigo', 'violet']\n",
        "print(rainbow)"
      ],
      "execution_count": 0,
      "outputs": []
    },
    {
      "cell_type": "code",
      "metadata": {
        "id": "4g4NBlYD1Kfa",
        "colab_type": "code",
        "colab": {}
      },
      "source": [
        "# TODO: store a list of 5 artists or songs in the variable \"my_music\"\n",
        "\n",
        "my_music = []"
      ],
      "execution_count": 0,
      "outputs": []
    },
    {
      "cell_type": "code",
      "metadata": {
        "id": "fdDxHIn71b4n",
        "colab_type": "code",
        "colab": {
          "base_uri": "https://localhost:8080/",
          "height": 34
        },
        "outputId": "d8e59bcf-6fd0-4083-b1c7-f5ac002e1a88"
      },
      "source": [
        "#@title double click for solution { display-mode: \"form\" }\n",
        "\n",
        "my_music = ['Pink Floyd', 'Stone Roses', 'Neil Young', 'Kasabian', 'Led Zeppelin']\n",
        "print(my_music)"
      ],
      "execution_count": 48,
      "outputs": [
        {
          "output_type": "stream",
          "text": [
            "['Pink Floyd', 'Stone Roses', 'Neil Young', 'Kasabian', 'Led Zeppelin']\n"
          ],
          "name": "stdout"
        }
      ]
    },
    {
      "cell_type": "markdown",
      "metadata": {
        "id": "XqaXaeOGSX9M",
        "colab_type": "text"
      },
      "source": [
        "##### going through the list"
      ]
    },
    {
      "cell_type": "code",
      "metadata": {
        "id": "EsLGjbc6S7yY",
        "colab_type": "code",
        "colab": {}
      },
      "source": [
        "# a list starts at 0\n",
        "print(my_music[5]) # this will throw an error if your list has less than 6 elements (not 5!)"
      ],
      "execution_count": 0,
      "outputs": []
    },
    {
      "cell_type": "code",
      "metadata": {
        "id": "8Joeb9UUTWlS",
        "colab_type": "code",
        "colab": {}
      },
      "source": [
        "# TODO: retrieve different elements from the list\n",
        "# test what len(my_music) does, and use it to get the last element of the list"
      ],
      "execution_count": 0,
      "outputs": []
    },
    {
      "cell_type": "code",
      "metadata": {
        "id": "z77UNyoVSiG5",
        "colab_type": "code",
        "colab": {}
      },
      "source": [
        "#@title double click for solution { display-mode: \"form\" }\n",
        "\n",
        "print(my_music[0])\n",
        "print(my_music[0:2])\n",
        "len(my_music)\n",
        "print(len(my_music))\n",
        "print(my_music[len(my_music)-1])\n",
        "print(my_music[-1])"
      ],
      "execution_count": 0,
      "outputs": []
    },
    {
      "cell_type": "markdown",
      "metadata": {
        "id": "5SaiaHwMUTEh",
        "colab_type": "text"
      },
      "source": [
        "for loops: use for loops to print all elements in the list\n",
        "\n",
        "syntax:\n",
        "\n",
        "for elem in elem_list:\n",
        "    # do stuff"
      ]
    },
    {
      "cell_type": "code",
      "metadata": {
        "id": "qsPei4I4rJy_",
        "colab_type": "code",
        "colab": {}
      },
      "source": [
        "# TODO: print all elements from my_music using a for loop"
      ],
      "execution_count": 0,
      "outputs": []
    },
    {
      "cell_type": "code",
      "metadata": {
        "id": "SJYeq-zASeN6",
        "colab_type": "code",
        "colab": {}
      },
      "source": [
        "#@title double click for solution { display-mode: \"form\" }\n",
        "for i in my_music:\n",
        "    print(i)"
      ],
      "execution_count": 0,
      "outputs": []
    },
    {
      "cell_type": "markdown",
      "metadata": {
        "id": "IaEggX9dnl4S",
        "colab_type": "text"
      },
      "source": [
        "##### checking what's in the list: some comparison operators (like, not like, ==, !=)"
      ]
    },
    {
      "cell_type": "markdown",
      "metadata": {
        "id": "ck27OTfXnsmy",
        "colab_type": "text"
      },
      "source": [
        "to test if a specific element is in the list: use \"in\", \"not in\", \"==\", \"!=\", \"and\", \"or\""
      ]
    },
    {
      "cell_type": "code",
      "metadata": {
        "id": "ihOn2Gp7kSIv",
        "colab_type": "code",
        "colab": {}
      },
      "source": [
        "# EXAMPLES on strings\n",
        "color = 'black and white'\n",
        "print(color == 'black') # color is equal to 'black'\n",
        "print(color != 'black') # color is not equal to 'black'\n",
        "print(color == 'black and white') # color is equal to 'black and white'\n",
        "print('black' in color) # color contains the substring 'black'\n",
        "print('black' not in color) # color does not contain the substring 'black'\n",
        "print(('black' in color) and ('white' in color)) # color contains both 'black' and 'white'\n",
        "print(('black' in color) and ('pink' in color)) # color contains both 'black' and 'pink'\n",
        "print(('black' in color) or ('pink' in color)) # color contains 'black' or 'pink'"
      ],
      "execution_count": 0,
      "outputs": []
    },
    {
      "cell_type": "code",
      "metadata": {
        "id": "JCNbhdP0oCA5",
        "colab_type": "code",
        "colab": {}
      },
      "source": [
        "# TODO: test examples on my_music or rainbow and see or these generalize to lists"
      ],
      "execution_count": 0,
      "outputs": []
    },
    {
      "cell_type": "code",
      "metadata": {
        "id": "S60nWwOgqIWw",
        "colab_type": "code",
        "colab": {}
      },
      "source": [
        "#@title double click for sample solution { display-mode: \"form\" }\n",
        "\n",
        "# some examples of what you can test\n",
        "print('Kasabian' in my_music)\n",
        "print('Kasabian' not in my_music and 'Led Zeppelin' in my_music)\n",
        "print(my_music[0] == 'Pink Floyd')\n",
        "print('Floyd' in my_music[0])"
      ],
      "execution_count": 0,
      "outputs": []
    },
    {
      "cell_type": "markdown",
      "metadata": {
        "id": "6v83CcbS2aIt",
        "colab_type": "text"
      },
      "source": [
        "##### some useful functions for lists: sort(), append(), remove()"
      ]
    },
    {
      "cell_type": "code",
      "metadata": {
        "id": "X6jfRXXRQR7t",
        "colab_type": "code",
        "colab": {}
      },
      "source": [
        "# TODO: test functions sort and append\n",
        "# append a new element to my_music\n",
        "# remove an element from my_music\n",
        "# sort the list alphabetically"
      ],
      "execution_count": 0,
      "outputs": []
    },
    {
      "cell_type": "code",
      "metadata": {
        "id": "nXMosiBv2lQh",
        "colab_type": "code",
        "colab": {}
      },
      "source": [
        "#@title double click for solution { display-mode: \"form\" }\n",
        "my_music.append(\"Metallica\")\n",
        "print(my_music)\n",
        "my_music.remove(\"Metallica\")\n",
        "print(my_music)\n",
        "my_music.sort()\n",
        "print(my_music)"
      ],
      "execution_count": 0,
      "outputs": []
    },
    {
      "cell_type": "markdown",
      "metadata": {
        "id": "F9n7DcLlwV5-",
        "colab_type": "text"
      },
      "source": [
        "other ways to play with lists: using +"
      ]
    },
    {
      "cell_type": "code",
      "metadata": {
        "id": "KyJJq-38wafb",
        "colab_type": "code",
        "colab": {
          "base_uri": "https://localhost:8080/",
          "height": 88
        },
        "outputId": "a10b954a-f2fa-49e9-e8b1-10c152b76041"
      },
      "source": [
        "# these are equivalent to my_music.append({artist name})\n",
        "my_music = my_music + ['Bob Marley'] \n",
        "my_music += ['Bach'] \n",
        "print(my_music)\n",
        "print(my_music+rainbow)"
      ],
      "execution_count": 66,
      "outputs": [
        {
          "output_type": "stream",
          "text": [
            "['Pink Floyd', 'Stone Roses', 'Neil Young', 'Kasabian', 'Led Zeppelin', 'Bob Marley', 'Bach', 'Bob Marley', 'Bach', 'Bob Marley', 'Bach', 'Bob Marley', 'Bach', 'Bob Marley', 'Bach', 'Bob Marley', 'Bach']\n",
            "None\n",
            "['Pink Floyd', 'Stone Roses', 'Neil Young', 'Kasabian', 'Led Zeppelin', 'Bob Marley', 'Bob Marley', 'Bach', 'Bob Marley', 'Bach', 'Bob Marley', 'Bach', 'Bob Marley', 'Bach', 'Bob Marley', 'Bach', 'red', 'orange', 'yellow', 'green', 'blue', 'indigo', 'violet']\n"
          ],
          "name": "stdout"
        }
      ]
    },
    {
      "cell_type": "markdown",
      "metadata": {
        "id": "f-WgvtdXf7__",
        "colab_type": "text"
      },
      "source": [
        "##### if...then...else\n",
        "\n",
        "the syntax for if statments is:\n",
        "\n",
        "\n",
        ">if {test1}:\n",
        ">>do stuff\n",
        "\n",
        ">elif {test2}:\n",
        ">> do other stuff\n",
        "\n",
        ">elif{testn'}: \n",
        ">>do other stuff\n",
        "\n",
        ">else:\n",
        ">>default stuff\n",
        "\n"
      ]
    },
    {
      "cell_type": "code",
      "metadata": {
        "id": "EDl8dGEZrVJg",
        "colab_type": "code",
        "colab": {}
      },
      "source": [
        "# TODO: test if a string should be classified as an artist or a color, using my_music and rainbow lists\n",
        "\n",
        "def color_or_music(my_string):\n",
        "  # TODO"
      ],
      "execution_count": 0,
      "outputs": []
    },
    {
      "cell_type": "code",
      "metadata": {
        "id": "GbKVY2HumLlB",
        "colab_type": "code",
        "colab": {}
      },
      "source": [
        "#@title double click for solution { display-mode: \"form\" }\n",
        "\n",
        "def color_or_music(my_string):\n",
        "  if my_string in my_music:\n",
        "    print(my_string, 'is music')\n",
        "  elif my_string in rainbow:\n",
        "    print(my_string, 'is a color')\n",
        "  else:\n",
        "    print(my_string, 'is not a color nor music')\n",
        "  return 0\n",
        "\n",
        "print(color_or_music('red'))\n",
        "print(color_or_music('Kasabian'))\n",
        "print(color_or_music('bla'))"
      ],
      "execution_count": 0,
      "outputs": []
    },
    {
      "cell_type": "markdown",
      "metadata": {
        "id": "HqxyNQK-j_WT",
        "colab_type": "text"
      },
      "source": [
        "##### a bit more complicated: let's insert an if statment in the for loop\n",
        "we want to print all songs/artists containing the letter 'y'"
      ]
    },
    {
      "cell_type": "code",
      "metadata": {
        "id": "PYqnn-lggXbi",
        "colab_type": "code",
        "colab": {
          "base_uri": "https://localhost:8080/",
          "height": 680
        },
        "outputId": "636e58a2-3113-4d5c-b473-715b569f19eb"
      },
      "source": [
        "#@title double click for solution { display-mode: \"form\" }\n",
        "\n",
        "# 1st way to write that\n",
        "for i in my_music:\n",
        "    if 'y' in i:\n",
        "      print(i, 'contains a y')\n",
        "    else:\n",
        "      print(i, 'does not contains a y')\n",
        "\n",
        "# 2nd way to write that\n",
        "for i in my_music:\n",
        "    print(i, 'contains a y') if 'y' in i else print(i, 'does not contain y')\n",
        "\n",
        "# actually we don't really need the second part of the if statement...\n",
        "for i in my_music:\n",
        "    if 'y' in i: print(i)"
      ],
      "execution_count": 81,
      "outputs": [
        {
          "output_type": "stream",
          "text": [
            "Pink Floyd contains a y\n",
            "Stone Roses does not contains a y\n",
            "Neil Young does not contains a y\n",
            "Kasabian does not contains a y\n",
            "Led Zeppelin does not contains a y\n",
            "Bob Marley contains a y\n",
            "Bob Marley contains a y\n",
            "Bach does not contains a y\n",
            "Bob Marley contains a y\n",
            "Bach does not contains a y\n",
            "Bob Marley contains a y\n",
            "Bach does not contains a y\n",
            "Bob Marley contains a y\n",
            "Bach does not contains a y\n",
            "Bob Marley contains a y\n",
            "Bach does not contains a y\n",
            "Pink Floyd contains a y\n",
            "Stone Roses does not contain y\n",
            "Neil Young does not contain y\n",
            "Kasabian does not contain y\n",
            "Led Zeppelin does not contain y\n",
            "Bob Marley contains a y\n",
            "Bob Marley contains a y\n",
            "Bach does not contain y\n",
            "Bob Marley contains a y\n",
            "Bach does not contain y\n",
            "Bob Marley contains a y\n",
            "Bach does not contain y\n",
            "Bob Marley contains a y\n",
            "Bach does not contain y\n",
            "Bob Marley contains a y\n",
            "Bach does not contain y\n",
            "Pink Floyd\n",
            "Bob Marley\n",
            "Bob Marley\n",
            "Bob Marley\n",
            "Bob Marley\n",
            "Bob Marley\n",
            "Bob Marley\n"
          ],
          "name": "stdout"
        }
      ]
    },
    {
      "cell_type": "markdown",
      "metadata": {
        "id": "xHXuk0It5bGf",
        "colab_type": "text"
      },
      "source": [
        "##### list comprehensions: \n",
        "\n",
        "used to apply a function to all elements of a list\n",
        "\n",
        "syntax: [function(x) for x in my_music]\n",
        "\n",
        "here will apply the function lower() that converts strings to lowercases (very useful fro NLP application)"
      ]
    },
    {
      "cell_type": "code",
      "metadata": {
        "id": "EHMk3hdu2-Bb",
        "colab_type": "code",
        "colab": {}
      },
      "source": [
        "# example of use for lower()\n",
        "tmp_string = 'Hello'\n",
        "print(tmp_string.lower())\n",
        "print(tmp_string.upper())"
      ],
      "execution_count": 0,
      "outputs": []
    },
    {
      "cell_type": "code",
      "metadata": {
        "id": "oUl2aoJLfw96",
        "colab_type": "code",
        "colab": {}
      },
      "source": [
        "# TODO: convert my_music to lower cases"
      ],
      "execution_count": 0,
      "outputs": []
    },
    {
      "cell_type": "code",
      "metadata": {
        "id": "maHlV25T5qdf",
        "colab_type": "code",
        "colab": {}
      },
      "source": [
        "#@title double click for solution { display-mode: \"form\" }\n",
        "\n",
        "[x.lower() for x in my_music]\n",
        "\n",
        "# note you can also do this using (but that's a lesson for next time!)\n",
        "map(str.lower,my_music)\n",
        "map(lambda x:x.lower(),my_music)"
      ],
      "execution_count": 0,
      "outputs": []
    },
    {
      "cell_type": "code",
      "metadata": {
        "id": "y5QFYUXK3fbW",
        "colab_type": "code",
        "colab": {}
      },
      "source": [
        "[x for x in my_music if 'pink' in x]\n",
        "#[x for x in my_music if 'pink' in x.lower()]"
      ],
      "execution_count": 0,
      "outputs": []
    },
    {
      "cell_type": "markdown",
      "metadata": {
        "id": "SIygNzoxyN-W",
        "colab_type": "text"
      },
      "source": [
        "## Lesson 3: Shuffling music\n",
        "\n",
        "concepts used: random numbers, dictionaries (+ everything from previous weeks!)"
      ]
    },
    {
      "cell_type": "markdown",
      "metadata": {
        "id": "hTfo15XobODp",
        "colab_type": "text"
      },
      "source": [
        "#### **1. Re-do the exercizes from last week using dictionaries instead of lists**"
      ]
    },
    {
      "cell_type": "code",
      "metadata": {
        "id": "Ne2GahwbcUdf",
        "colab_type": "code",
        "colab": {}
      },
      "source": [
        "# dictionary syntax\n",
        "# careful, keys must be unique\n",
        "dic1 = {'key1':1,'key2':2}\n",
        "dic2 = {'key1':'word1','key2':'word2'}"
      ],
      "execution_count": 0,
      "outputs": []
    },
    {
      "cell_type": "code",
      "metadata": {
        "id": "52Ez6l_B1Tth",
        "colab_type": "code",
        "colab": {}
      },
      "source": [
        "# TODO: build a dictionary of artists / songs"
      ],
      "execution_count": 0,
      "outputs": []
    },
    {
      "cell_type": "code",
      "metadata": {
        "id": "5b5bRexkbNLR",
        "colab_type": "code",
        "colab": {}
      },
      "source": [
        "#@title double click for solution { display-mode: \"form\" }\n",
        "\n",
        "music_dic = {'pink floyd 1':'comfortably numb', \\\n",
        "             'pink floyd 2':'bike', \\\n",
        "             'kasabian 1':'you\\'re in love with a psycho', \\\n",
        "             'kasabian 2':'lsf'}\n",
        "\n",
        "# note the \\ in the title, this is to allow using the quote within the string\n",
        "print(music_dic['kasabian 1'])"
      ],
      "execution_count": 0,
      "outputs": []
    },
    {
      "cell_type": "code",
      "metadata": {
        "id": "S0vtu15Ac3qD",
        "colab_type": "code",
        "colab": {}
      },
      "source": [
        "# how to store several songs for the same artists but keep unique keys?\n",
        "# solution: dictionary of lists!"
      ],
      "execution_count": 0,
      "outputs": []
    },
    {
      "cell_type": "code",
      "metadata": {
        "id": "5X4DgzcBcAgL",
        "colab_type": "code",
        "colab": {}
      },
      "source": [
        "#@title double click for solution { display-mode: \"form\" }\n",
        "\n",
        "music_dic = {'pink_floyd':['comfortably numb','bike'], \\\n",
        "             'kasabian' : ['fire', 'lsf', 'fast fuse']}\n",
        "\n",
        "print(music_dic['kasabian'])"
      ],
      "execution_count": 0,
      "outputs": []
    },
    {
      "cell_type": "markdown",
      "metadata": {
        "id": "I2JNPsoX2mjr",
        "colab_type": "text"
      },
      "source": [
        "**exercize**: print all songs from the dictionary"
      ]
    },
    {
      "cell_type": "code",
      "metadata": {
        "id": "zXIurPrBzzXl",
        "colab_type": "code",
        "colab": {
          "base_uri": "https://localhost:8080/",
          "height": 102
        },
        "outputId": "49c2f686-62de-49d6-b376-862b66dee0c7"
      },
      "source": [
        "#@title double click for solution { display-mode: \"form\" }\n",
        "\n",
        "# print all songs in dictionary\n",
        "\n",
        "# method 1\n",
        "print('method 1')\n",
        "for artist, song in music_dic.items(): \n",
        "    print(song)\n",
        "\n",
        "# method 2: nicer output format\n",
        "print('method 2')\n",
        "all_songs=[]\n",
        "for artist, song in music_dic.items(): \n",
        "    all_songs+=song\n",
        "print(all_songs)"
      ],
      "execution_count": 73,
      "outputs": [
        {
          "output_type": "stream",
          "text": [
            "method 1\n",
            "['comfortably numb', 'bike']\n",
            "['fire', 'lsf', 'fast fuse']\n",
            "method 2\n",
            "['comfortably numb', 'bike', 'fire', 'lsf', 'fast fuse']\n"
          ],
          "name": "stdout"
        }
      ]
    },
    {
      "cell_type": "markdown",
      "metadata": {
        "id": "39ky2iKmfX1Q",
        "colab_type": "text"
      },
      "source": [
        "**exercize**: generate random songs from the dictionary, ensuring 2 subsequent songs are never from the same artist!"
      ]
    },
    {
      "cell_type": "markdown",
      "metadata": {
        "colab_type": "text",
        "id": "HQUHhOtVt79q"
      },
      "source": [
        "#### **2. Random numbers**\n",
        "\n",
        "numpy allows you to generate random numbers\n",
        "\n",
        "try the functions\n",
        "- random.uniform\n",
        "- random.randint\n",
        "\n",
        "don't forget the trick when calling functions from imported packages! "
      ]
    },
    {
      "cell_type": "code",
      "metadata": {
        "id": "lvlGL0-DrB5E",
        "colab_type": "code",
        "outputId": "41a83db0-815d-4d0d-d950-474369869f61",
        "colab": {
          "base_uri": "https://localhost:8080/",
          "height": 34
        }
      },
      "source": [
        "#@title double click for solution { display-mode: \"form\" }\n",
        "\n",
        "import numpy as np\n",
        "np.random.seed(42) # initiate the seed (so the same list of random numbers is generated every time)\n",
        "rnd1 = np.random.uniform(-10,10)\n",
        "rnd2 = np.random.randint(-10,10)\n",
        "\n",
        "print(rnd1, rnd2)"
      ],
      "execution_count": 68,
      "outputs": [
        {
          "output_type": "stream",
          "text": [
            "-2.50919762305275 4\n"
          ],
          "name": "stdout"
        }
      ]
    },
    {
      "cell_type": "markdown",
      "metadata": {
        "id": "rP_Znk9sTzwY",
        "colab_type": "text"
      },
      "source": [
        "#### **3. Putting it all together: select random songs from the dictionary**\n",
        "\n",
        "with a twist: ensuring 2 subsequent songs are not from the same artist"
      ]
    },
    {
      "cell_type": "markdown",
      "metadata": {
        "id": "xv4PcQ9mVDXk",
        "colab_type": "text"
      },
      "source": [
        "##concepts to cover later:\n",
        "\n",
        "- map, apply, lambda\n",
        "\n",
        "- series and dataframes\n",
        "\n",
        "- arrays\n",
        "\n",
        "- regex\n",
        "\n",
        "- object oriented\n",
        "\n",
        "- plots"
      ]
    }
  ]
}