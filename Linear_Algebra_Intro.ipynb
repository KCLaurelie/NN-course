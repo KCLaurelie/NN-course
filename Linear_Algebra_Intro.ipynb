{
  "nbformat": 4,
  "nbformat_minor": 0,
  "metadata": {
    "colab": {
      "name": "Linear Algebra Intro.ipynb",
      "version": "0.3.2",
      "provenance": [],
      "collapsed_sections": [],
      "include_colab_link": true
    },
    "kernelspec": {
      "name": "python3",
      "display_name": "Python 3"
    },
    "accelerator": "GPU"
  },
  "cells": [
    {
      "cell_type": "markdown",
      "metadata": {
        "id": "view-in-github",
        "colab_type": "text"
      },
      "source": [
        "<a href=\"https://colab.research.google.com/github/KCLaurelie/NN-course/blob/master/Linear_Algebra_Intro.ipynb\" target=\"_parent\"><img src=\"https://colab.research.google.com/assets/colab-badge.svg\" alt=\"Open In Colab\"/></a>"
      ]
    },
    {
      "cell_type": "code",
      "metadata": {
        "id": "0vuunFaYPtsO",
        "colab_type": "code",
        "colab": {}
      },
      "source": [
        "import numpy as np\n",
        "import torch \n",
        "import torch.nn as nn\n",
        "import matplotlib.pyplot as plt"
      ],
      "execution_count": 0,
      "outputs": []
    },
    {
      "cell_type": "markdown",
      "metadata": {
        "id": "OqF2Tp9GX449",
        "colab_type": "text"
      },
      "source": [
        "**Fundamental Objects**\n",
        "\n",
        "- Scalars \n",
        "- Vectors\n",
        "- Matricies\n",
        "- Tensor\n",
        "\n",
        "\n",
        "---\n",
        "\n",
        "**Going forward we will be using numpy for the introduction, but everything is the same no matter do we use pytorch, tensorflow...**\n",
        "\n",
        "\n",
        "---\n",
        "**Scalars** - any number\n",
        "\n",
        "1 or 3.4 or 10 or ...\n",
        "\n",
        "\n",
        "---\n",
        "\n",
        "\n",
        "**Vectors** - one dimensional list of elements (numbers...)\n",
        "\n",
        "\\begin{equation}\n",
        "x = \\left(\\begin{array}{c} 2 & 3 & 7 & 8\\end{array}\\right)\n",
        "\\end{equation}\n",
        "\n",
        "\n",
        "---\n",
        "\n",
        "**Matrices** - a two dimensional list of elements (numbers or anything else)\n",
        "\n",
        "\\begin{equation}\n",
        "x = \\left(\\begin{array}{ccc} 2 & 3\\\\ 7 & 13 \\\\ 4 & 6\\end{array}\\right)\n",
        "\\end{equation}\n",
        "\n",
        "---\n",
        "**Tensors** - a generalization of a matrix - it can be a scalara, vector, matrix\n"
      ]
    },
    {
      "cell_type": "code",
      "metadata": {
        "id": "VXrFXvWX4DSy",
        "colab_type": "code",
        "outputId": "169db0fc-364a-4bb4-bee0-141a25fa3164",
        "colab": {
          "base_uri": "https://localhost:8080/",
          "height": 34
        }
      },
      "source": [
        "# Scalars\n",
        "\n",
        "x = 1\n",
        "np.isscalar(x)"
      ],
      "execution_count": 0,
      "outputs": [
        {
          "output_type": "execute_result",
          "data": {
            "text/plain": [
              "True"
            ]
          },
          "metadata": {
            "tags": []
          },
          "execution_count": 141
        }
      ]
    },
    {
      "cell_type": "code",
      "metadata": {
        "id": "Vkchguhm4MnD",
        "colab_type": "code",
        "outputId": "393cc940-da33-422a-c3a5-8fcb2a976a80",
        "colab": {
          "base_uri": "https://localhost:8080/",
          "height": 68
        }
      },
      "source": [
        "# Vectors\n",
        "x = np.arange(5)\n",
        "print(x)\n",
        "\n",
        "# Note that this is not a vector, this is a way to represent a vector\n",
        "#More in general a ndarray is a numpy structure that can be used to represente\n",
        "#vector, matrices and tensors\n",
        "print(type(x))\n",
        "\n",
        "# OR\n",
        "x = np.array([7, 4, 2, 3])\n",
        "print(x)"
      ],
      "execution_count": 0,
      "outputs": [
        {
          "output_type": "stream",
          "text": [
            "[0 1 2 3 4]\n",
            "<class 'numpy.ndarray'>\n",
            "[7 4 2 3]\n"
          ],
          "name": "stdout"
        }
      ]
    },
    {
      "cell_type": "code",
      "metadata": {
        "id": "MMup1cJe4UEI",
        "colab_type": "code",
        "outputId": "d200bb5c-731d-42ce-8ca4-89a290b31038",
        "colab": {
          "base_uri": "https://localhost:8080/",
          "height": 51
        }
      },
      "source": [
        "# We can easily get the shape of a vector using .shape\n",
        "print(x.shape)\n",
        "# OR get the number of elements\n",
        "print(x.size)"
      ],
      "execution_count": 0,
      "outputs": [
        {
          "output_type": "stream",
          "text": [
            "(4,)\n",
            "4\n"
          ],
          "name": "stdout"
        }
      ]
    },
    {
      "cell_type": "code",
      "metadata": {
        "id": "5lH6jzFS4mvF",
        "colab_type": "code",
        "outputId": "87499b42-caea-4dbd-dbcc-09ffa9f2d8fb",
        "colab": {
          "base_uri": "https://localhost:8080/",
          "height": 51
        }
      },
      "source": [
        "# To access elements of a vector\n",
        "print(x[1]) # The element in position 1\n",
        "print(x[0]) # The element in position 0 - note that indexing starts from 0 in python"
      ],
      "execution_count": 0,
      "outputs": [
        {
          "output_type": "stream",
          "text": [
            "4\n",
            "7\n"
          ],
          "name": "stdout"
        }
      ]
    },
    {
      "cell_type": "markdown",
      "metadata": {
        "id": "jOfjJTgt46NB",
        "colab_type": "text"
      },
      "source": [
        "For a vector:\n",
        "\n",
        "\\begin{equation}\n",
        "x = \\left(\\begin{array}{c} 7 & 4 & 2 & 3\\end{array}\\right)\n",
        "\\end{equation}\n",
        "\n",
        "the $i$-th element of a vector is dented as:\n",
        "\n",
        "$x_i$ \n",
        "\n",
        "For our vector $x$\n",
        "\n",
        "$x_0 = 7$"
      ]
    },
    {
      "cell_type": "code",
      "metadata": {
        "id": "gqE81Gtw5zoY",
        "colab_type": "code",
        "outputId": "866a8f72-790b-4b97-8f9c-4f4a65232ab6",
        "colab": {
          "base_uri": "https://localhost:8080/",
          "height": 286
        }
      },
      "source": [
        "# We can plot vectors using matplotlib\n",
        "x = np.array([7, 4, 2, 3])\n",
        "y = np.array([1, 2, 3, 4])\n",
        "plt.scatter(x, y)"
      ],
      "execution_count": 0,
      "outputs": [
        {
          "output_type": "execute_result",
          "data": {
            "text/plain": [
              "<matplotlib.collections.PathCollection at 0x7f374cabc048>"
            ]
          },
          "metadata": {
            "tags": []
          },
          "execution_count": 39
        },
        {
          "output_type": "display_data",
          "data": {
            "image/png": "[encoded data removed]",
            "text/plain": [
              "<Figure size 432x288 with 1 Axes>"
            ]
          },
          "metadata": {
            "tags": []
          }
        }
      ]
    },
    {
      "cell_type": "code",
      "metadata": {
        "id": "nOL47XPB7MSn",
        "colab_type": "code",
        "outputId": "1d9a0f8c-9ccf-48c1-8309-591702e0c63d",
        "colab": {
          "base_uri": "https://localhost:8080/",
          "height": 68
        }
      },
      "source": [
        "# Matrices in python are represented the same way as vectors\n",
        "A = np.array([[2, 3], [7, 13], [4, 6]])\n",
        "print(A)"
      ],
      "execution_count": 0,
      "outputs": [
        {
          "output_type": "stream",
          "text": [
            "[[ 2  3]\n",
            " [ 7 13]\n",
            " [ 4  6]]\n"
          ],
          "name": "stdout"
        }
      ]
    },
    {
      "cell_type": "code",
      "metadata": {
        "id": "XyswBapj7rOA",
        "colab_type": "code",
        "outputId": "7856e5d9-8a62-4758-8cf0-b803b3849efd",
        "colab": {
          "base_uri": "https://localhost:8080/",
          "height": 51
        }
      },
      "source": [
        "# We use the same commands for shape\n",
        "print(A.shape)\n",
        "# And for the number of elements in this matrix\n",
        "print(A.size)"
      ],
      "execution_count": 0,
      "outputs": [
        {
          "output_type": "stream",
          "text": [
            "(3, 2)\n",
            "6\n"
          ],
          "name": "stdout"
        }
      ]
    },
    {
      "cell_type": "markdown",
      "metadata": {
        "id": "XpNOdEOu8Hlp",
        "colab_type": "text"
      },
      "source": [
        "For a matrix:\n",
        "\n",
        "\\begin{equation}\n",
        "A = \\left(\\begin{array}{ccc} 2 & 3\\\\ 7 & 13 \\\\ 4 & 6\\end{array}\\right)\n",
        "\\end{equation}\n",
        "\n",
        "the element in row $i$ and column $j$ is denoted as:\n",
        "\n",
        "$A_{i,j}$ \n",
        "\n",
        "For our matrix $A$\n",
        "\n",
        "$x_{0,0} = 2$"
      ]
    },
    {
      "cell_type": "code",
      "metadata": {
        "id": "aJHPirH68pQ_",
        "colab_type": "code",
        "outputId": "b4670258-0df9-4d51-ac5a-b7f57fcfbe38",
        "colab": {
          "base_uri": "https://localhost:8080/",
          "height": 34
        }
      },
      "source": [
        "# To access the elements of a matrix we use the same syntax\n",
        "print(A[0, 0])"
      ],
      "execution_count": 0,
      "outputs": [
        {
          "output_type": "stream",
          "text": [
            "2\n"
          ],
          "name": "stdout"
        }
      ]
    },
    {
      "cell_type": "code",
      "metadata": {
        "id": "OrBAb6yO9WKu",
        "colab_type": "code",
        "colab": {}
      },
      "source": [
        "# It is also possible to access specific rows or columns of a matrix using the : symbol\n",
        "print(A[0,:])\n",
        "# Print column 1\n",
        "print(A[:, 0])"
      ],
      "execution_count": 0,
      "outputs": []
    },
    {
      "cell_type": "code",
      "metadata": {
        "id": "rUILf50a-KUX",
        "colab_type": "code",
        "outputId": "f93b72c6-24a1-4aaf-c561-7f79bf9a3888",
        "colab": {
          "base_uri": "https://localhost:8080/",
          "height": 102
        }
      },
      "source": [
        "# More about slicing\n",
        "print(A[1:3, :])\n",
        "print()\n",
        "# Even more\n",
        "print(A[1:3, 0:2])"
      ],
      "execution_count": 0,
      "outputs": [
        {
          "output_type": "stream",
          "text": [
            "[[ 7 13]\n",
            " [ 4  6]]\n",
            "\n",
            "[[ 7 13]\n",
            " [ 4  6]]\n"
          ],
          "name": "stdout"
        }
      ]
    },
    {
      "cell_type": "markdown",
      "metadata": {
        "id": "5uajhlrd9F6r",
        "colab_type": "text"
      },
      "source": [
        "**Basic operations between vectors and matrices**\n",
        "- Addition\n",
        "- Subtraction\n",
        "- Multiplication\n",
        "- Division\n",
        "- Dot products\n",
        "\n",
        "\\begin{equation}\n",
        "x = \\left(\\begin{array}{c} 7 & 4 & 2 & 3\\end{array}\\right) \\\\\n",
        "y = \\left(\\begin{array}{c} 1 & 2 & 3 & 4\\end{array}\\right) \\\\\n",
        "\\end{equation}\n",
        "\n",
        "**Addition**\n",
        "\n",
        "\\begin{equation}\n",
        "x + y = \\left(\\begin{array}{c} 7+1 & 4+2 & 2+3 & 3+4\\end{array}\\right)  = \\left(\\begin{array}{c} 8 & 6 & 5 & 7\\end{array}\\right)\n",
        "\\end{equation}\n",
        "\n",
        "**Subtraction**\n",
        "\n",
        "\\begin{equation}\n",
        "x - y = \\left(\\begin{array}{c} 7-1 & 4-2 & 2-3 & 3-4\\end{array}\\right)  = \\left(\\begin{array}{c} 6 & 2 & -1 & -1\\end{array}\\right)\n",
        "\\end{equation}\n",
        "\n",
        "**Multiplication (also called element wise product)**\n",
        "\n",
        "\\begin{equation}\n",
        "x \\odot y = \\left(\\begin{array}{c} 7*1 & 4*2 & 2*3 & 3*4\\end{array}\\right)  = \\left(\\begin{array}{c} 7 & 8 & 6 & 12\\end{array}\\right)\n",
        "\\end{equation}\n",
        "\n",
        "**Division**\n",
        "\n",
        "\\begin{equation}\n",
        "x / y = \\left(\\begin{array}{c} 7/1 & 4/2 & 2/3 & 3/4\\end{array}\\right)  = \\left(\\begin{array}{c} 7 & 2 & 0.667 & 0.75\\end{array}\\right)\n",
        "\\end{equation}\n",
        "\n",
        "**Dot product (sometimes this is called matrix multiplication)**\n",
        "\n",
        "\\begin{equation}\n",
        "x \\cdot y = \\left(\\begin{array}{c} 7*1 + 4*2 + 2*3 + 3*4\\end{array}\\right)  = 33\n",
        "\\end{equation} "
      ]
    },
    {
      "cell_type": "code",
      "metadata": {
        "id": "21yM_X3eA3yI",
        "colab_type": "code",
        "outputId": "89366165-d790-461c-9464-12cc9b402967",
        "colab": {
          "base_uri": "https://localhost:8080/",
          "height": 102
        }
      },
      "source": [
        "x = np.array([7, 4, 2, 3])\n",
        "y = np.array([1, 2, 3, 4])\n",
        "# Addition - shapes must agree\n",
        "print(\"x + y = {}\".format(x+y))\n",
        "# Subtraction - shapes must agree\n",
        "print(\"x - y = {}\".format(x-y))\n",
        "# Multiplication - shapes must agree\n",
        "print(\"x * y = {}\".format(x*y))\n",
        "# Divison - shapes must agree\n",
        "print(\"x / y = {}\".format(x/y))\n",
        "# Dot product\n",
        "print(\"x . y = {}\".format(x.dot(y)))"
      ],
      "execution_count": 0,
      "outputs": [
        {
          "output_type": "stream",
          "text": [
            "x + y = [8 6 5 7]\n",
            "x - y = [ 6  2 -1 -1]\n",
            "x * y = [ 7  8  6 12]\n",
            "x / y = [7.         2.         0.66666667 0.75      ]\n",
            "x . y = 33\n"
          ],
          "name": "stdout"
        }
      ]
    },
    {
      "cell_type": "markdown",
      "metadata": {
        "id": "gD3ghM3OBChx",
        "colab_type": "text"
      },
      "source": [
        "**All the basic operations are the same for matrices. We will only look into the $dot$ producti in detail**\n",
        "\n",
        "---\n",
        "\n",
        "Note that certain rules must be followed when doing operations between matrices (same goes for vectors). For example if doing matrix addition the shapes of the two matrices must agree. To express this more formally we say that two matrices are addition conformable if we can add them, same goes for any other operations between matrices.\n",
        "\n",
        "---\n",
        "\n",
        "\n",
        "<img src=\"https://drive.google.com/uc?export=view&id=1AuVnTJQVaLQgImz4EGif0Ic_WsR05yrV\" height='300px' />"
      ]
    },
    {
      "cell_type": "code",
      "metadata": {
        "id": "-D2LKQV4Bff3",
        "colab_type": "code",
        "outputId": "a44f75e0-1153-417d-8f7e-cac977ff29fb",
        "colab": {
          "base_uri": "https://localhost:8080/",
          "height": 51
        }
      },
      "source": [
        "A = np.array([[1, 7], [2, 4]])\n",
        "B = np.array([[3, 3], [5, 2]])\n",
        "print(A.dot(B))"
      ],
      "execution_count": 0,
      "outputs": [
        {
          "output_type": "stream",
          "text": [
            "[[38 17]\n",
            " [26 14]]\n"
          ],
          "name": "stdout"
        }
      ]
    },
    {
      "cell_type": "code",
      "metadata": {
        "id": "UKFxLlg8Ec2h",
        "colab_type": "code",
        "outputId": "42a74eef-4558-4f35-f8ab-2842765f8eb4",
        "colab": {
          "base_uri": "https://localhost:8080/",
          "height": 34
        }
      },
      "source": [
        "a1 = A[0, :]\n",
        "b1 = B[:, 0]\n",
        "print(a1.dot(b1))"
      ],
      "execution_count": 0,
      "outputs": [
        {
          "output_type": "stream",
          "text": [
            "38\n"
          ],
          "name": "stdout"
        }
      ]
    },
    {
      "cell_type": "markdown",
      "metadata": {
        "id": "OikhHHo_FWFm",
        "colab_type": "text"
      },
      "source": [
        "The dimensions of matrices don't have to be the same for the $dot$ product to be possible. But the number of $columns$ of the first matrix must be the same as the number of $rows$ in the second matrix."
      ]
    },
    {
      "cell_type": "code",
      "metadata": {
        "id": "ek5RXTT0F-KL",
        "colab_type": "code",
        "outputId": "9f3f515f-323a-40ae-d5b1-a648625ef7b5",
        "colab": {
          "base_uri": "https://localhost:8080/",
          "height": 272
        }
      },
      "source": [
        "A = np.random.rand(8, 6)\n",
        "B = np.random.rand(6, 2)\n",
        "print(A)\n",
        "print()\n",
        "print(B)"
      ],
      "execution_count": 0,
      "outputs": [
        {
          "output_type": "stream",
          "text": [
            "[[0.09868257 0.57365161 0.0655996  0.40815293 0.83888669 0.44499777]\n",
            " [0.5328937  0.04261111 0.80031689 0.6661486  0.1776204  0.75562323]\n",
            " [0.57081553 0.74988751 0.32651828 0.95997594 0.9704328  0.70915814]\n",
            " [0.18292384 0.31142379 0.37004773 0.46312342 0.35023891 0.20601488]\n",
            " [0.62382965 0.0103348  0.38566048 0.71161659 0.03832579 0.99533439]\n",
            " [0.09296835 0.1813722  0.98263838 0.986157   0.03938417 0.09346003]\n",
            " [0.38501818 0.29974255 0.98402949 0.67950125 0.50956445 0.77138446]\n",
            " [0.42165834 0.32481121 0.95176488 0.35237031 0.10577801 0.35173339]]\n",
            "\n",
            "[[0.70887748 0.44381916]\n",
            " [0.33735901 0.44653403]\n",
            " [0.21198364 0.87881104]\n",
            " [0.38265609 0.97730765]\n",
            " [0.22115649 0.33923079]\n",
            " [0.3970034  0.23884449]]\n"
          ],
          "name": "stdout"
        }
      ]
    },
    {
      "cell_type": "code",
      "metadata": {
        "id": "QmPIhpxjGLHu",
        "colab_type": "code",
        "outputId": "fa1b1fb6-b335-4b0b-ddfe-4488b1439097",
        "colab": {
          "base_uri": "https://localhost:8080/",
          "height": 221
        }
      },
      "source": [
        "C = A.dot(B)\n",
        "print(C)\n",
        "print(\"\\nThe shape of A is: {}\\nThe shape of B is: {}\\nThe shape of C is: {}\".format(A.shape, B.shape, C.shape))"
      ],
      "execution_count": 0,
      "outputs": [
        {
          "output_type": "stream",
          "text": [
            "[[0.7957595  1.14735428]\n",
            " [1.15595839 1.85062595]\n",
            " [1.59033246 2.31190806]\n",
            " [0.64963949 1.16607986]\n",
            " [1.20339059 1.56660484]\n",
            " [0.75856696 1.98526496]\n",
            " [1.26160074 2.19068232]\n",
            " [0.90811016 1.63286774]]\n",
            "\n",
            "The shape of A is: (8, 6)\n",
            "The shape of B is: (6, 2)\n",
            "The shape of C is: (8, 2)\n"
          ],
          "name": "stdout"
        }
      ]
    },
    {
      "cell_type": "markdown",
      "metadata": {
        "id": "LbOg9fU0GS3f",
        "colab_type": "text"
      },
      "source": [
        "The shape of the resulting matrix is: number of $rows$ from the first and number of $columns$ from the second"
      ]
    },
    {
      "cell_type": "code",
      "metadata": {
        "id": "zFFQ6YLQGnQF",
        "colab_type": "code",
        "outputId": "d6c7d8b3-f4fb-4299-e4cb-974025b6a224",
        "colab": {
          "base_uri": "https://localhost:8080/",
          "height": 198
        }
      },
      "source": [
        "# The dot product is not possible if columns_1 != rows_2\n",
        "A = np.random.rand(8, 4)\n",
        "B = np.random.rand(6, 2)\n",
        "print(A.dot(B))"
      ],
      "execution_count": 0,
      "outputs": [
        {
          "output_type": "error",
          "ename": "ValueError",
          "evalue": "ignored",
          "traceback": [
            "\u001b[0;31m---------------------------------------------------------------------------\u001b[0m",
            "\u001b[0;31mValueError\u001b[0m                                Traceback (most recent call last)",
            "\u001b[0;32m<ipython-input-84-d8caabbbeddc>\u001b[0m in \u001b[0;36m<module>\u001b[0;34m()\u001b[0m\n\u001b[1;32m      1\u001b[0m \u001b[0mA\u001b[0m \u001b[0;34m=\u001b[0m \u001b[0mnp\u001b[0m\u001b[0;34m.\u001b[0m\u001b[0mrandom\u001b[0m\u001b[0;34m.\u001b[0m\u001b[0mrand\u001b[0m\u001b[0;34m(\u001b[0m\u001b[0;36m8\u001b[0m\u001b[0;34m,\u001b[0m \u001b[0;36m4\u001b[0m\u001b[0;34m)\u001b[0m\u001b[0;34m\u001b[0m\u001b[0;34m\u001b[0m\u001b[0m\n\u001b[1;32m      2\u001b[0m \u001b[0mB\u001b[0m \u001b[0;34m=\u001b[0m \u001b[0mnp\u001b[0m\u001b[0;34m.\u001b[0m\u001b[0mrandom\u001b[0m\u001b[0;34m.\u001b[0m\u001b[0mrand\u001b[0m\u001b[0;34m(\u001b[0m\u001b[0;36m6\u001b[0m\u001b[0;34m,\u001b[0m \u001b[0;36m2\u001b[0m\u001b[0;34m)\u001b[0m\u001b[0;34m\u001b[0m\u001b[0;34m\u001b[0m\u001b[0m\n\u001b[0;32m----> 3\u001b[0;31m \u001b[0mprint\u001b[0m\u001b[0;34m(\u001b[0m\u001b[0mA\u001b[0m\u001b[0;34m.\u001b[0m\u001b[0mdot\u001b[0m\u001b[0;34m(\u001b[0m\u001b[0mB\u001b[0m\u001b[0;34m)\u001b[0m\u001b[0;34m)\u001b[0m\u001b[0;34m\u001b[0m\u001b[0;34m\u001b[0m\u001b[0m\n\u001b[0m",
            "\u001b[0;31mValueError\u001b[0m: shapes (8,4) and (6,2) not aligned: 4 (dim 1) != 6 (dim 0)"
          ]
        }
      ]
    },
    {
      "cell_type": "code",
      "metadata": {
        "id": "kzIaZtmZHN3a",
        "colab_type": "code",
        "outputId": "99a82eac-456b-491c-e5d0-25ce684db985",
        "colab": {
          "base_uri": "https://localhost:8080/",
          "height": 34
        }
      },
      "source": [
        "# It is possible to do a dot product between vectors and matrices\n",
        "A = np.random.rand(8, 4)\n",
        "B = np.random.rand(8,)\n",
        "print(B.dot(A))"
      ],
      "execution_count": 0,
      "outputs": [
        {
          "output_type": "stream",
          "text": [
            "[2.57773831 2.63074325 3.12692503 3.13429418]\n"
          ],
          "name": "stdout"
        }
      ]
    },
    {
      "cell_type": "markdown",
      "metadata": {
        "id": "HJvyK5eYHrTy",
        "colab_type": "text"
      },
      "source": [
        "**The final thing that we need is the /transpose/ function**\n",
        "\n",
        "A matrix can be transposed, which means we switch the rows and clumns. The first row -> first column, second row -> second column and so on. \n",
        "\n",
        "<img src=\"https://drive.google.com/uc?export=view&id=1IPmLTJRrb4szyIALpMymykbr2qIfIalU\" height='250px' />"
      ]
    },
    {
      "cell_type": "markdown",
      "metadata": {
        "id": "ZyH-9fj4I19Q",
        "colab_type": "text"
      },
      "source": [
        "**IMPORTANT: A vector in numpy can not be transposed, only a matrix**"
      ]
    },
    {
      "cell_type": "code",
      "metadata": {
        "id": "X10RlHfaJCpS",
        "colab_type": "code",
        "outputId": "e31d7a43-70bc-43df-d6b8-a6e79111e1e8",
        "colab": {
          "base_uri": "https://localhost:8080/",
          "height": 187
        }
      },
      "source": [
        "A = np.random.randint(0, 100, size=(4, 2))\n",
        "print(A)\n",
        "print()\n",
        "print(A.T)\n",
        "print()\n",
        "print(A.shape)\n",
        "print(A.T.shape)"
      ],
      "execution_count": 0,
      "outputs": [
        {
          "output_type": "stream",
          "text": [
            "[[88 92]\n",
            " [ 9 52]\n",
            " [54 92]\n",
            " [61 76]]\n",
            "\n",
            "[[88  9 54 61]\n",
            " [92 52 92 76]]\n",
            "\n",
            "(4, 2)\n",
            "(2, 4)\n"
          ],
          "name": "stdout"
        }
      ]
    },
    {
      "cell_type": "code",
      "metadata": {
        "id": "0ztww1UmJNEE",
        "colab_type": "code",
        "outputId": "ac0a6775-6162-4ea3-8cac-8a91174e5480",
        "colab": {
          "base_uri": "https://localhost:8080/",
          "height": 119
        }
      },
      "source": [
        "# Transpose a vector, it is possible, but we get the same thing.\n",
        "#The reason is a vector in numpy doesn't have the notion of rows and columns\n",
        "x = np.array([1, 2, 3])\n",
        "print(x)\n",
        "print()\n",
        "print(x.T)\n",
        "print()\n",
        "print(x.shape)\n",
        "print(x.T.shape)"
      ],
      "execution_count": 0,
      "outputs": [
        {
          "output_type": "stream",
          "text": [
            "[1 2 3]\n",
            "\n",
            "[1 2 3]\n",
            "\n",
            "(3,)\n",
            "(3,)\n"
          ],
          "name": "stdout"
        }
      ]
    },
    {
      "cell_type": "code",
      "metadata": {
        "id": "tZuE90mTJkiY",
        "colab_type": "code",
        "outputId": "5128a0eb-5be3-4085-91db-d09020f7121b",
        "colab": {
          "base_uri": "https://localhost:8080/",
          "height": 170
        }
      },
      "source": [
        "# A vector represented as a matrix\n",
        "A = np.random.randint(0, 100, size=(4, 1))\n",
        "print(A)\n",
        "print()\n",
        "print(A.T)\n",
        "print()\n",
        "print(A.shape)\n",
        "print(A.T.shape)"
      ],
      "execution_count": 0,
      "outputs": [
        {
          "output_type": "stream",
          "text": [
            "[[25]\n",
            " [12]\n",
            " [68]\n",
            " [65]]\n",
            "\n",
            "[[25 12 68 65]]\n",
            "\n",
            "(4, 1)\n",
            "(1, 4)\n"
          ],
          "name": "stdout"
        }
      ]
    },
    {
      "cell_type": "code",
      "metadata": {
        "id": "AOejvIpfJ0Ce",
        "colab_type": "code",
        "outputId": "21cd052a-54d0-48b3-863e-e36c76deb47b",
        "colab": {
          "base_uri": "https://localhost:8080/",
          "height": 459
        }
      },
      "source": [
        "# To get a tensor (1d, 2d, 3d or more)\n",
        "x = np.random.randint(0, 100, size=(4, 2, 3))\n",
        "print(\"-------- A 3d numpy nd-array\")\n",
        "print(x)\n",
        "y = torch.randint(0, 100, size=(4, 2, 3))\n",
        "print(\"\\n------- A 3d pytorch tensor\")\n",
        "print(y)\n",
        "print(type(y))"
      ],
      "execution_count": 0,
      "outputs": [
        {
          "output_type": "stream",
          "text": [
            "-------- A 3d numpy nd-array\n",
            "[[[64 16 96]\n",
            "  [75 63 15]]\n",
            "\n",
            " [[67 50 82]\n",
            "  [ 8 57  6]]\n",
            "\n",
            " [[63 89 80]\n",
            "  [19 59 94]]\n",
            "\n",
            " [[49  2 90]\n",
            "  [29 48 36]]]\n",
            "\n",
            "------- A 3d pytorch tensor\n",
            "tensor([[[77, 19, 55],\n",
            "         [43, 45, 83]],\n",
            "\n",
            "        [[81, 38, 80],\n",
            "         [55, 49, 12]],\n",
            "\n",
            "        [[65, 58, 73],\n",
            "         [74, 72, 21]],\n",
            "\n",
            "        [[73, 27, 91],\n",
            "         [72, 20, 34]]])\n",
            "<class 'torch.Tensor'>\n"
          ],
          "name": "stdout"
        }
      ]
    },
    {
      "cell_type": "code",
      "metadata": {
        "id": "2-h-47pHSihV",
        "colab_type": "code",
        "outputId": "6d426047-647d-472b-9331-51e1aa833302",
        "colab": {
          "base_uri": "https://localhost:8080/",
          "height": 68
        }
      },
      "source": [
        "x = torch.tensor(1)\n",
        "print(x)\n",
        "print(x.shape) #Attribute\n",
        "print(x.size()) # Function"
      ],
      "execution_count": 0,
      "outputs": [
        {
          "output_type": "stream",
          "text": [
            "tensor(1)\n",
            "torch.Size([])\n",
            "torch.Size([])\n"
          ],
          "name": "stdout"
        }
      ]
    },
    {
      "cell_type": "markdown",
      "metadata": {
        "id": "ezlxaO1gKNVE",
        "colab_type": "text"
      },
      "source": [
        "---\n",
        "\n",
        "# **Tips and things to be careful about**\n",
        "- Broadcasting\n",
        "- Sampling\n",
        "- Reshaping\n",
        "- Other useful functions from numpy"
      ]
    },
    {
      "cell_type": "code",
      "metadata": {
        "id": "6kRdltwrw0K1",
        "colab_type": "code",
        "outputId": "5331bbff-1bef-4c3f-f991-c1efbb759acb",
        "colab": {
          "base_uri": "https://localhost:8080/",
          "height": 136
        }
      },
      "source": [
        "# Broadcasting\n",
        "A = np.random.randint(0, 10, size=(3, 4))\n",
        "x = np.random.randint(0, 10, size=(3, 1))\n",
        "print(A)\n",
        "print()\n",
        "print(x)"
      ],
      "execution_count": 0,
      "outputs": [
        {
          "output_type": "stream",
          "text": [
            "[[7 1 3 4]\n",
            " [1 2 5 0]\n",
            " [5 6 3 3]]\n",
            "\n",
            "[[7]\n",
            " [1]\n",
            " [6]]\n"
          ],
          "name": "stdout"
        }
      ]
    },
    {
      "cell_type": "code",
      "metadata": {
        "id": "dpQ8_ne6xJoi",
        "colab_type": "code",
        "outputId": "9eb2f26a-a2b5-4555-88fb-e874816ba2a1",
        "colab": {
          "base_uri": "https://localhost:8080/",
          "height": 68
        }
      },
      "source": [
        "A + x"
      ],
      "execution_count": 0,
      "outputs": [
        {
          "output_type": "execute_result",
          "data": {
            "text/plain": [
              "array([[14,  8, 10, 11],\n",
              "       [ 2,  3,  6,  1],\n",
              "       [11, 12,  9,  9]])"
            ]
          },
          "metadata": {
            "tags": []
          },
          "execution_count": 9
        }
      ]
    },
    {
      "cell_type": "code",
      "metadata": {
        "id": "ogJC3KigxKXo",
        "colab_type": "code",
        "outputId": "ba6e0870-d102-4da8-8aba-60800f1ad968",
        "colab": {
          "base_uri": "https://localhost:8080/",
          "height": 68
        }
      },
      "source": [
        "A - x"
      ],
      "execution_count": 0,
      "outputs": [
        {
          "output_type": "execute_result",
          "data": {
            "text/plain": [
              "array([[ 0, -6, -4, -3],\n",
              "       [ 0,  1,  4, -1],\n",
              "       [-1,  0, -3, -3]])"
            ]
          },
          "metadata": {
            "tags": []
          },
          "execution_count": 11
        }
      ]
    },
    {
      "cell_type": "code",
      "metadata": {
        "id": "EOqtkuiDxtqj",
        "colab_type": "code",
        "outputId": "09c4921e-0eaf-45c9-891b-edfdfe41db6b",
        "colab": {
          "base_uri": "https://localhost:8080/",
          "height": 354
        }
      },
      "source": [
        "# Sample from a normal distribution\n",
        "x = np.random.normal(size=[1000, 1])\n",
        "plt.hist(x)"
      ],
      "execution_count": 0,
      "outputs": [
        {
          "output_type": "execute_result",
          "data": {
            "text/plain": [
              "(array([  1.,   7.,  29.,  99., 206., 271., 235., 112.,  31.,   9.]),\n",
              " array([-3.91461152, -3.22062853, -2.52664554, -1.83266255, -1.13867956,\n",
              "        -0.44469658,  0.24928641,  0.9432694 ,  1.63725239,  2.33123538,\n",
              "         3.02521836]),\n",
              " <a list of 10 Patch objects>)"
            ]
          },
          "metadata": {
            "tags": []
          },
          "execution_count": 15
        },
        {
          "output_type": "display_data",
          "data": {
            "image/png": "[encoded data removed]",
            "text/plain": [
              "<Figure size 432x288 with 1 Axes>"
            ]
          },
          "metadata": {
            "tags": []
          }
        }
      ]
    },
    {
      "cell_type": "code",
      "metadata": {
        "id": "J82X8SquI-Pu",
        "colab_type": "code",
        "outputId": "adfc83dc-55d2-4e87-a18f-4ca8b2a5edba",
        "colab": {
          "base_uri": "https://localhost:8080/",
          "height": 354
        }
      },
      "source": [
        "# Or a uniform distribution\n",
        "x = np.random.uniform(size=[1000, 1])\n",
        "plt.hist(x)"
      ],
      "execution_count": 0,
      "outputs": [
        {
          "output_type": "execute_result",
          "data": {
            "text/plain": [
              "(array([104., 119.,  94., 107., 105., 115.,  85.,  96.,  81.,  94.]),\n",
              " array([1.94679486e-04, 1.00125864e-01, 2.00057048e-01, 2.99988232e-01,\n",
              "        3.99919417e-01, 4.99850601e-01, 5.99781785e-01, 6.99712969e-01,\n",
              "        7.99644154e-01, 8.99575338e-01, 9.99506522e-01]),\n",
              " <a list of 10 Patch objects>)"
            ]
          },
          "metadata": {
            "tags": []
          },
          "execution_count": 19
        },
        {
          "output_type": "display_data",
          "data": {
            "image/png": "[encoded data removed]",
            "text/plain": [
              "<Figure size 432x288 with 1 Axes>"
            ]
          },
          "metadata": {
            "tags": []
          }
        }
      ]
    },
    {
      "cell_type": "code",
      "metadata": {
        "id": "ahPet1SzJM41",
        "colab_type": "code",
        "outputId": "2c943201-cdf3-4b0b-f182-6e17805c6f3f",
        "colab": {
          "base_uri": "https://localhost:8080/",
          "height": 51
        }
      },
      "source": [
        "# Reshape matrices\n",
        "x = np.random.normal(size=[1000, 2])\n",
        "print(x.shape)\n",
        "x = x.reshape(400, 5)\n",
        "print(x.shape)"
      ],
      "execution_count": 0,
      "outputs": [
        {
          "output_type": "stream",
          "text": [
            "(1000, 2)\n",
            "(400, 5)\n"
          ],
          "name": "stdout"
        }
      ]
    },
    {
      "cell_type": "code",
      "metadata": {
        "id": "4Y2R4OaGJsjW",
        "colab_type": "code",
        "outputId": "ccaca41d-61d1-403c-d94b-a3b55c042453",
        "colab": {
          "base_uri": "https://localhost:8080/",
          "height": 164
        }
      },
      "source": [
        "# The number of elements must remain the same - we can't do\n",
        "x.reshape(5, 100)"
      ],
      "execution_count": 0,
      "outputs": [
        {
          "output_type": "error",
          "ename": "ValueError",
          "evalue": "ignored",
          "traceback": [
            "\u001b[0;31m---------------------------------------------------------------------------\u001b[0m",
            "\u001b[0;31mValueError\u001b[0m                                Traceback (most recent call last)",
            "\u001b[0;32m<ipython-input-22-afd3b340f0b9>\u001b[0m in \u001b[0;36m<module>\u001b[0;34m()\u001b[0m\n\u001b[0;32m----> 1\u001b[0;31m \u001b[0mx\u001b[0m\u001b[0;34m.\u001b[0m\u001b[0mreshape\u001b[0m\u001b[0;34m(\u001b[0m\u001b[0;36m5\u001b[0m\u001b[0;34m,\u001b[0m \u001b[0;36m100\u001b[0m\u001b[0;34m)\u001b[0m\u001b[0;34m\u001b[0m\u001b[0;34m\u001b[0m\u001b[0m\n\u001b[0m",
            "\u001b[0;31mValueError\u001b[0m: cannot reshape array of size 2000 into shape (5,100)"
          ]
        }
      ]
    },
    {
      "cell_type": "code",
      "metadata": {
        "id": "s7QUXJl0Juzd",
        "colab_type": "code",
        "outputId": "cbb6d5bc-4af5-4cde-faeb-fd5a9aad61d1",
        "colab": {
          "base_uri": "https://localhost:8080/",
          "height": 34
        }
      },
      "source": [
        "# Let numpy calculate dimensions\n",
        "x = x.reshape(10, -1)\n",
        "print(x.shape)"
      ],
      "execution_count": 0,
      "outputs": [
        {
          "output_type": "stream",
          "text": [
            "(10, 200)\n"
          ],
          "name": "stdout"
        }
      ]
    },
    {
      "cell_type": "code",
      "metadata": {
        "id": "n5Uz_hHHJ_re",
        "colab_type": "code",
        "outputId": "b71889f0-d7e9-4ffb-fa5e-a8d2c0d0ac2e",
        "colab": {
          "base_uri": "https://localhost:8080/",
          "height": 34
        }
      },
      "source": [
        "# To flatten the matrix we do - take care this converts it to a vector\n",
        "x = x.reshape(-1)\n",
        "print(x.shape)"
      ],
      "execution_count": 0,
      "outputs": [
        {
          "output_type": "stream",
          "text": [
            "(2000,)\n"
          ],
          "name": "stdout"
        }
      ]
    },
    {
      "cell_type": "code",
      "metadata": {
        "id": "62V-A3Kt2mPV",
        "colab_type": "code",
        "outputId": "aaf7d965-9e4a-466d-8530-11206964c7ee",
        "colab": {
          "base_uri": "https://localhost:8080/",
          "height": 85
        }
      },
      "source": [
        "# Sorting\n",
        "x = np.random.randint(0, 30, 10)\n",
        "print(x)\n",
        "print(np.sort(x))\n",
        "print(np.argsort(x))\n",
        "print(x[np.argsort(x)])"
      ],
      "execution_count": 0,
      "outputs": [
        {
          "output_type": "stream",
          "text": [
            "[12 14 10 22 23 11 17 19 13  8]\n",
            "[ 8 10 11 12 13 14 17 19 22 23]\n",
            "[9 2 5 0 8 1 6 7 3 4]\n",
            "[ 8 10 11 12 13 14 17 19 22 23]\n"
          ],
          "name": "stdout"
        }
      ]
    },
    {
      "cell_type": "code",
      "metadata": {
        "id": "ZP7Qr3cR2w-C",
        "colab_type": "code",
        "outputId": "b8d75596-d24b-4def-9e60-d95bfa7a88f6",
        "colab": {
          "base_uri": "https://localhost:8080/",
          "height": 68
        }
      },
      "source": [
        "# Permuations and random sample\n",
        "x = np.arange(0, 20)\n",
        "print(x)\n",
        "print(x[np.random.permutation(len(x))])\n",
        "print(np.random.choice(x, 10))"
      ],
      "execution_count": 0,
      "outputs": [
        {
          "output_type": "stream",
          "text": [
            "[ 0  1  2  3  4  5  6  7  8  9 10 11 12 13 14 15 16 17 18 19]\n",
            "[ 5 13  1 11  7 16 18  3 17  8  9 19  4 10  6  2 14 15 12  0]\n",
            "[ 0 14 15 16  1  0 16 15  4  5]\n"
          ],
          "name": "stdout"
        }
      ]
    },
    {
      "cell_type": "code",
      "metadata": {
        "id": "eR1eU8e73DHZ",
        "colab_type": "code",
        "outputId": "d43b083e-4367-4fd8-c3ce-7b80f0d4eced",
        "colab": {
          "base_uri": "https://localhost:8080/",
          "height": 221
        }
      },
      "source": [
        "# Slicing and selections - one of the most important \n",
        "\n",
        "# We want to select only the numbers > 10 in x\n",
        "for val in x:\n",
        "  if val > 10:\n",
        "    print(val)\n",
        "    \n",
        "# When working with vectors or matrices or deep learning - the moment you have to write a loop something is wrong\n",
        "print(x[x>10])\n",
        "print(x>10)\n",
        "print()"
      ],
      "execution_count": 0,
      "outputs": [
        {
          "output_type": "stream",
          "text": [
            "11\n",
            "12\n",
            "13\n",
            "14\n",
            "15\n",
            "16\n",
            "17\n",
            "18\n",
            "19\n",
            "[11 12 13 14 15 16 17 18 19]\n",
            "[False False False False False False False False False False False  True\n",
            "  True  True  True  True  True  True  True  True]\n"
          ],
          "name": "stdout"
        }
      ]
    },
    {
      "cell_type": "code",
      "metadata": {
        "id": "tmrnOWiYzvla",
        "colab_type": "code",
        "colab": {}
      },
      "source": [
        ""
      ],
      "execution_count": 0,
      "outputs": []
    }
  ]
}