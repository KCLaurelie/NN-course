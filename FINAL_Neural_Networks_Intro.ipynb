{
  "nbformat": 4,
  "nbformat_minor": 0,
  "metadata": {
    "colab": {
      "name": "Copy of TODO - Neural Networks Intro.ipynb",
      "version": "0.3.2",
      "provenance": [],
      "collapsed_sections": [],
      "include_colab_link": true
    },
    "kernelspec": {
      "name": "python3",
      "display_name": "Python 3"
    },
    "accelerator": "GPU"
  },
  "cells": [
    {
      "cell_type": "markdown",
      "metadata": {
        "id": "view-in-github",
        "colab_type": "text"
      },
      "source": [
        "<a href=\"https://colab.research.google.com/github/KCLaurelie/NN-course/blob/master/FINAL_Neural_Networks_Intro.ipynb\" target=\"_parent\"><img src=\"https://colab.research.google.com/assets/colab-badge.svg\" alt=\"Open In Colab\"/></a>"
      ]
    },
    {
      "cell_type": "code",
      "metadata": {
        "id": "IQDLSEDWIGOi",
        "colab_type": "code",
        "colab": {}
      },
      "source": [
        "# SWICH RUNTIME TO GPU\n",
        "\n",
        "\n",
        "import numpy as np\n",
        "import sklearn.metrics\n",
        "\n",
        "# For ploting \n",
        "import matplotlib.pyplot as plt\n",
        "import seaborn as sns\n",
        "\n",
        "# Get torch stuff\n",
        "import torch\n",
        "from torch import nn\n",
        "import torch.nn.functional as F\n",
        "import torch.optim as optim\n",
        "\n",
        "np.random.seed(42)"
      ],
      "execution_count": 0,
      "outputs": []
    },
    {
      "cell_type": "markdown",
      "metadata": {
        "id": "ujmQVjC-IbRT",
        "colab_type": "text"
      },
      "source": [
        "# **Neurons are the basic building blocks of Neural Networks**\n",
        "\n",
        "Usually a neural network has thousands or millions of neurons, but let's for now work with a network that has only one.\n",
        "\n",
        "<img src=\"https://drive.google.com/uc?export=view&id=1NEd7WQrLTUzAPz44t6bUEma02LH4GOT3\" height='250px' />\n",
        "\n",
        "$\n",
        "x_1 - \\text{Input} \\\\\n",
        "ŷ_1 - \\text{Output} \\\\\n",
        "$\n",
        "\n",
        "$\n",
        "z_1 = w_1 \\cdot x_1 + b_1 \\\\\n",
        "w_1 - \\text{Weight for the first input} \\\\\n",
        "b_1 - \\text{Bias term for this neuron} \\\\\n",
        "z_1 - \\text{The linear combination of the inputs and weights + bias} \\\\\n",
        "$\n",
        "\n",
        "$\n",
        "\\theta = \\{w, b\\} \\\\\n",
        "\\theta - \\text{Parameters of the model/network} \\\\\n",
        "$\n",
        "\n",
        "$\n",
        "ŷ_1 = f(z_1) \\\\\n",
        "f - \\text{The activation function} \\\\\n",
        "$\n",
        "\n",
        "\n"
      ]
    },
    {
      "cell_type": "markdown",
      "metadata": {
        "id": "KBFKRgUEninT",
        "colab_type": "text"
      },
      "source": [
        "# **Activation functions**\n",
        "\n",
        "Linear:\n",
        "\n",
        "$f(z) = z$\n",
        "\n",
        "---\n",
        "Step:\n",
        "\n",
        "$f(z) = \\begin{cases}\n",
        "    1,& \\text{if } z > 0\\\\\n",
        "    0,              & z \\le 0\n",
        "\\end{cases}$\n",
        "\n",
        "---\n",
        "Sigmoid:\n",
        "\n",
        "$f(z) = \\frac{1}{1 + e^{-z}}$\n",
        "\n",
        "---\n",
        "tanh:\n",
        "\n",
        "$f(z) = tanh(z) = \\frac{1 - e^{-z}}{1 + e^{-z}}$\n",
        "\n",
        "---\n",
        "ReLU:\n",
        "\n",
        "$f(z) = max(0, z)$\n",
        "\n"
      ]
    },
    {
      "cell_type": "code",
      "metadata": {
        "id": "IJ3C53nLnXng",
        "colab_type": "code",
        "colab": {}
      },
      "source": [
        "def step(z):\n",
        "  return np.array(z > 0, dtype=np.int32)\n",
        "\n",
        "def tanh(z):\n",
        "  return np.tanh(z)\n",
        "\n",
        "def sigmoid(z):\n",
        "  return 1 / (1+np.exp(-z))\n",
        "  \n",
        "\n",
        "def relu(z):\n",
        "  return np.maximum(0,z)\n",
        "  "
      ],
      "execution_count": 0,
      "outputs": []
    },
    {
      "cell_type": "code",
      "metadata": {
        "id": "DFZtd4J3qygv",
        "colab_type": "code",
        "colab": {}
      },
      "source": [
        "def plot(z, yh, name):\n",
        "  plt.grid(True)\n",
        "  plt.xlabel('z')\n",
        "  plt.ylabel('ŷ')\n",
        "  plt.plot(z, yh, label=name, color='b')\n",
        "  plt.axhline(0, color='orange')\n",
        "  plt.axvline(0, color='orange')\n",
        "  plt.legend()\n",
        "  plt.show()"
      ],
      "execution_count": 0,
      "outputs": []
    },
    {
      "cell_type": "code",
      "metadata": {
        "id": "7hwUZfB5lm-s",
        "colab_type": "code",
        "outputId": "713e78bf-8386-4785-b37b-33a8c5e61996",
        "colab": {
          "base_uri": "https://localhost:8080/",
          "height": 284
        }
      },
      "source": [
        "z = np.linspace(-10, 10, 100)\n",
        "\n",
        "yh = step(z)\n",
        "plot(z, yh, 'Step')"
      ],
      "execution_count": 0,
      "outputs": [
        {
          "output_type": "display_data",
          "data": {
            "image/png": "[encoded data removed]",
            "text/plain": [
              "<Figure size 432x288 with 1 Axes>"
            ]
          },
          "metadata": {
            "tags": []
          }
        }
      ]
    },
    {
      "cell_type": "code",
      "metadata": {
        "id": "uyQk5swil_Es",
        "colab_type": "code",
        "outputId": "03cf0ecd-8c44-4ad9-8676-015305601b69",
        "colab": {
          "base_uri": "https://localhost:8080/",
          "height": 284
        }
      },
      "source": [
        "yh = relu(z)\n",
        "plot(z, yh, 'ReLU')"
      ],
      "execution_count": 0,
      "outputs": [
        {
          "output_type": "display_data",
          "data": {
            "image/png": "[encoded data removed]",
            "text/plain": [
              "<Figure size 432x288 with 1 Axes>"
            ]
          },
          "metadata": {
            "tags": []
          }
        }
      ]
    },
    {
      "cell_type": "code",
      "metadata": {
        "id": "7MAyNnZ8q-XR",
        "colab_type": "code",
        "outputId": "b3854acc-320c-4a10-aab2-9d37f9f0084f",
        "colab": {
          "base_uri": "https://localhost:8080/",
          "height": 284
        }
      },
      "source": [
        "yh = sigmoid(z)\n",
        "plot(z, yh, 'Sigmoid')"
      ],
      "execution_count": 0,
      "outputs": [
        {
          "output_type": "display_data",
          "data": {
            "image/png": "[encoded data removed]",
            "text/plain": [
              "<Figure size 432x288 with 1 Axes>"
            ]
          },
          "metadata": {
            "tags": []
          }
        }
      ]
    },
    {
      "cell_type": "markdown",
      "metadata": {
        "id": "Vrpiv-ggrkth",
        "colab_type": "text"
      },
      "source": [
        "# **An example of an oversimplified problem that can be solved using NN**\n",
        "\n",
        "Our input is outside temperature which is a value between -30 and 40. We want our NN to predict is it hot or cold outside. This is an example of supervised ML using NN.\n",
        "\n",
        "Let's encode the output values as:\n",
        "\n",
        "$\n",
        "hot   -  1 \\\\\n",
        "cold - 0\n",
        "$\n",
        "\n",
        "---\n",
        "\n",
        "$\n",
        "D = \\{\\\\\n",
        "(-4, 0), \\\\\n",
        "(1, 0),\\\\\n",
        "(25, 1),\\\\\n",
        "...\\}\n",
        "$\n",
        "\n",
        "---"
      ]
    },
    {
      "cell_type": "code",
      "metadata": {
        "id": "4r9g8JofO0DA",
        "colab_type": "code",
        "outputId": "9bd45355-c729-44c7-ea61-e9d965821d20",
        "colab": {
          "base_uri": "https://localhost:8080/",
          "height": 190
        }
      },
      "source": [
        "# TODO: Generate a vector with 1000 integers with values from -30 to 40\n",
        "x = np.random.randint(-30,40,1000)\n",
        "y = np.array([1 if v > 20 else 0 for v in x])\n",
        "for i in range(10):\n",
        "  print(\"If the temperature is {:4} it is  {}\".format(x[i], \"hot\" if y[i] == 1 else \"cold\"))"
      ],
      "execution_count": 7,
      "outputs": [
        {
          "output_type": "stream",
          "text": [
            "If the temperature is  -22 it is  cold\n",
            "If the temperature is   20 it is  cold\n",
            "If the temperature is   33 it is  hot\n",
            "If the temperature is    7 it is  cold\n",
            "If the temperature is    8 it is  cold\n",
            "If the temperature is  -16 it is  cold\n",
            "If the temperature is   14 it is  cold\n",
            "If the temperature is   37 it is  hot\n",
            "If the temperature is   35 it is  hot\n",
            "If the temperature is   25 it is  hot\n"
          ],
          "name": "stdout"
        }
      ]
    },
    {
      "cell_type": "markdown",
      "metadata": {
        "id": "hXl8QgTxPChm",
        "colab_type": "text"
      },
      "source": [
        "# Initialize the parameters\n",
        "\n",
        "<img src=\"https://drive.google.com/uc?export=view&id=1NEd7WQrLTUzAPz44t6bUEma02LH4GOT3\" height='250px' />\n",
        "\n",
        "The first thing we need to do is initialize the parameters of our NN. In our case we only have two parameters $w_1$ and $b_1$. Usually a random valaue between -1 and 1 is assigned to both. "
      ]
    },
    {
      "cell_type": "code",
      "metadata": {
        "id": "M0amrdVbQZsQ",
        "colab_type": "code",
        "colab": {
          "base_uri": "https://localhost:8080/",
          "height": 34
        },
        "outputId": "33e7134c-98bb-4ac7-c3be-e96015845bab"
      },
      "source": [
        "#Set seed, so that we always have the same result\n",
        "np.random.seed(13)\n",
        "\n",
        "# TODO: Initialize the parameters of the Neural Network\n",
        "w1 = np.random.uniform(-1,1) # we want a random number between -1 and 1\n",
        "b1 = np.random.uniform(-1,1)\n",
        "print(w1,b1)"
      ],
      "execution_count": 35,
      "outputs": [
        {
          "output_type": "stream",
          "text": [
            "0.5554048211476403 -0.5249175599301754\n"
          ],
          "name": "stdout"
        }
      ]
    },
    {
      "cell_type": "markdown",
      "metadata": {
        "id": "On58e1i3Quzr",
        "colab_type": "text"
      },
      "source": [
        "$\n",
        "z_1 = w_1 \\cdot x_1 + b_1 \\\\\n",
        "ŷ_1 = f(z_1) \\\\\n",
        "$\n",
        "\n",
        "Calculate the outputs, set sigmoid as the activation function."
      ]
    },
    {
      "cell_type": "code",
      "metadata": {
        "id": "fA1uNfMWRYXM",
        "colab_type": "code",
        "colab": {
          "base_uri": "https://localhost:8080/",
          "height": 69
        },
        "outputId": "8648ca92-0012-440c-e8c6-de1fcd8e1951"
      },
      "source": [
        "#TODO \n",
        "# Forward pass - get the predictions\n",
        "z1 = w1*x+b1\n",
        "yh = sigmoid(z1)\n",
        "print(z1[0:3])\n",
        "print()\n",
        "print(yh[0:3])"
      ],
      "execution_count": 36,
      "outputs": [
        {
          "output_type": "stream",
          "text": [
            "[-12.74382363  10.58317886  17.80344154]\n",
            "\n",
            "[2.92029317e-06 9.99974662e-01 9.99999981e-01]\n"
          ],
          "name": "stdout"
        }
      ]
    },
    {
      "cell_type": "markdown",
      "metadata": {
        "id": "qsN9wHStB6ZV",
        "colab_type": "text"
      },
      "source": [
        "# Because we are using the sigmod function we can interpret the output as probability"
      ]
    },
    {
      "cell_type": "code",
      "metadata": {
        "id": "h_eDCmmJRinZ",
        "colab_type": "code",
        "colab": {}
      },
      "source": [
        "# Decode the outputs hot/cold\n",
        "yh_temp = ['hot' if val > 0.5 else 'cold' for val in yh]"
      ],
      "execution_count": 0,
      "outputs": []
    },
    {
      "cell_type": "code",
      "metadata": {
        "id": "waDET7DcSF0R",
        "colab_type": "code",
        "outputId": "238a3214-2004-4236-ed19-da6b414c243f",
        "colab": {
          "base_uri": "https://localhost:8080/",
          "height": 190
        }
      },
      "source": [
        "# Print the first 10 g.t. and predictions\n",
        "for i in range(10):\n",
        "  print(\"If the temperature is {:4} it is  {:4}  vs predicted  {}\".format(\n",
        "      x[i], \"hot\" if y[i] == 1 else \"cold\", yh_temp[i]))"
      ],
      "execution_count": 38,
      "outputs": [
        {
          "output_type": "stream",
          "text": [
            "If the temperature is  -22 it is  cold  vs predicted  cold\n",
            "If the temperature is   20 it is  cold  vs predicted  hot\n",
            "If the temperature is   33 it is  hot   vs predicted  hot\n",
            "If the temperature is    7 it is  cold  vs predicted  hot\n",
            "If the temperature is    8 it is  cold  vs predicted  hot\n",
            "If the temperature is  -16 it is  cold  vs predicted  cold\n",
            "If the temperature is   14 it is  cold  vs predicted  hot\n",
            "If the temperature is   37 it is  hot   vs predicted  hot\n",
            "If the temperature is   35 it is  hot   vs predicted  hot\n",
            "If the temperature is   25 it is  hot   vs predicted  hot\n"
          ],
          "name": "stdout"
        }
      ]
    },
    {
      "cell_type": "markdown",
      "metadata": {
        "id": "8hLJVhXuSOhH",
        "colab_type": "text"
      },
      "source": [
        "# Cost function / Loss function / Error function\n",
        "\n",
        "Cross entropy loss is defined as:\n",
        "\n",
        "$\n",
        "L = -\\frac{1}{N}\\sum_i y_i log(\\hat{y}_i) + (1-y_i)log(1-\\hat{y}_i) \\\\\n",
        "$\n",
        "\n",
        "\n",
        "\n",
        "$\n",
        "N - \\text{Number of examples in our training set} \\\\\n",
        "y_i - \\text{The ground truth} \\\\\n",
        "\\hat{y}_i - \\text{The predicted value}\\\\\n",
        "$\n",
        "\n",
        "---\n",
        "$\n",
        "y = 1 = hot \\\\\n",
        "yh = 0.3 = cold \\\\\n",
        "L = -1 \\cdot log(0.3) + (1 - 1)log(1-0.3) = -log(0.3) = 1.2 \\\\\n",
        "$\n",
        "\n",
        "$\n",
        "y = 1 = hot \\\\\n",
        "yh = 0.9 = hot \\\\\n",
        "L = -1 \\cdot log(0.9) + (1 - 1)log(1-0.9) = -log(0.9) = 0.1 \\\\\n",
        "$\n",
        "\n",
        "$\n",
        "y = 1 = hot \\\\\n",
        "yh = 0.01 = cold \\\\\n",
        "L = -1 \\cdot log(0.01) + (1 - 1)log(1-0.01) = -log(0.01) = 4.6\n",
        "$"
      ]
    },
    {
      "cell_type": "code",
      "metadata": {
        "id": "7NSuYWnkVmg0",
        "colab_type": "code",
        "colab": {
          "base_uri": "https://localhost:8080/",
          "height": 34
        },
        "outputId": "09227856-3840-434b-8ef1-5a9761086a07"
      },
      "source": [
        "# Calculate the loss\n",
        "loss = sklearn.metrics.log_loss(y, yh)\n",
        "print(loss)"
      ],
      "execution_count": 39,
      "outputs": [
        {
          "output_type": "stream",
          "text": [
            "1.652041710467049\n"
          ],
          "name": "stdout"
        }
      ]
    },
    {
      "cell_type": "markdown",
      "metadata": {
        "id": "AhuGAeDSlaQx",
        "colab_type": "text"
      },
      "source": [
        "# **1. Prepare the dataset**"
      ]
    },
    {
      "cell_type": "code",
      "metadata": {
        "id": "6Ql-AinznzkW",
        "colab_type": "code",
        "colab": {
          "base_uri": "https://localhost:8080/",
          "height": 86
        },
        "outputId": "1757ee8a-180f-4b7c-c992-64557c047163"
      },
      "source": [
        "device = torch.device('cpu')\n",
        "\n",
        "# The whole dataset\n",
        "print(x[0:10])\n",
        "print(y[0:10])\n",
        "print()\n",
        "# Print the size\n",
        "print(\"The size of our dataset is: \" + str(x.size))"
      ],
      "execution_count": 40,
      "outputs": [
        {
          "output_type": "stream",
          "text": [
            "[-22  20  33   7   8 -16  14  37  35  25]\n",
            "[0 0 1 0 0 0 0 1 1 1]\n",
            "\n",
            "The size of our dataset is: 1000\n"
          ],
          "name": "stdout"
        }
      ]
    },
    {
      "cell_type": "markdown",
      "metadata": {
        "id": "KFUrCsLFotKC",
        "colab_type": "text"
      },
      "source": [
        "\n",
        "\n",
        "---\n",
        "\n",
        "\n",
        "**Generate a train/test/dev dataset**"
      ]
    },
    {
      "cell_type": "code",
      "metadata": {
        "id": "gXLRWcExot62",
        "colab_type": "code",
        "colab": {}
      },
      "source": [
        "inds = np.random.permutation(len(x))\n",
        "inds_train = inds[0:int(0.8*len(x))]\n",
        "inds_test = inds[int(0.8*len(x)):int(0.9*len(x))]\n",
        "inds_dev = inds[int(0.9*len(x)):]\n",
        "\n",
        "# 80% of the dataset\n",
        "x_train = x[inds_train]\n",
        "y_train = y[inds_train]\n",
        "\n",
        "# 10% of the dataset\n",
        "x_test = x[inds_test]\n",
        "y_test = y[inds_test]\n",
        "\n",
        "# 10% of the dataset\n",
        "x_dev = x[inds_dev]\n",
        "y_dev = y[inds_dev]"
      ],
      "execution_count": 0,
      "outputs": []
    },
    {
      "cell_type": "markdown",
      "metadata": {
        "id": "OB1XiSSloStq",
        "colab_type": "text"
      },
      "source": [
        "\n",
        "\n",
        "---\n",
        "\n",
        "\n",
        "**Convert the inputs to PyTorch**"
      ]
    },
    {
      "cell_type": "code",
      "metadata": {
        "id": "uVrQT2IjoTXM",
        "colab_type": "code",
        "colab": {}
      },
      "source": [
        "x_train = torch.tensor(x_train.reshape(-1, 1), dtype=torch.float32)\n",
        "y_train = torch.tensor(y_train.reshape(-1, 1), dtype=torch.float32)\n",
        "\n",
        "x_dev = torch.tensor(x_dev.reshape(-1, 1), dtype=torch.float32)\n",
        "y_dev = torch.tensor(y_dev.reshape(-1, 1), dtype=torch.float32)\n",
        "\n",
        "x_test = torch.tensor(x_test.reshape(-1, 1), dtype=torch.float32)\n",
        "y_test = torch.tensor(y_test.reshape(-1, 1), dtype=torch.float32)"
      ],
      "execution_count": 0,
      "outputs": []
    },
    {
      "cell_type": "markdown",
      "metadata": {
        "id": "TBXyAyEV-cJG",
        "colab_type": "text"
      },
      "source": [
        "# Build the Neural Network"
      ]
    },
    {
      "cell_type": "code",
      "metadata": {
        "id": "v6XuMnffc_fm",
        "colab_type": "code",
        "colab": {}
      },
      "source": [
        "class Net(nn.Module):\n",
        "    def __init__(self):\n",
        "      super(Net, self).__init__()\n",
        "      self.fc1 = nn.Linear(1, 1) #1 layer with 1 neuron (nb inputs, nb outputs)\n",
        "      \n",
        "    def forward(self, x): # forward passing\n",
        "      x = torch.sigmoid(self.fc1(x)) # linear layer receives as input x\n",
        "      return x"
      ],
      "execution_count": 0,
      "outputs": []
    },
    {
      "cell_type": "markdown",
      "metadata": {
        "id": "M_MeocL1-mLy",
        "colab_type": "text"
      },
      "source": [
        "# Initialize the NN\n",
        "\n",
        "We also create the criterion (loss function) and the optimizer"
      ]
    },
    {
      "cell_type": "code",
      "metadata": {
        "id": "dQNhGqNc-k5K",
        "colab_type": "code",
        "colab": {}
      },
      "source": [
        "net = Net() # instantiate the class\n",
        "criterion = nn.BCELoss() # loss function (binary cross entropy loss or log loss)\n",
        "optimizer = optim.SGD(net.parameters(), lr=0.0001, momentum=0.999) # thing that updates the weights (backpropagation calcultaes, optimizer updates the weights)\n",
        "# here optimizer = sigmoid gradient descent with learning rate or 0.0001\n",
        "# also popular: adam optimizer"
      ],
      "execution_count": 0,
      "outputs": []
    },
    {
      "cell_type": "code",
      "metadata": {
        "id": "rglW4qhaCP89",
        "colab_type": "code",
        "outputId": "06bda021-a844-40fb-d692-2437f3cc5737",
        "colab": {
          "base_uri": "https://localhost:8080/",
          "height": 86
        }
      },
      "source": [
        "# fc1 = first layer (fc=fully connected: all layers in pytorch are fully connected)\n",
        "print(net.fc1.weight) \n",
        "print(net.fc1.bias)\n",
        "\n",
        "# requires_grad=True: means this parameter needs to be learnt"
      ],
      "execution_count": 50,
      "outputs": [
        {
          "output_type": "stream",
          "text": [
            "Parameter containing:\n",
            "tensor([[0.5695]], requires_grad=True)\n",
            "Parameter containing:\n",
            "tensor([0.4030], requires_grad=True)\n"
          ],
          "name": "stdout"
        }
      ]
    },
    {
      "cell_type": "markdown",
      "metadata": {
        "id": "zuynUnhO-tvs",
        "colab_type": "text"
      },
      "source": [
        "# Train"
      ]
    },
    {
      "cell_type": "code",
      "metadata": {
        "id": "3XLMa0rxdk0m",
        "colab_type": "code",
        "colab": {
          "base_uri": "https://localhost:8080/",
          "height": 381
        },
        "outputId": "efae561d-bd99-4e61-cdf4-0fb35218b4e5"
      },
      "source": [
        "net.to(device) # move the network to device (CPU)\n",
        "x_train = x_train.to(device)\n",
        "y_train = y_train.to(device)\n",
        "\n",
        "x_dev = x_dev.to(device)\n",
        "y_dev = y_dev.to(device)\n",
        "\n",
        "\n",
        "net.train() # push network in training mode\n",
        "# things we want to track\n",
        "losses = [] #loss\n",
        "accs = [] #accuracy\n",
        "ws = [] #weight\n",
        "bs = [] # biases\n",
        "\n",
        "\n",
        "for epoch in range(10000):  # do 200 epoch \n",
        "  # re-initializes the gradient to 0\n",
        "  optimizer.zero_grad() #pytorch remembers gradients from previous steps, otherwise gradients will be updated with previous updates\n",
        "\n",
        "  # Forward \n",
        "  outputs = net(x_train)\n",
        "  # Calculate error\n",
        "  loss = criterion(outputs, y_train) #outputs = y_hat intermediate\n",
        "  # Backward\n",
        "  loss.backward()\n",
        "  # Optimize/Update parameters\n",
        "  optimizer.step()\n",
        "  \n",
        "  # Track the changes - This is normally done using tensorboard or similar\n",
        "  losses.append(loss.item())\n",
        "  accs.append(sklearn.metrics.accuracy_score([1 if x > 0.5 else 0 for x in outputs.cpu().detach().numpy()], y_train.cpu().numpy()))\n",
        "  ws.append(net.fc1.weight.cpu().detach().numpy()[0][0])\n",
        "  bs.append(net.fc1.bias.cpu().detach().numpy()[0])\n",
        "\n",
        "  # print statistics\n",
        "  if epoch % 500 == 0:\n",
        "      acc = sklearn.metrics.accuracy_score([1 if x > 0.5 else 0 for x in outputs.cpu().detach().numpy()], y_train.cpu().numpy())\n",
        "      \n",
        "      outputs_dev = net(x_dev)\n",
        "      acc_dev = sklearn.metrics.accuracy_score([1 if x > 0.5 else 0 for x in outputs_dev.cpu().detach().numpy()], y_dev.cpu().numpy())\n",
        "      \n",
        "      print(\"Epoch: {:4} Loss: {:.5f} Acc: {:.3f} Acc Dev: {:.3f}\".format(epoch, loss.item(), acc, acc_dev))\n",
        "\n",
        "print('Finished Training')\n",
        "\n",
        "\n",
        "# overfitting: accuracy very high, acc dev very low"
      ],
      "execution_count": 51,
      "outputs": [
        {
          "output_type": "stream",
          "text": [
            "Epoch:    0 Loss: 2.01625 Acc: 0.685 Acc Dev: 0.640\n",
            "Epoch:  500 Loss: 0.98151 Acc: 0.746 Acc Dev: 0.860\n",
            "Epoch: 1000 Loss: 0.34763 Acc: 0.876 Acc Dev: 0.870\n",
            "Epoch: 1500 Loss: 0.23417 Acc: 0.896 Acc Dev: 0.900\n",
            "Epoch: 2000 Loss: 0.05029 Acc: 0.986 Acc Dev: 1.000\n",
            "Epoch: 2500 Loss: 0.04917 Acc: 0.986 Acc Dev: 1.000\n",
            "Epoch: 3000 Loss: 0.05906 Acc: 0.960 Acc Dev: 0.940\n",
            "Epoch: 3500 Loss: 0.04368 Acc: 0.986 Acc Dev: 1.000\n",
            "Epoch: 4000 Loss: 0.03768 Acc: 1.000 Acc Dev: 1.000\n",
            "Epoch: 4500 Loss: 0.03604 Acc: 1.000 Acc Dev: 1.000\n",
            "Epoch: 5000 Loss: 0.03762 Acc: 0.986 Acc Dev: 1.000\n",
            "Epoch: 5500 Loss: 0.03769 Acc: 0.980 Acc Dev: 0.980\n",
            "Epoch: 6000 Loss: 0.03528 Acc: 1.000 Acc Dev: 1.000\n",
            "Epoch: 6500 Loss: 0.03387 Acc: 1.000 Acc Dev: 1.000\n",
            "Epoch: 7000 Loss: 0.03399 Acc: 1.000 Acc Dev: 1.000\n",
            "Epoch: 7500 Loss: 0.03380 Acc: 1.000 Acc Dev: 1.000\n",
            "Epoch: 8000 Loss: 0.03323 Acc: 1.000 Acc Dev: 1.000\n",
            "Epoch: 8500 Loss: 0.03302 Acc: 1.000 Acc Dev: 1.000\n",
            "Epoch: 9000 Loss: 0.03288 Acc: 1.000 Acc Dev: 1.000\n",
            "Epoch: 9500 Loss: 0.03261 Acc: 1.000 Acc Dev: 1.000\n",
            "Finished Training\n"
          ],
          "name": "stdout"
        }
      ]
    },
    {
      "cell_type": "markdown",
      "metadata": {
        "id": "HMqfPQMf-x6l",
        "colab_type": "text"
      },
      "source": [
        "# Plot Everything"
      ]
    },
    {
      "cell_type": "code",
      "metadata": {
        "id": "6sqlfJxLSkNN",
        "colab_type": "code",
        "colab": {
          "base_uri": "https://localhost:8080/",
          "height": 607
        },
        "outputId": "7e43f0d4-30d8-495f-f59b-cc66b0e73e86"
      },
      "source": [
        "fig = plt.figure()\n",
        "fig.subplots_adjust(hspace=0.6, wspace=0.6)\n",
        "fig.set_size_inches(10, 10)\n",
        "plt.subplot(2, 2, 1)\n",
        "sns.lineplot(np.arange(0, len(bs)), bs).set_title(\"Bias\")\n",
        "\n",
        "plt.subplot(2, 2, 2)\n",
        "sns.lineplot(np.arange(0, len(ws)), ws).set_title(\"Weight\")\n",
        "\n",
        "# TODO: Add two plots for the Loss and Accuracy, place them in the right positions\n",
        "plt.subplot(2, 2, 3)\n",
        "sns.lineplot(np.arange(0, len(losses)), losses).set_title(\"loss\")\n",
        "\n",
        "plt.subplot(2, 2, 4)\n",
        "sns.lineplot(np.arange(0, len(accs)), accs).set_title(\"accuracy\")\n",
        "\n",
        "\n",
        "fig.show()\n",
        "\n",
        "# what we should see: until the end they stabilize/plateau\n",
        "# loss needs to reach plateau (otherwise need to continue training)"
      ],
      "execution_count": 52,
      "outputs": [
        {
          "output_type": "display_data",
          "data": {
            "image/png": "[encoded data removed]",
            "text/plain": [
              "<Figure size 720x720 with 4 Axes>"
            ]
          },
          "metadata": {
            "tags": []
          }
        }
      ]
    },
    {
      "cell_type": "markdown",
      "metadata": {
        "id": "6GWH2T7m9SBU",
        "colab_type": "text"
      },
      "source": [
        "# Let's do multiple layers"
      ]
    },
    {
      "cell_type": "code",
      "metadata": {
        "id": "umBqidrIG-43",
        "colab_type": "code",
        "colab": {}
      },
      "source": [
        "#TODO - Create a network with 3 Layers for each use sigmoid as activation:\n",
        "#L1 - 4 Neurons\n",
        "#L2 - 3 Neurons\n",
        "#L3 - 1 Neuron\n",
        "\n",
        "#Add sigmod as the activation function\n",
        "import torch.optim as optim\n",
        "class Net(nn.Module):\n",
        "    def __init__(self):\n",
        "      super(Net, self).__init__()\n",
        "      self.fc1 = nn.Linear(1, 4) #1 layer with 1 input (1 variable: temperature), 4 outputs (4 neurons)\n",
        "      self.fc2 = nn.Linear(4, 3) #1 layer with 4 inputs, 3 outputs\n",
        "      self.fc3 = nn.Linear(3, 1) # 3 inputs, 1 output (only 1 prediction)\n",
        "      \n",
        "    def forward(self, x):\n",
        "      x1 = torch.sigmoid(self.fc1(x)) # linear layer receives as input x\n",
        "      x2 = torch.sigmoid(self.fc2(x1))\n",
        "      x3 = torch.sigmoid(self.fc3(x2))\n",
        "      \n",
        "      return x3\n"
      ],
      "execution_count": 0,
      "outputs": []
    },
    {
      "cell_type": "code",
      "metadata": {
        "id": "AFw3aq6vvIzc",
        "colab_type": "code",
        "colab": {}
      },
      "source": [
        "net = Net()\n",
        "criterion = nn.BCELoss()\n",
        "optimizer = optim.SGD(net.parameters(), lr=0.0001, momentum=0.999)"
      ],
      "execution_count": 0,
      "outputs": []
    },
    {
      "cell_type": "code",
      "metadata": {
        "id": "Xcp1T7ivwg_m",
        "colab_type": "code",
        "outputId": "7c2d07b5-96fc-4969-db7b-47c0a897fd16",
        "colab": {
          "base_uri": "https://localhost:8080/",
          "height": 86
        }
      },
      "source": [
        "print(net.fc2.weight)"
      ],
      "execution_count": 59,
      "outputs": [
        {
          "output_type": "stream",
          "text": [
            "Parameter containing:\n",
            "tensor([[-0.1331, -0.4726,  0.4321,  0.4257],\n",
            "        [ 0.3276, -0.2324,  0.3623,  0.1869],\n",
            "        [-0.3172, -0.1585, -0.2050,  0.3434]], requires_grad=True)\n"
          ],
          "name": "stdout"
        }
      ]
    },
    {
      "cell_type": "code",
      "metadata": {
        "id": "mgyBXwaGvQ9c",
        "colab_type": "code",
        "colab": {
          "base_uri": "https://localhost:8080/",
          "height": 381
        },
        "outputId": "28b607ae-1c65-45a6-e50f-14099d5345bf"
      },
      "source": [
        "net.to(device)\n",
        "x_train = x_train.to(device)\n",
        "y_train = y_train.to(device)\n",
        "net.train()\n",
        "losses = []\n",
        "accs = []\n",
        "ws = []\n",
        "bs = []\n",
        "for epoch in range(10000):  # do 200 epoch \n",
        "  # zero the gradients\n",
        "  optimizer.zero_grad()\n",
        "\n",
        "  # Forward \n",
        "  outputs = net(x_train)\n",
        "  # Calculate error\n",
        "  loss = criterion(outputs, y_train)\n",
        "  # Backward\n",
        "  loss.backward()\n",
        "  # Optimize/Update parameters\n",
        "  optimizer.step()\n",
        "  \n",
        "  # Track the changes - This is normally done using tensorboard or similar\n",
        "  losses.append(loss.item())\n",
        "  accs.append(sklearn.metrics.accuracy_score([1 if x > 0.5 else 0 for x in outputs.cpu().detach().numpy()], y_train.cpu().numpy()))\n",
        "  ws.append(net.fc1.weight.cpu().detach().numpy()[0][0])\n",
        "  bs.append(net.fc1.bias.cpu().detach().numpy()[0])\n",
        "\n",
        "  # print statistics\n",
        "  if epoch % 500 == 0:\n",
        "      acc = sklearn.metrics.accuracy_score([1 if x > 0.5 else 0 for x in outputs.cpu().detach().numpy()], y_train.cpu().numpy())\n",
        "      print(\"Epoch: {:4} Loss: {:.5} Acc: {:.3}\".format(epoch, loss.item(), acc))\n",
        "\n",
        "print('Finished Training')"
      ],
      "execution_count": 60,
      "outputs": [
        {
          "output_type": "stream",
          "text": [
            "Epoch:    0 Loss: 0.67924 Acc: 0.746\n",
            "Epoch:  500 Loss: 0.58207 Acc: 0.746\n",
            "Epoch: 1000 Loss: 0.45402 Acc: 0.746\n",
            "Epoch: 1500 Loss: 0.38824 Acc: 0.746\n",
            "Epoch: 2000 Loss: 0.37114 Acc: 0.746\n",
            "Epoch: 2500 Loss: 0.30836 Acc: 0.807\n",
            "Epoch: 3000 Loss: 0.26067 Acc: 0.884\n",
            "Epoch: 3500 Loss: 0.16163 Acc: 0.95\n",
            "Epoch: 4000 Loss: 0.10286 Acc: 0.96\n",
            "Epoch: 4500 Loss: 0.077721 Acc: 0.969\n",
            "Epoch: 5000 Loss: 0.052744 Acc: 0.986\n",
            "Epoch: 5500 Loss: 0.040761 Acc: 0.98\n",
            "Epoch: 6000 Loss: 0.032503 Acc: 0.986\n",
            "Epoch: 6500 Loss: 0.028086 Acc: 0.986\n",
            "Epoch: 7000 Loss: 0.023849 Acc: 1.0\n",
            "Epoch: 7500 Loss: 0.020331 Acc: 1.0\n",
            "Epoch: 8000 Loss: 0.018931 Acc: 1.0\n",
            "Epoch: 8500 Loss: 0.017162 Acc: 1.0\n",
            "Epoch: 9000 Loss: 0.016192 Acc: 1.0\n",
            "Epoch: 9500 Loss: 0.015299 Acc: 1.0\n",
            "Finished Training\n"
          ],
          "name": "stdout"
        }
      ]
    },
    {
      "cell_type": "code",
      "metadata": {
        "id": "TKdNsXlnvUMw",
        "colab_type": "code",
        "colab": {
          "base_uri": "https://localhost:8080/",
          "height": 607
        },
        "outputId": "5ace17ed-c415-4ce8-9ed1-ddf1d9f312ba"
      },
      "source": [
        "fig = plt.figure()\n",
        "fig.subplots_adjust(hspace=0.6, wspace=0.6)\n",
        "fig.set_size_inches(10, 10)\n",
        "plt.subplot(2, 2, 1)\n",
        "sns.lineplot(np.arange(0, len(bs)), bs).set_title(\"Bias\")\n",
        "\n",
        "plt.subplot(2, 2, 2)\n",
        "sns.lineplot(np.arange(0, len(ws)), ws).set_title(\"Weight\")\n",
        "\n",
        "plt.subplot(2, 2, 3)\n",
        "sns.lineplot(np.arange(0, len(losses)), losses).set_title(\"loss\")\n",
        "\n",
        "plt.subplot(2, 2, 4)\n",
        "sns.lineplot(np.arange(0, len(accs)), accs).set_title(\"accuracy\")\n",
        "\n",
        "\n",
        "fig.show()"
      ],
      "execution_count": 61,
      "outputs": [
        {
          "output_type": "display_data",
          "data": {
            "image/png": "[encoded data removed]",
            "text/plain": [
              "<Figure size 720x720 with 4 Axes>"
            ]
          },
          "metadata": {
            "tags": []
          }
        }
      ]
    }
  ]
}